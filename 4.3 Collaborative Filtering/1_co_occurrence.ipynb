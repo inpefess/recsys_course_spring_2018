{
 "cells": [
  {
   "cell_type": "code",
   "execution_count": 1,
   "metadata": {
    "slideshow": {
     "slide_type": "slide"
    }
   },
   "outputs": [],
   "source": [
    "# создаём сессию Spark\n",
    "from pyspark.sql import SparkSession\n",
    "\n",
    "spark = (\n",
    "    SparkSession\n",
    "    .builder\n",
    "    .master(\"local[*]\")\n",
    "    .config(\"spark.driver.memory\", \"4g\")\n",
    "    .getOrCreate()\n",
    ")"
   ]
  },
  {
   "cell_type": "code",
   "execution_count": 2,
   "metadata": {
    "slideshow": {
     "slide_type": "slide"
    }
   },
   "outputs": [],
   "source": [
    "# файл с оценками - user * item матрица\n",
    "import os\n",
    "import pyspark.sql.functions as sql_func\n",
    "\n",
    "DATA_DIR = \"/data/ml-latest\"\n",
    "ratings = (\n",
    "    spark\n",
    "    .read\n",
    "    .csv(\n",
    "        os.path.join(DATA_DIR, \"ratings.csv\"),\n",
    "        header=True,\n",
    "        inferSchema=True\n",
    "    )\n",
    "    .drop(\"timestamp\")\n",
    "    .cache()\n",
    ")"
   ]
  },
  {
   "cell_type": "code",
   "execution_count": 3,
   "metadata": {
    "slideshow": {
     "slide_type": "slide"
    }
   },
   "outputs": [
    {
     "name": "stdout",
     "output_type": "stream",
     "text": [
      "CPU times: user 4.97 s, sys: 1.36 s, total: 6.33 s\n",
      "Wall time: 1h 16min 48s\n"
     ]
    }
   ],
   "source": [
    "%%time\n",
    "(\n",
    "    ratings.alias(\"one\")\n",
    "    .join(ratings.alias(\"two\"), \"userId\")\n",
    "    # расстояние симметрично,\n",
    "    # поэтому считаем только в одну сторону\n",
    "    .where(\"one.movieId > two.movieId\")\n",
    "    .groupBy(\"one.movieId\", \"two.movieId\")\n",
    "    .agg(\n",
    "        sql_func.sum(\n",
    "            sql_func.col(\"one.rating\") *\n",
    "            sql_func.col(\"two.rating\")\n",
    "        ).alias(\"inner_product\"),\n",
    "        sql_func.count(\"userId\").alias(\"watched_both\")\n",
    "    ).select(\n",
    "        sql_func.col(\"one.movieId\").alias(\"movieId1\"),\n",
    "        sql_func.col(\"two.movieId\").alias(\"movieId2\"),\n",
    "        sql_func.col(\"watched_both\"),\n",
    "        sql_func.col(\"inner_product\")\n",
    "    )\n",
    "    .write\n",
    "    .mode(\"overwrite\")\n",
    "    .parquet(\"/data/other/half_cooccurrences.parquet\")\n",
    ")"
   ]
  },
  {
   "cell_type": "markdown",
   "metadata": {
    "slideshow": {
     "slide_type": "slide"
    }
   },
   "source": [
    "Проект, посвящённый реализации популярных алгоритмов машинного обучения и анализа данных на традиционных SQL движках (Massive Parallel Computing, такие как Greenplum, Teradata, Netezza и другие):\n",
    "\n",
    "[Apache MADlib](https://madlib.apache.org)\n",
    "\n",
    "Вполне можно использовать и для других мощных SQL движков (HP Vertica, Oracle, PostgreSQL, PrestoDB)"
   ]
  },
  {
   "cell_type": "code",
   "execution_count": null,
   "metadata": {},
   "outputs": [],
   "source": []
  }
 ],
 "metadata": {
  "celltoolbar": "Slideshow",
  "kernelspec": {
   "display_name": "Python 3",
   "language": "python",
   "name": "python3"
  },
  "language_info": {
   "codemirror_mode": {
    "name": "ipython",
    "version": 3
   },
   "file_extension": ".py",
   "mimetype": "text/x-python",
   "name": "python",
   "nbconvert_exporter": "python",
   "pygments_lexer": "ipython3",
   "version": "3.6.3"
  }
 },
 "nbformat": 4,
 "nbformat_minor": 2
}
