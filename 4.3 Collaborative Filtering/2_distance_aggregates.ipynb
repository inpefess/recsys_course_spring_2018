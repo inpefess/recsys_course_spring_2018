{
 "cells": [
  {
   "cell_type": "code",
   "execution_count": 1,
   "metadata": {
    "slideshow": {
     "slide_type": "slide"
    }
   },
   "outputs": [],
   "source": [
    "# создаём сессию Spark\n",
    "from pyspark.sql import SparkSession\n",
    "\n",
    "spark = (\n",
    "    SparkSession\n",
    "    .builder\n",
    "    .master(\"local[*]\")\n",
    "    .config(\"spark.driver.memory\", \"6g\")\n",
    "    .getOrCreate()\n",
    ")"
   ]
  },
  {
   "cell_type": "code",
   "execution_count": 2,
   "metadata": {
    "slideshow": {
     "slide_type": "slide"
    }
   },
   "outputs": [],
   "source": [
    "# файл с оценками - user * item матрица\n",
    "import os\n",
    "import pyspark.sql.functions as sql_func\n",
    "\n",
    "DATA_DIR = \"/data/ml-latest\"\n",
    "ratings = (\n",
    "    spark\n",
    "    .read\n",
    "    .csv(\n",
    "        os.path.join(DATA_DIR, \"ratings.csv\"),\n",
    "        header=True,\n",
    "        inferSchema=True\n",
    "    )\n",
    "    .drop(\"timestamp\")\n",
    ")"
   ]
  },
  {
   "cell_type": "code",
   "execution_count": 3,
   "metadata": {
    "slideshow": {
     "slide_type": "slide"
    }
   },
   "outputs": [],
   "source": [
    "popularities = (\n",
    "    ratings\n",
    "    .groupBy(\"movieId\")\n",
    "    .agg(\n",
    "        sql_func.sum(sql_func.pow(\n",
    "            sql_func.col(\"rating\"),\n",
    "            2\n",
    "        )).alias(\"sum_of_squares\"),\n",
    "        sql_func.count(\"userId\").alias(\"watched_one\")\n",
    "    )\n",
    "    .cache()\n",
    ")"
   ]
  },
  {
   "cell_type": "code",
   "execution_count": 4,
   "metadata": {
    "slideshow": {
     "slide_type": "slide"
    }
   },
   "outputs": [],
   "source": [
    "half_cooccurrences = (\n",
    "    spark\n",
    "    .read\n",
    "    .parquet(\"/data/other/half_cooccurrences.parquet\")\n",
    ")"
   ]
  },
  {
   "cell_type": "code",
   "execution_count": 5,
   "metadata": {
    "slideshow": {
     "slide_type": "slide"
    }
   },
   "outputs": [],
   "source": [
    "# агрегаты для расчёта расстояний - считается минут 15\n",
    "(\n",
    "    half_cooccurrences\n",
    "    .join(\n",
    "        popularities.alias(\"pop1\"),\n",
    "        sql_func.col(\"pop1.movieId\") == sql_func.col(\"movieId1\")\n",
    "    )\n",
    "    .join(\n",
    "        popularities.alias(\"pop2\"),\n",
    "        sql_func.col(\"pop2.movieId\") == sql_func.col(\"movieId2\")\n",
    "    )\n",
    "    .select(\n",
    "        sql_func.col(\"movieId1\"),\n",
    "        sql_func.col(\"movieId2\"),\n",
    "        sql_func.col(\"pop1.watched_one\").alias(\"watched1\"),\n",
    "        sql_func.col(\"pop2.watched_one\").alias(\"watched2\"),\n",
    "        sql_func.col(\"pop1.sum_of_squares\").alias(\"sum_of_squares1\"),\n",
    "        sql_func.col(\"pop2.sum_of_squares\").alias(\"sum_of_squares2\"),\n",
    "        sql_func.col(\"inner_product\"),\n",
    "        sql_func.col(\"watched_both\")\n",
    "    )\n",
    "    .write\n",
    "    .mode(\"overwrite\")\n",
    "    .parquet(\"/data/other/pre_distance_matrix.parquet\")\n",
    ")"
   ]
  },
  {
   "cell_type": "code",
   "execution_count": null,
   "metadata": {},
   "outputs": [],
   "source": []
  }
 ],
 "metadata": {
  "celltoolbar": "Slideshow",
  "kernelspec": {
   "display_name": "Python 3",
   "language": "python",
   "name": "python3"
  },
  "language_info": {
   "codemirror_mode": {
    "name": "ipython",
    "version": 3
   },
   "file_extension": ".py",
   "mimetype": "text/x-python",
   "name": "python",
   "nbconvert_exporter": "python",
   "pygments_lexer": "ipython3",
   "version": "3.6.3"
  }
 },
 "nbformat": 4,
 "nbformat_minor": 2
}
