{
 "cells": [
  {
   "cell_type": "code",
   "execution_count": 1,
   "metadata": {
    "slideshow": {
     "slide_type": "slide"
    }
   },
   "outputs": [],
   "source": [
    "%matplotlib inline\n",
    "import matplotlib.pyplot as plt\n",
    "import seaborn as sns\n",
    "\n",
    "DATA_DIR = \"/data/ml-latest\""
   ]
  },
  {
   "cell_type": "code",
   "execution_count": 2,
   "metadata": {
    "slideshow": {
     "slide_type": "fragment"
    }
   },
   "outputs": [
    {
     "name": "stdout",
     "output_type": "stream",
     "text": [
      "_SUCCESS\r\n",
      "part-00000-b69c4d7d-be7d-4701-9ce7-f5d64ebf4fc9-c000.snappy.parquet\r\n",
      "part-00001-b69c4d7d-be7d-4701-9ce7-f5d64ebf4fc9-c000.snappy.parquet\r\n",
      "part-00002-b69c4d7d-be7d-4701-9ce7-f5d64ebf4fc9-c000.snappy.parquet\r\n",
      "part-00003-b69c4d7d-be7d-4701-9ce7-f5d64ebf4fc9-c000.snappy.parquet\r\n",
      "part-00004-b69c4d7d-be7d-4701-9ce7-f5d64ebf4fc9-c000.snappy.parquet\r\n",
      "part-00005-b69c4d7d-be7d-4701-9ce7-f5d64ebf4fc9-c000.snappy.parquet\r\n",
      "part-00006-b69c4d7d-be7d-4701-9ce7-f5d64ebf4fc9-c000.snappy.parquet\r\n",
      "part-00007-b69c4d7d-be7d-4701-9ce7-f5d64ebf4fc9-c000.snappy.parquet\r\n",
      "part-00008-b69c4d7d-be7d-4701-9ce7-f5d64ebf4fc9-c000.snappy.parquet\r\n",
      "part-00009-b69c4d7d-be7d-4701-9ce7-f5d64ebf4fc9-c000.snappy.parquet\r\n",
      "part-00010-b69c4d7d-be7d-4701-9ce7-f5d64ebf4fc9-c000.snappy.parquet\r\n",
      "part-00011-b69c4d7d-be7d-4701-9ce7-f5d64ebf4fc9-c000.snappy.parquet\r\n",
      "part-00012-b69c4d7d-be7d-4701-9ce7-f5d64ebf4fc9-c000.snappy.parquet\r\n",
      "part-00013-b69c4d7d-be7d-4701-9ce7-f5d64ebf4fc9-c000.snappy.parquet\r\n",
      "part-00014-b69c4d7d-be7d-4701-9ce7-f5d64ebf4fc9-c000.snappy.parquet\r\n",
      "part-00015-b69c4d7d-be7d-4701-9ce7-f5d64ebf4fc9-c000.snappy.parquet\r\n",
      "part-00016-b69c4d7d-be7d-4701-9ce7-f5d64ebf4fc9-c000.snappy.parquet\r\n",
      "part-00017-b69c4d7d-be7d-4701-9ce7-f5d64ebf4fc9-c000.snappy.parquet\r\n",
      "part-00018-b69c4d7d-be7d-4701-9ce7-f5d64ebf4fc9-c000.snappy.parquet\r\n",
      "part-00019-b69c4d7d-be7d-4701-9ce7-f5d64ebf4fc9-c000.snappy.parquet\r\n",
      "part-00020-b69c4d7d-be7d-4701-9ce7-f5d64ebf4fc9-c000.snappy.parquet\r\n",
      "part-00021-b69c4d7d-be7d-4701-9ce7-f5d64ebf4fc9-c000.snappy.parquet\r\n",
      "part-00022-b69c4d7d-be7d-4701-9ce7-f5d64ebf4fc9-c000.snappy.parquet\r\n",
      "part-00023-b69c4d7d-be7d-4701-9ce7-f5d64ebf4fc9-c000.snappy.parquet\r\n",
      "part-00024-b69c4d7d-be7d-4701-9ce7-f5d64ebf4fc9-c000.snappy.parquet\r\n",
      "part-00025-b69c4d7d-be7d-4701-9ce7-f5d64ebf4fc9-c000.snappy.parquet\r\n",
      "part-00026-b69c4d7d-be7d-4701-9ce7-f5d64ebf4fc9-c000.snappy.parquet\r\n",
      "part-00027-b69c4d7d-be7d-4701-9ce7-f5d64ebf4fc9-c000.snappy.parquet\r\n",
      "part-00028-b69c4d7d-be7d-4701-9ce7-f5d64ebf4fc9-c000.snappy.parquet\r\n",
      "part-00029-b69c4d7d-be7d-4701-9ce7-f5d64ebf4fc9-c000.snappy.parquet\r\n",
      "part-00030-b69c4d7d-be7d-4701-9ce7-f5d64ebf4fc9-c000.snappy.parquet\r\n",
      "part-00031-b69c4d7d-be7d-4701-9ce7-f5d64ebf4fc9-c000.snappy.parquet\r\n",
      "part-00032-b69c4d7d-be7d-4701-9ce7-f5d64ebf4fc9-c000.snappy.parquet\r\n",
      "part-00033-b69c4d7d-be7d-4701-9ce7-f5d64ebf4fc9-c000.snappy.parquet\r\n",
      "part-00034-b69c4d7d-be7d-4701-9ce7-f5d64ebf4fc9-c000.snappy.parquet\r\n",
      "part-00035-b69c4d7d-be7d-4701-9ce7-f5d64ebf4fc9-c000.snappy.parquet\r\n",
      "part-00036-b69c4d7d-be7d-4701-9ce7-f5d64ebf4fc9-c000.snappy.parquet\r\n",
      "part-00037-b69c4d7d-be7d-4701-9ce7-f5d64ebf4fc9-c000.snappy.parquet\r\n",
      "part-00038-b69c4d7d-be7d-4701-9ce7-f5d64ebf4fc9-c000.snappy.parquet\r\n",
      "part-00039-b69c4d7d-be7d-4701-9ce7-f5d64ebf4fc9-c000.snappy.parquet\r\n",
      "part-00040-b69c4d7d-be7d-4701-9ce7-f5d64ebf4fc9-c000.snappy.parquet\r\n",
      "part-00041-b69c4d7d-be7d-4701-9ce7-f5d64ebf4fc9-c000.snappy.parquet\r\n",
      "part-00042-b69c4d7d-be7d-4701-9ce7-f5d64ebf4fc9-c000.snappy.parquet\r\n",
      "part-00043-b69c4d7d-be7d-4701-9ce7-f5d64ebf4fc9-c000.snappy.parquet\r\n",
      "part-00044-b69c4d7d-be7d-4701-9ce7-f5d64ebf4fc9-c000.snappy.parquet\r\n",
      "part-00045-b69c4d7d-be7d-4701-9ce7-f5d64ebf4fc9-c000.snappy.parquet\r\n",
      "part-00046-b69c4d7d-be7d-4701-9ce7-f5d64ebf4fc9-c000.snappy.parquet\r\n",
      "part-00047-b69c4d7d-be7d-4701-9ce7-f5d64ebf4fc9-c000.snappy.parquet\r\n",
      "part-00048-b69c4d7d-be7d-4701-9ce7-f5d64ebf4fc9-c000.snappy.parquet\r\n",
      "part-00049-b69c4d7d-be7d-4701-9ce7-f5d64ebf4fc9-c000.snappy.parquet\r\n",
      "part-00050-b69c4d7d-be7d-4701-9ce7-f5d64ebf4fc9-c000.snappy.parquet\r\n",
      "part-00051-b69c4d7d-be7d-4701-9ce7-f5d64ebf4fc9-c000.snappy.parquet\r\n",
      "part-00052-b69c4d7d-be7d-4701-9ce7-f5d64ebf4fc9-c000.snappy.parquet\r\n",
      "part-00053-b69c4d7d-be7d-4701-9ce7-f5d64ebf4fc9-c000.snappy.parquet\r\n",
      "part-00054-b69c4d7d-be7d-4701-9ce7-f5d64ebf4fc9-c000.snappy.parquet\r\n",
      "part-00055-b69c4d7d-be7d-4701-9ce7-f5d64ebf4fc9-c000.snappy.parquet\r\n",
      "part-00056-b69c4d7d-be7d-4701-9ce7-f5d64ebf4fc9-c000.snappy.parquet\r\n",
      "part-00057-b69c4d7d-be7d-4701-9ce7-f5d64ebf4fc9-c000.snappy.parquet\r\n",
      "part-00058-b69c4d7d-be7d-4701-9ce7-f5d64ebf4fc9-c000.snappy.parquet\r\n",
      "part-00059-b69c4d7d-be7d-4701-9ce7-f5d64ebf4fc9-c000.snappy.parquet\r\n",
      "part-00060-b69c4d7d-be7d-4701-9ce7-f5d64ebf4fc9-c000.snappy.parquet\r\n",
      "part-00061-b69c4d7d-be7d-4701-9ce7-f5d64ebf4fc9-c000.snappy.parquet\r\n",
      "part-00062-b69c4d7d-be7d-4701-9ce7-f5d64ebf4fc9-c000.snappy.parquet\r\n",
      "part-00063-b69c4d7d-be7d-4701-9ce7-f5d64ebf4fc9-c000.snappy.parquet\r\n",
      "part-00064-b69c4d7d-be7d-4701-9ce7-f5d64ebf4fc9-c000.snappy.parquet\r\n",
      "part-00065-b69c4d7d-be7d-4701-9ce7-f5d64ebf4fc9-c000.snappy.parquet\r\n",
      "part-00066-b69c4d7d-be7d-4701-9ce7-f5d64ebf4fc9-c000.snappy.parquet\r\n",
      "part-00067-b69c4d7d-be7d-4701-9ce7-f5d64ebf4fc9-c000.snappy.parquet\r\n",
      "part-00068-b69c4d7d-be7d-4701-9ce7-f5d64ebf4fc9-c000.snappy.parquet\r\n",
      "part-00069-b69c4d7d-be7d-4701-9ce7-f5d64ebf4fc9-c000.snappy.parquet\r\n",
      "part-00070-b69c4d7d-be7d-4701-9ce7-f5d64ebf4fc9-c000.snappy.parquet\r\n",
      "part-00071-b69c4d7d-be7d-4701-9ce7-f5d64ebf4fc9-c000.snappy.parquet\r\n",
      "part-00072-b69c4d7d-be7d-4701-9ce7-f5d64ebf4fc9-c000.snappy.parquet\r\n",
      "part-00073-b69c4d7d-be7d-4701-9ce7-f5d64ebf4fc9-c000.snappy.parquet\r\n",
      "part-00074-b69c4d7d-be7d-4701-9ce7-f5d64ebf4fc9-c000.snappy.parquet\r\n",
      "part-00075-b69c4d7d-be7d-4701-9ce7-f5d64ebf4fc9-c000.snappy.parquet\r\n",
      "part-00076-b69c4d7d-be7d-4701-9ce7-f5d64ebf4fc9-c000.snappy.parquet\r\n",
      "part-00077-b69c4d7d-be7d-4701-9ce7-f5d64ebf4fc9-c000.snappy.parquet\r\n",
      "part-00078-b69c4d7d-be7d-4701-9ce7-f5d64ebf4fc9-c000.snappy.parquet\r\n",
      "part-00079-b69c4d7d-be7d-4701-9ce7-f5d64ebf4fc9-c000.snappy.parquet\r\n",
      "part-00080-b69c4d7d-be7d-4701-9ce7-f5d64ebf4fc9-c000.snappy.parquet\r\n",
      "part-00081-b69c4d7d-be7d-4701-9ce7-f5d64ebf4fc9-c000.snappy.parquet\r\n",
      "part-00082-b69c4d7d-be7d-4701-9ce7-f5d64ebf4fc9-c000.snappy.parquet\r\n",
      "part-00083-b69c4d7d-be7d-4701-9ce7-f5d64ebf4fc9-c000.snappy.parquet\r\n",
      "part-00084-b69c4d7d-be7d-4701-9ce7-f5d64ebf4fc9-c000.snappy.parquet\r\n",
      "part-00085-b69c4d7d-be7d-4701-9ce7-f5d64ebf4fc9-c000.snappy.parquet\r\n",
      "part-00086-b69c4d7d-be7d-4701-9ce7-f5d64ebf4fc9-c000.snappy.parquet\r\n",
      "part-00087-b69c4d7d-be7d-4701-9ce7-f5d64ebf4fc9-c000.snappy.parquet\r\n",
      "part-00088-b69c4d7d-be7d-4701-9ce7-f5d64ebf4fc9-c000.snappy.parquet\r\n",
      "part-00089-b69c4d7d-be7d-4701-9ce7-f5d64ebf4fc9-c000.snappy.parquet\r\n",
      "part-00090-b69c4d7d-be7d-4701-9ce7-f5d64ebf4fc9-c000.snappy.parquet\r\n",
      "part-00091-b69c4d7d-be7d-4701-9ce7-f5d64ebf4fc9-c000.snappy.parquet\r\n",
      "part-00092-b69c4d7d-be7d-4701-9ce7-f5d64ebf4fc9-c000.snappy.parquet\r\n",
      "part-00093-b69c4d7d-be7d-4701-9ce7-f5d64ebf4fc9-c000.snappy.parquet\r\n",
      "part-00094-b69c4d7d-be7d-4701-9ce7-f5d64ebf4fc9-c000.snappy.parquet\r\n",
      "part-00095-b69c4d7d-be7d-4701-9ce7-f5d64ebf4fc9-c000.snappy.parquet\r\n",
      "part-00096-b69c4d7d-be7d-4701-9ce7-f5d64ebf4fc9-c000.snappy.parquet\r\n",
      "part-00097-b69c4d7d-be7d-4701-9ce7-f5d64ebf4fc9-c000.snappy.parquet\r\n",
      "part-00098-b69c4d7d-be7d-4701-9ce7-f5d64ebf4fc9-c000.snappy.parquet\r\n",
      "part-00099-b69c4d7d-be7d-4701-9ce7-f5d64ebf4fc9-c000.snappy.parquet\r\n",
      "part-00100-b69c4d7d-be7d-4701-9ce7-f5d64ebf4fc9-c000.snappy.parquet\r\n",
      "part-00101-b69c4d7d-be7d-4701-9ce7-f5d64ebf4fc9-c000.snappy.parquet\r\n",
      "part-00102-b69c4d7d-be7d-4701-9ce7-f5d64ebf4fc9-c000.snappy.parquet\r\n",
      "part-00103-b69c4d7d-be7d-4701-9ce7-f5d64ebf4fc9-c000.snappy.parquet\r\n",
      "part-00104-b69c4d7d-be7d-4701-9ce7-f5d64ebf4fc9-c000.snappy.parquet\r\n",
      "part-00105-b69c4d7d-be7d-4701-9ce7-f5d64ebf4fc9-c000.snappy.parquet\r\n",
      "part-00106-b69c4d7d-be7d-4701-9ce7-f5d64ebf4fc9-c000.snappy.parquet\r\n",
      "part-00107-b69c4d7d-be7d-4701-9ce7-f5d64ebf4fc9-c000.snappy.parquet\r\n",
      "part-00108-b69c4d7d-be7d-4701-9ce7-f5d64ebf4fc9-c000.snappy.parquet\r\n",
      "part-00109-b69c4d7d-be7d-4701-9ce7-f5d64ebf4fc9-c000.snappy.parquet\r\n",
      "part-00110-b69c4d7d-be7d-4701-9ce7-f5d64ebf4fc9-c000.snappy.parquet\r\n",
      "part-00111-b69c4d7d-be7d-4701-9ce7-f5d64ebf4fc9-c000.snappy.parquet\r\n",
      "part-00112-b69c4d7d-be7d-4701-9ce7-f5d64ebf4fc9-c000.snappy.parquet\r\n",
      "part-00113-b69c4d7d-be7d-4701-9ce7-f5d64ebf4fc9-c000.snappy.parquet\r\n",
      "part-00114-b69c4d7d-be7d-4701-9ce7-f5d64ebf4fc9-c000.snappy.parquet\r\n",
      "part-00115-b69c4d7d-be7d-4701-9ce7-f5d64ebf4fc9-c000.snappy.parquet\r\n",
      "part-00116-b69c4d7d-be7d-4701-9ce7-f5d64ebf4fc9-c000.snappy.parquet\r\n",
      "part-00117-b69c4d7d-be7d-4701-9ce7-f5d64ebf4fc9-c000.snappy.parquet\r\n",
      "part-00118-b69c4d7d-be7d-4701-9ce7-f5d64ebf4fc9-c000.snappy.parquet\r\n",
      "part-00119-b69c4d7d-be7d-4701-9ce7-f5d64ebf4fc9-c000.snappy.parquet\r\n",
      "part-00120-b69c4d7d-be7d-4701-9ce7-f5d64ebf4fc9-c000.snappy.parquet\r\n",
      "part-00121-b69c4d7d-be7d-4701-9ce7-f5d64ebf4fc9-c000.snappy.parquet\r\n",
      "part-00122-b69c4d7d-be7d-4701-9ce7-f5d64ebf4fc9-c000.snappy.parquet\r\n",
      "part-00123-b69c4d7d-be7d-4701-9ce7-f5d64ebf4fc9-c000.snappy.parquet\r\n",
      "part-00124-b69c4d7d-be7d-4701-9ce7-f5d64ebf4fc9-c000.snappy.parquet\r\n",
      "part-00125-b69c4d7d-be7d-4701-9ce7-f5d64ebf4fc9-c000.snappy.parquet\r\n",
      "part-00126-b69c4d7d-be7d-4701-9ce7-f5d64ebf4fc9-c000.snappy.parquet\r\n",
      "part-00127-b69c4d7d-be7d-4701-9ce7-f5d64ebf4fc9-c000.snappy.parquet\r\n",
      "part-00128-b69c4d7d-be7d-4701-9ce7-f5d64ebf4fc9-c000.snappy.parquet\r\n",
      "part-00129-b69c4d7d-be7d-4701-9ce7-f5d64ebf4fc9-c000.snappy.parquet\r\n",
      "part-00130-b69c4d7d-be7d-4701-9ce7-f5d64ebf4fc9-c000.snappy.parquet\r\n",
      "part-00131-b69c4d7d-be7d-4701-9ce7-f5d64ebf4fc9-c000.snappy.parquet\r\n",
      "part-00132-b69c4d7d-be7d-4701-9ce7-f5d64ebf4fc9-c000.snappy.parquet\r\n",
      "part-00133-b69c4d7d-be7d-4701-9ce7-f5d64ebf4fc9-c000.snappy.parquet\r\n",
      "part-00134-b69c4d7d-be7d-4701-9ce7-f5d64ebf4fc9-c000.snappy.parquet\r\n",
      "part-00135-b69c4d7d-be7d-4701-9ce7-f5d64ebf4fc9-c000.snappy.parquet\r\n",
      "part-00136-b69c4d7d-be7d-4701-9ce7-f5d64ebf4fc9-c000.snappy.parquet\r\n",
      "part-00137-b69c4d7d-be7d-4701-9ce7-f5d64ebf4fc9-c000.snappy.parquet\r\n",
      "part-00138-b69c4d7d-be7d-4701-9ce7-f5d64ebf4fc9-c000.snappy.parquet\r\n",
      "part-00139-b69c4d7d-be7d-4701-9ce7-f5d64ebf4fc9-c000.snappy.parquet\r\n",
      "part-00140-b69c4d7d-be7d-4701-9ce7-f5d64ebf4fc9-c000.snappy.parquet\r\n",
      "part-00141-b69c4d7d-be7d-4701-9ce7-f5d64ebf4fc9-c000.snappy.parquet\r\n",
      "part-00142-b69c4d7d-be7d-4701-9ce7-f5d64ebf4fc9-c000.snappy.parquet\r\n",
      "part-00143-b69c4d7d-be7d-4701-9ce7-f5d64ebf4fc9-c000.snappy.parquet\r\n",
      "part-00144-b69c4d7d-be7d-4701-9ce7-f5d64ebf4fc9-c000.snappy.parquet\r\n",
      "part-00145-b69c4d7d-be7d-4701-9ce7-f5d64ebf4fc9-c000.snappy.parquet\r\n",
      "part-00146-b69c4d7d-be7d-4701-9ce7-f5d64ebf4fc9-c000.snappy.parquet\r\n",
      "part-00147-b69c4d7d-be7d-4701-9ce7-f5d64ebf4fc9-c000.snappy.parquet\r\n",
      "part-00148-b69c4d7d-be7d-4701-9ce7-f5d64ebf4fc9-c000.snappy.parquet\r\n",
      "part-00149-b69c4d7d-be7d-4701-9ce7-f5d64ebf4fc9-c000.snappy.parquet\r\n",
      "part-00150-b69c4d7d-be7d-4701-9ce7-f5d64ebf4fc9-c000.snappy.parquet\r\n",
      "part-00151-b69c4d7d-be7d-4701-9ce7-f5d64ebf4fc9-c000.snappy.parquet\r\n",
      "part-00152-b69c4d7d-be7d-4701-9ce7-f5d64ebf4fc9-c000.snappy.parquet\r\n",
      "part-00153-b69c4d7d-be7d-4701-9ce7-f5d64ebf4fc9-c000.snappy.parquet\r\n",
      "part-00154-b69c4d7d-be7d-4701-9ce7-f5d64ebf4fc9-c000.snappy.parquet\r\n",
      "part-00155-b69c4d7d-be7d-4701-9ce7-f5d64ebf4fc9-c000.snappy.parquet\r\n",
      "part-00156-b69c4d7d-be7d-4701-9ce7-f5d64ebf4fc9-c000.snappy.parquet\r\n",
      "part-00157-b69c4d7d-be7d-4701-9ce7-f5d64ebf4fc9-c000.snappy.parquet\r\n",
      "part-00158-b69c4d7d-be7d-4701-9ce7-f5d64ebf4fc9-c000.snappy.parquet\r\n",
      "part-00159-b69c4d7d-be7d-4701-9ce7-f5d64ebf4fc9-c000.snappy.parquet\r\n",
      "part-00160-b69c4d7d-be7d-4701-9ce7-f5d64ebf4fc9-c000.snappy.parquet\r\n",
      "part-00161-b69c4d7d-be7d-4701-9ce7-f5d64ebf4fc9-c000.snappy.parquet\r\n",
      "part-00162-b69c4d7d-be7d-4701-9ce7-f5d64ebf4fc9-c000.snappy.parquet\r\n",
      "part-00163-b69c4d7d-be7d-4701-9ce7-f5d64ebf4fc9-c000.snappy.parquet\r\n",
      "part-00164-b69c4d7d-be7d-4701-9ce7-f5d64ebf4fc9-c000.snappy.parquet\r\n",
      "part-00165-b69c4d7d-be7d-4701-9ce7-f5d64ebf4fc9-c000.snappy.parquet\r\n",
      "part-00166-b69c4d7d-be7d-4701-9ce7-f5d64ebf4fc9-c000.snappy.parquet\r\n",
      "part-00167-b69c4d7d-be7d-4701-9ce7-f5d64ebf4fc9-c000.snappy.parquet\r\n",
      "part-00168-b69c4d7d-be7d-4701-9ce7-f5d64ebf4fc9-c000.snappy.parquet\r\n",
      "part-00169-b69c4d7d-be7d-4701-9ce7-f5d64ebf4fc9-c000.snappy.parquet\r\n",
      "part-00170-b69c4d7d-be7d-4701-9ce7-f5d64ebf4fc9-c000.snappy.parquet\r\n",
      "part-00171-b69c4d7d-be7d-4701-9ce7-f5d64ebf4fc9-c000.snappy.parquet\r\n",
      "part-00172-b69c4d7d-be7d-4701-9ce7-f5d64ebf4fc9-c000.snappy.parquet\r\n",
      "part-00173-b69c4d7d-be7d-4701-9ce7-f5d64ebf4fc9-c000.snappy.parquet\r\n",
      "part-00174-b69c4d7d-be7d-4701-9ce7-f5d64ebf4fc9-c000.snappy.parquet\r\n",
      "part-00175-b69c4d7d-be7d-4701-9ce7-f5d64ebf4fc9-c000.snappy.parquet\r\n",
      "part-00176-b69c4d7d-be7d-4701-9ce7-f5d64ebf4fc9-c000.snappy.parquet\r\n",
      "part-00177-b69c4d7d-be7d-4701-9ce7-f5d64ebf4fc9-c000.snappy.parquet\r\n",
      "part-00178-b69c4d7d-be7d-4701-9ce7-f5d64ebf4fc9-c000.snappy.parquet\r\n",
      "part-00179-b69c4d7d-be7d-4701-9ce7-f5d64ebf4fc9-c000.snappy.parquet\r\n",
      "part-00180-b69c4d7d-be7d-4701-9ce7-f5d64ebf4fc9-c000.snappy.parquet\r\n",
      "part-00181-b69c4d7d-be7d-4701-9ce7-f5d64ebf4fc9-c000.snappy.parquet\r\n",
      "part-00182-b69c4d7d-be7d-4701-9ce7-f5d64ebf4fc9-c000.snappy.parquet\r\n",
      "part-00183-b69c4d7d-be7d-4701-9ce7-f5d64ebf4fc9-c000.snappy.parquet\r\n",
      "part-00184-b69c4d7d-be7d-4701-9ce7-f5d64ebf4fc9-c000.snappy.parquet\r\n",
      "part-00185-b69c4d7d-be7d-4701-9ce7-f5d64ebf4fc9-c000.snappy.parquet\r\n",
      "part-00186-b69c4d7d-be7d-4701-9ce7-f5d64ebf4fc9-c000.snappy.parquet\r\n",
      "part-00187-b69c4d7d-be7d-4701-9ce7-f5d64ebf4fc9-c000.snappy.parquet\r\n",
      "part-00188-b69c4d7d-be7d-4701-9ce7-f5d64ebf4fc9-c000.snappy.parquet\r\n",
      "part-00189-b69c4d7d-be7d-4701-9ce7-f5d64ebf4fc9-c000.snappy.parquet\r\n",
      "part-00190-b69c4d7d-be7d-4701-9ce7-f5d64ebf4fc9-c000.snappy.parquet\r\n",
      "part-00191-b69c4d7d-be7d-4701-9ce7-f5d64ebf4fc9-c000.snappy.parquet\r\n",
      "part-00192-b69c4d7d-be7d-4701-9ce7-f5d64ebf4fc9-c000.snappy.parquet\r\n",
      "part-00193-b69c4d7d-be7d-4701-9ce7-f5d64ebf4fc9-c000.snappy.parquet\r\n",
      "part-00194-b69c4d7d-be7d-4701-9ce7-f5d64ebf4fc9-c000.snappy.parquet\r\n",
      "part-00195-b69c4d7d-be7d-4701-9ce7-f5d64ebf4fc9-c000.snappy.parquet\r\n",
      "part-00196-b69c4d7d-be7d-4701-9ce7-f5d64ebf4fc9-c000.snappy.parquet\r\n",
      "part-00197-b69c4d7d-be7d-4701-9ce7-f5d64ebf4fc9-c000.snappy.parquet\r\n",
      "part-00198-b69c4d7d-be7d-4701-9ce7-f5d64ebf4fc9-c000.snappy.parquet\r\n",
      "part-00199-b69c4d7d-be7d-4701-9ce7-f5d64ebf4fc9-c000.snappy.parquet\r\n"
     ]
    }
   ],
   "source": [
    "# мы будем использовать данные, сохраннённые в предыдущем ноутбуке\n",
    "!ls {DATA_DIR}/tf_idf.parquet"
   ]
  },
  {
   "cell_type": "code",
   "execution_count": 3,
   "metadata": {
    "slideshow": {
     "slide_type": "slide"
    }
   },
   "outputs": [],
   "source": [
    "# создаём сессию Spark\n",
    "from pyspark.sql import SparkSession\n",
    "\n",
    "spark = (\n",
    "    SparkSession\n",
    "    .builder\n",
    "    .master(\"local[*]\")\n",
    "    .config(\"spark.driver.memory\", \"4g\")\n",
    "    .getOrCreate()\n",
    ")"
   ]
  },
  {
   "cell_type": "code",
   "execution_count": 4,
   "metadata": {
    "slideshow": {
     "slide_type": "slide"
    }
   },
   "outputs": [
    {
     "name": "stdout",
     "output_type": "stream",
     "text": [
      "+-------+--------------------+--------------------+\n",
      "|movieId|               title|              tf_idf|\n",
      "+-------+--------------------+--------------------+\n",
      "|     35|   Carrington (1995)|(1024,[8,74,189,2...|\n",
      "|    503| New Age, The (1994)|(1024,[434,769,82...|\n",
      "|    583|Dear Diary (Caro ...|(1024,[434,741,84...|\n",
      "|    594|Snow White and th...|(1024,[29,52,60,8...|\n",
      "|    610|  Heavy Metal (1981)|(1024,[32,93,112,...|\n",
      "|    614|       Loaded (1994)|(1024,[263,434],[...|\n",
      "|    761| Phantom, The (1996)|(1024,[43,169,196...|\n",
      "|    880|Island of Dr. Mor...|(1024,[44,81,219,...|\n",
      "|   1369|I Can't Sleep (J'...|(1024,[263,434],[...|\n",
      "|   1519|Broken English (1...|(1024,[434,829],[...|\n",
      "|   1589|     Cop Land (1997)|(1024,[37,61,164,...|\n",
      "|   1815|         Eden (1997)|(1024,[434,829],[...|\n",
      "|   1881|Quest for Camelot...|(1024,[57,165,337...|\n",
      "|   2080|Lady and the Tram...|(1024,[29,37,83,1...|\n",
      "|   2324|Life Is Beautiful...|(1024,[3,31,32,45...|\n",
      "|   2444|24 7: Twenty Four...|(1024,[122,221,43...|\n",
      "|   2445|At First Sight (1...|(1024,[177,208,34...|\n",
      "|   2649|Son of Frankenste...|(1024,[40,78,208,...|\n",
      "|   2915|Risky Business (1...|(1024,[9,65,76,10...|\n",
      "|   3065|Nothing to Lose (...|(1024,[434,829],[...|\n",
      "+-------+--------------------+--------------------+\n",
      "only showing top 20 rows\n",
      "\n"
     ]
    }
   ],
   "source": [
    "import os\n",
    "import pyspark.sql.functions as sql_func\n",
    "\n",
    "# поскольку в Parquet схема данных хранится внутри самого файла, читать их очень просто\n",
    "tf_idf = spark.read.parquet(os.path.join(DATA_DIR, \"tf_idf.parquet\")).cache()\n",
    "tf_idf.show()"
   ]
  },
  {
   "cell_type": "code",
   "execution_count": 5,
   "metadata": {
    "slideshow": {
     "slide_type": "slide"
    }
   },
   "outputs": [],
   "source": [
    "# считаем данные об оценках\n",
    "ratings = (\n",
    "    spark\n",
    "    .read\n",
    "    .csv(\n",
    "        os.path.join(DATA_DIR, \"ratings.csv\"),\n",
    "        header=True,\n",
    "        inferSchema=True\n",
    "    )\n",
    "    # только о миллионе. потому что даже на таком объёме обсчёт модели на четырёх ядрах\n",
    "    # занимает пару часов\n",
    "    .limit(1000000)\n",
    "    .select(\"movieId\", \"userId\", \"rating\")\n",
    ")"
   ]
  },
  {
   "cell_type": "code",
   "execution_count": 6,
   "metadata": {
    "slideshow": {
     "slide_type": "slide"
    }
   },
   "outputs": [],
   "source": [
    "from sklearn.linear_model import ElasticNet\n",
    "import numpy as np\n",
    "from pyspark.sql.types import FloatType, ArrayType\n",
    "\n",
    "def sklearn_lr(spark_x: list, spark_y: list) -> list:\n",
    "    \"\"\"\n",
    "        spark_x: список pyspark.ml.linalg.SparseVector - фичи для регрессии\n",
    "        spark_y: список значений целевой переменной регрессии\n",
    "        return: список коэффициентов регресии\n",
    "    \"\"\"\n",
    "    # перевеодим данные из формата Spark в удобный для sklearn\n",
    "    numpy_x = np.array([vector.toArray() for vector in spark_x])\n",
    "    numpy_y = np.array(spark_y).reshape(-1, 1)\n",
    "    # применяем обычную модель из sklearn\n",
    "    lr = ElasticNet().fit(numpy_x, numpy_y)\n",
    "    # возвращаем в ответе плотный вектор коэффициентов регрессии\n",
    "    return [lr.sparse_coef_.todense().tolist()[0], lr.intercept_.tolist()]\n",
    "\n",
    "# определяем Spark UDF, которая обучает регрессию на своих аргументах\n",
    "reg_udf = sql_func.udf(\n",
    "    sklearn_lr,\n",
    "    returnType=ArrayType(ArrayType(FloatType()))\n",
    ")"
   ]
  },
  {
   "cell_type": "code",
   "execution_count": 7,
   "metadata": {
    "slideshow": {
     "slide_type": "slide"
    }
   },
   "outputs": [],
   "source": [
    "# разбиваем полученные данные на обучающую и тестовую выборки\n",
    "train_data, test_data = ratings.join(tf_idf, \"movieId\").randomSplit([0.8, 0.2], seed=42)\n",
    "train_data.cache()\n",
    "test_data.cache()\n",
    "# строим для каждого пользователя свою модель регрессии\n",
    "model_coef = (\n",
    "    train_data\n",
    "    .groupBy(\"userId\")\n",
    "    .agg(\n",
    "        sql_func.collect_list(\"tf_idf\").alias(\"x\"),\n",
    "        sql_func.collect_list(\"rating\").alias(\"y\")\n",
    "    )\n",
    "    .withColumn(\"model_coeff\", reg_udf(\"x\", \"y\"))\n",
    "    .cache()\n",
    ")"
   ]
  },
  {
   "cell_type": "code",
   "execution_count": 8,
   "metadata": {
    "slideshow": {
     "slide_type": "fragment"
    }
   },
   "outputs": [],
   "source": [
    "# на всякий случай сохраняем полученные коэффициенты регрессий на диск\n",
    "model_coef.write.mode(\"overwrite\").parquet(os.path.join(DATA_DIR, \"model_coef.parquet\"))"
   ]
  },
  {
   "cell_type": "code",
   "execution_count": 9,
   "metadata": {
    "slideshow": {
     "slide_type": "slide"
    }
   },
   "outputs": [
    {
     "data": {
      "text/plain": [
       "10142"
      ]
     },
     "execution_count": 9,
     "metadata": {},
     "output_type": "execute_result"
    }
   ],
   "source": [
    "model_coef.count()"
   ]
  },
  {
   "cell_type": "code",
   "execution_count": 10,
   "metadata": {
    "slideshow": {
     "slide_type": "fragment"
    }
   },
   "outputs": [
    {
     "name": "stdout",
     "output_type": "stream",
     "text": [
      "+------+--------------------+--------------------+--------------------+\n",
      "|userId|                   x|                   y|         model_coeff|\n",
      "+------+--------------------+--------------------+--------------------+\n",
      "|     1|[(1024,[8,29,39,4...|[4.5, 5.0, 5.0, 4...|[[0.0, 0.0, 0.0, ...|\n",
      "|     2|[(1024,[113,115,2...|[3.0, 3.0, 2.0, 3...|[[0.0, 0.0, 0.0, ...|\n",
      "|     3|[(1024,[7,37,63,9...|[2.0, 4.0, 3.0, 3...|[[0.0, 0.0, 0.0, ...|\n",
      "|     4|[(1024,[49,51,54,...|[4.0, 4.0, 5.0, 4...|[[0.0, 0.0, 0.0, ...|\n",
      "|     5|[(1024,[123,145,1...|[2.0, 4.0, 5.0, 5...|[[0.0, 0.0, 0.0, ...|\n",
      "|     6|[(1024,[51,55,70,...|     [3.0, 3.0, 5.0]|[[0.0, 0.0, 0.0, ...|\n",
      "|     7|[(1024,[3,17,22,2...|[5.0, 4.0, 4.0, 5...|[[0.0, 0.0, 0.0, ...|\n",
      "|     8|[(1024,[16,103,14...|[2.0, 3.0, 4.0, 3...|[[0.0, 0.0, 0.0, ...|\n",
      "|     9|[(1024,[26,37,41,...|[4.0, 5.0, 4.0, 4...|[[0.0040322472, 0...|\n",
      "|    10|[(1024,[4,27,87,8...|[4.0, 5.0, 4.0, 5...|[[0.0, 0.0, 0.0, ...|\n",
      "|    11|[(1024,[23,24,29,...|[3.5, 4.0, 3.5, 3...|[[0.0, 0.0, 0.0, ...|\n",
      "|    12|[(1024,[4,8,18,23...|[4.0, 4.0, 5.0, 5...|[[0.0, 0.0, 0.0, ...|\n",
      "|    13|[(1024,[62,193,19...|[3.5, 4.5, 3.0, 1...|[[0.0, 0.0, 0.0, ...|\n",
      "|    14|[(1024,[3,17,22,2...|[2.0, 2.5, 4.5, 3...|[[0.0, 0.0, 0.0, ...|\n",
      "|    15|[(1024,[1,2,5,7,8...|[1.5, 5.0, 4.5, 1...|[[0.0, 0.0, 0.0, ...|\n",
      "|    16|[(1024,[23,24,29,...|[4.5, 5.0, 5.0, 3...|[[0.0, 0.0, 0.0, ...|\n",
      "|    17|[(1024,[2,3,7,9,1...|[5.0, 4.0, 5.0, 4...|[[0.0, 0.0, 0.0, ...|\n",
      "|    18|[(1024,[36,88,162...|[5.0, 5.0, 3.0, 5...|[[0.0, 0.0, 0.0, ...|\n",
      "|    19|[(1024,[5,43,95,1...|[1.0, 2.5, 2.5, 2...|[[0.0, 0.0, 0.0, ...|\n",
      "|    20|[(1024,[11,12,29,...|[5.0, 4.0, 3.5, 4...|[[0.0, 0.0, 0.0, ...|\n",
      "+------+--------------------+--------------------+--------------------+\n",
      "only showing top 20 rows\n",
      "\n"
     ]
    }
   ],
   "source": [
    "# поскольку мы применяли L1-регуляризацию, среди коэффициентов много нулей\n",
    "model_coef.show()"
   ]
  },
  {
   "cell_type": "code",
   "execution_count": 11,
   "metadata": {
    "slideshow": {
     "slide_type": "slide"
    }
   },
   "outputs": [],
   "source": [
    "from pyspark.ml.linalg import SparseVector\n",
    "\n",
    "def lr_apply(x: SparseVector, lr_coef: list) -> float:\n",
    "    \"\"\"\n",
    "        param x: вектор фич для регрессии\n",
    "        param lr_coef: \n",
    "        return: предсказанное моделью регрессии значение\n",
    "    \"\"\"\n",
    "    return float(np.array(x).dot(np.array(lr_coef[0])) + lr_coef[1][0])\n",
    "\n",
    "lr_apply_udf = sql_func.udf(lr_apply, returnType=FloatType())"
   ]
  },
  {
   "cell_type": "code",
   "execution_count": 12,
   "metadata": {
    "slideshow": {
     "slide_type": "fragment"
    }
   },
   "outputs": [],
   "source": [
    "from pyspark.sql import DataFrame\n",
    "\n",
    "def get_prediction(data: DataFrame) -> DataFrame:\n",
    "    return (\n",
    "        data\n",
    "        .join(model_coef, \"userId\")\n",
    "        .select(\n",
    "            \"userId\",\n",
    "            \"rating\",\n",
    "            \"movieId\",\n",
    "            \"tf_idf\", \n",
    "            lr_apply_udf(\"tf_idf\", \"model_coeff\").alias(\"prediction\"))\n",
    "        .cache()\n",
    "    )"
   ]
  },
  {
   "cell_type": "code",
   "execution_count": 13,
   "metadata": {
    "slideshow": {
     "slide_type": "slide"
    }
   },
   "outputs": [],
   "source": [
    "train_prediction = get_prediction(train_data)\n",
    "(\n",
    "    train_prediction.write.mode(\"overwrite\")\n",
    "    .parquet(os.path.join(DATA_DIR, \"train_prediction.parquet\"))\n",
    ")"
   ]
  },
  {
   "cell_type": "code",
   "execution_count": 14,
   "metadata": {
    "scrolled": true,
    "slideshow": {
     "slide_type": "fragment"
    }
   },
   "outputs": [
    {
     "name": "stdout",
     "output_type": "stream",
     "text": [
      "+------+------+-------+--------------------+----------+\n",
      "|userId|rating|movieId|              tf_idf|prediction|\n",
      "+------+------+-------+--------------------+----------+\n",
      "|   148|   4.0|    260|(1024,[1,2,5,7,8,...|  3.995837|\n",
      "|   148|   4.0|    589|(1024,[3,9,29,36,...| 4.0452337|\n",
      "|   148|   3.5|   1196|(1024,[9,10,23,29...|  3.517842|\n",
      "|   148|   3.5|   1210|(1024,[4,9,23,29,...| 3.5223696|\n",
      "|   148|   2.5|   1291|(1024,[23,29,51,5...| 2.5620809|\n",
      "|   148|   4.0|   2028|(1024,[3,4,29,52,...|  3.994406|\n",
      "|   148|   5.0|   3300|(1024,[27,29,37,4...|  4.906541|\n",
      "|   148|   1.5|   4246|(1024,[13,44,50,5...| 1.6575054|\n",
      "|   148|   5.0|   4993|(1024,[4,9,10,13,...|  5.053576|\n",
      "|   148|   4.5|   5445|(1024,[8,15,44,46...|  4.464959|\n",
      "|   148|   4.5|   5574|(1024,[17,49,54,5...| 4.4506645|\n",
      "|   148|   5.0|   5952|(1024,[9,10,13,17...| 4.9269485|\n",
      "|   148|   3.5|   6373|(1024,[5,29,40,51...|  3.593023|\n",
      "|   148|   4.5|   7143|(1024,[1,10,13,32...|  4.452602|\n",
      "|   148|   5.0|   7153|(1024,[3,6,9,17,2...|  4.944062|\n",
      "|   148|   4.0|   8665|(1024,[17,19,51,5...| 3.9128366|\n",
      "|   148|   4.0|  31696|(1024,[27,46,51,8...| 4.1426606|\n",
      "|   148|   4.0|  40815|(1024,[0,2,13,14,...| 4.0457125|\n",
      "|   148|   3.5|  54286|(1024,[13,26,29,3...| 3.5758665|\n",
      "|   148|   3.5|  58559|(1024,[3,4,7,9,17...| 3.4797995|\n",
      "+------+------+-------+--------------------+----------+\n",
      "only showing top 20 rows\n",
      "\n"
     ]
    }
   ],
   "source": [
    "train_prediction.show()"
   ]
  },
  {
   "cell_type": "code",
   "execution_count": 15,
   "metadata": {
    "slideshow": {
     "slide_type": "slide"
    }
   },
   "outputs": [],
   "source": [
    "def evaluate_prediction(prediction: DataFrame) -> float:\n",
    "    return np.sqrt(\n",
    "        prediction\n",
    "        .selectExpr(\"\"\"\n",
    "            CASE\n",
    "                WHEN prediction > 5 THEN 5\n",
    "                WHEN prediction < 0.5 THEN 0.5\n",
    "                ELSE prediction\n",
    "            END AS prediction\n",
    "        \"\"\", \"rating\")\n",
    "        .select(\n",
    "            sql_func.pow(sql_func.col(\"rating\") - sql_func.col(\"prediction\"), 2)\n",
    "            .alias(\"squared_error\")\n",
    "        )\n",
    "        .agg(sql_func.avg(\"squared_error\"))\n",
    "        .first()[0]\n",
    "    )"
   ]
  },
  {
   "cell_type": "code",
   "execution_count": 16,
   "metadata": {
    "slideshow": {
     "slide_type": "slide"
    }
   },
   "outputs": [
    {
     "data": {
      "text/plain": [
       "0.6416910375297744"
      ]
     },
     "execution_count": 16,
     "metadata": {},
     "output_type": "execute_result"
    }
   ],
   "source": [
    "evaluate_prediction(train_prediction)"
   ]
  },
  {
   "cell_type": "code",
   "execution_count": 17,
   "metadata": {
    "slideshow": {
     "slide_type": "fragment"
    }
   },
   "outputs": [],
   "source": [
    "test_prediction = get_prediction(test_data)\n",
    "(\n",
    "    test_prediction.write.mode(\"overwrite\")\n",
    "    .parquet(os.path.join(DATA_DIR, \"test_prediction.parquet\"))\n",
    ")"
   ]
  },
  {
   "cell_type": "code",
   "execution_count": 18,
   "metadata": {
    "slideshow": {
     "slide_type": "fragment"
    }
   },
   "outputs": [
    {
     "data": {
      "text/plain": [
       "0.9859142865193938"
      ]
     },
     "execution_count": 18,
     "metadata": {},
     "output_type": "execute_result"
    }
   ],
   "source": [
    "evaluate_prediction(test_prediction)"
   ]
  },
  {
   "cell_type": "code",
   "execution_count": null,
   "metadata": {},
   "outputs": [],
   "source": []
  }
 ],
 "metadata": {
  "celltoolbar": "Slideshow",
  "kernelspec": {
   "display_name": "Python 3",
   "language": "python",
   "name": "python3"
  },
  "language_info": {
   "codemirror_mode": {
    "name": "ipython",
    "version": 3
   },
   "file_extension": ".py",
   "mimetype": "text/x-python",
   "name": "python",
   "nbconvert_exporter": "python",
   "pygments_lexer": "ipython3",
   "version": "3.6.3"
  }
 },
 "nbformat": 4,
 "nbformat_minor": 2
}
