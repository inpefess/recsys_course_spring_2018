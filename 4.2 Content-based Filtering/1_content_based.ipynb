{
 "cells": [
  {
   "cell_type": "code",
   "execution_count": 1,
   "metadata": {
    "slideshow": {
     "slide_type": "slide"
    }
   },
   "outputs": [],
   "source": [
    "%matplotlib inline\n",
    "import matplotlib.pyplot as plt\n",
    "import seaborn as sns\n",
    "\n",
    "DATA_DIR = \"/data/ml-latest\""
   ]
  },
  {
   "cell_type": "code",
   "execution_count": 2,
   "metadata": {
    "scrolled": true,
    "slideshow": {
     "slide_type": "fragment"
    }
   },
   "outputs": [
    {
     "name": "stdout",
     "output_type": "stream",
     "text": [
      "userId,movieId,tag,timestamp\r",
      "\r\n",
      "1,318,narrated,1425942391\r",
      "\r\n",
      "20,4306,Dreamworks,1459855607\r",
      "\r\n",
      "20,89302,England,1400778834\r",
      "\r\n",
      "20,89302,espionage,1400778836\r",
      "\r\n",
      "20,89302,jazz,1400778841\r",
      "\r\n",
      "20,89302,politics,1400778841\r",
      "\r\n",
      "20,96079,nostalgic,1407930249\r",
      "\r\n",
      "20,113315,coming of age,1407837917\r",
      "\r\n",
      "20,113315,dark comedy,1407838006\r",
      "\r\n"
     ]
    }
   ],
   "source": [
    "# помимо файла с описанием фильмов у нас есть файл с тегами\n",
    "!head {DATA_DIR}/tags.csv"
   ]
  },
  {
   "cell_type": "code",
   "execution_count": 3,
   "metadata": {
    "slideshow": {
     "slide_type": "slide"
    }
   },
   "outputs": [],
   "source": [
    "# создаём сессию Spark\n",
    "from pyspark.sql import SparkSession\n",
    "\n",
    "spark = (\n",
    "    SparkSession\n",
    "    .builder\n",
    "    .master(\"local[*]\")\n",
    "    .getOrCreate()\n",
    ")"
   ]
  },
  {
   "cell_type": "code",
   "execution_count": 4,
   "metadata": {
    "slideshow": {
     "slide_type": "slide"
    }
   },
   "outputs": [],
   "source": [
    "import os\n",
    "import pyspark.sql.functions as sql_func\n",
    "\n",
    "# будем использовать не только теги, но и информацию о жанрах\n",
    "movies = (\n",
    "    spark\n",
    "    .read\n",
    "    .csv(\n",
    "        os.path.join(DATA_DIR, \"movies.csv\"),\n",
    "        header=True,\n",
    "        inferSchema=True\n",
    "    )\n",
    "    .withColumn(\"genres_list\", sql_func.split(\"genres\", '\\|'))\n",
    "    .select(\"movieId\", \"title\", \"genres_list\")\n",
    "    .cache()\n",
    ")"
   ]
  },
  {
   "cell_type": "code",
   "execution_count": 5,
   "metadata": {
    "slideshow": {
     "slide_type": "slide"
    }
   },
   "outputs": [
    {
     "data": {
      "text/html": [
       "<div>\n",
       "<style scoped>\n",
       "    .dataframe tbody tr th:only-of-type {\n",
       "        vertical-align: middle;\n",
       "    }\n",
       "\n",
       "    .dataframe tbody tr th {\n",
       "        vertical-align: top;\n",
       "    }\n",
       "\n",
       "    .dataframe thead th {\n",
       "        text-align: right;\n",
       "    }\n",
       "</style>\n",
       "<table border=\"1\" class=\"dataframe\">\n",
       "  <thead>\n",
       "    <tr style=\"text-align: right;\">\n",
       "      <th></th>\n",
       "      <th>movieId</th>\n",
       "      <th>title</th>\n",
       "      <th>genres_list</th>\n",
       "    </tr>\n",
       "  </thead>\n",
       "  <tbody>\n",
       "    <tr>\n",
       "      <th>0</th>\n",
       "      <td>1</td>\n",
       "      <td>Toy Story (1995)</td>\n",
       "      <td>[Adventure, Animation, Children, Comedy, Fantasy]</td>\n",
       "    </tr>\n",
       "    <tr>\n",
       "      <th>1</th>\n",
       "      <td>2</td>\n",
       "      <td>Jumanji (1995)</td>\n",
       "      <td>[Adventure, Children, Fantasy]</td>\n",
       "    </tr>\n",
       "    <tr>\n",
       "      <th>2</th>\n",
       "      <td>3</td>\n",
       "      <td>Grumpier Old Men (1995)</td>\n",
       "      <td>[Comedy, Romance]</td>\n",
       "    </tr>\n",
       "    <tr>\n",
       "      <th>3</th>\n",
       "      <td>4</td>\n",
       "      <td>Waiting to Exhale (1995)</td>\n",
       "      <td>[Comedy, Drama, Romance]</td>\n",
       "    </tr>\n",
       "    <tr>\n",
       "      <th>4</th>\n",
       "      <td>5</td>\n",
       "      <td>Father of the Bride Part II (1995)</td>\n",
       "      <td>[Comedy]</td>\n",
       "    </tr>\n",
       "    <tr>\n",
       "      <th>5</th>\n",
       "      <td>6</td>\n",
       "      <td>Heat (1995)</td>\n",
       "      <td>[Action, Crime, Thriller]</td>\n",
       "    </tr>\n",
       "    <tr>\n",
       "      <th>6</th>\n",
       "      <td>7</td>\n",
       "      <td>Sabrina (1995)</td>\n",
       "      <td>[Comedy, Romance]</td>\n",
       "    </tr>\n",
       "    <tr>\n",
       "      <th>7</th>\n",
       "      <td>8</td>\n",
       "      <td>Tom and Huck (1995)</td>\n",
       "      <td>[Adventure, Children]</td>\n",
       "    </tr>\n",
       "    <tr>\n",
       "      <th>8</th>\n",
       "      <td>9</td>\n",
       "      <td>Sudden Death (1995)</td>\n",
       "      <td>[Action]</td>\n",
       "    </tr>\n",
       "    <tr>\n",
       "      <th>9</th>\n",
       "      <td>10</td>\n",
       "      <td>GoldenEye (1995)</td>\n",
       "      <td>[Action, Adventure, Thriller]</td>\n",
       "    </tr>\n",
       "  </tbody>\n",
       "</table>\n",
       "</div>"
      ],
      "text/plain": [
       "   movieId                               title  \\\n",
       "0        1                    Toy Story (1995)   \n",
       "1        2                      Jumanji (1995)   \n",
       "2        3             Grumpier Old Men (1995)   \n",
       "3        4            Waiting to Exhale (1995)   \n",
       "4        5  Father of the Bride Part II (1995)   \n",
       "5        6                         Heat (1995)   \n",
       "6        7                      Sabrina (1995)   \n",
       "7        8                 Tom and Huck (1995)   \n",
       "8        9                 Sudden Death (1995)   \n",
       "9       10                    GoldenEye (1995)   \n",
       "\n",
       "                                         genres_list  \n",
       "0  [Adventure, Animation, Children, Comedy, Fantasy]  \n",
       "1                     [Adventure, Children, Fantasy]  \n",
       "2                                  [Comedy, Romance]  \n",
       "3                           [Comedy, Drama, Romance]  \n",
       "4                                           [Comedy]  \n",
       "5                          [Action, Crime, Thriller]  \n",
       "6                                  [Comedy, Romance]  \n",
       "7                              [Adventure, Children]  \n",
       "8                                           [Action]  \n",
       "9                      [Action, Adventure, Thriller]  "
      ]
     },
     "execution_count": 5,
     "metadata": {},
     "output_type": "execute_result"
    }
   ],
   "source": [
    "movies.limit(10).toPandas()"
   ]
  },
  {
   "cell_type": "code",
   "execution_count": 6,
   "metadata": {
    "slideshow": {
     "slide_type": "slide"
    }
   },
   "outputs": [],
   "source": [
    "# сначала посмотрим на общее распределение тегов\n",
    "raw_tags = (\n",
    "    spark\n",
    "    .read\n",
    "    .csv(\n",
    "        os.path.join(DATA_DIR, \"tags.csv\"),\n",
    "        header=True,\n",
    "        inferSchema=True\n",
    "    )\n",
    "    .cache()\n",
    ")"
   ]
  },
  {
   "cell_type": "code",
   "execution_count": 7,
   "metadata": {
    "scrolled": true,
    "slideshow": {
     "slide_type": "slide"
    }
   },
   "outputs": [
    {
     "name": "stdout",
     "output_type": "stream",
     "text": [
      "фильмов всего: 45843\n",
      "фильмов с тегами: 25308\n",
      "различных тегов: 53509\n",
      "всего соответствий фильм-тег: 753170\n",
      "доля ненулевых элементов в матрице фильм-тег 0.0005561710159362694\n"
     ]
    }
   ],
   "source": [
    "# протегрировано чуть больше половины фильмов\n",
    "\n",
    "movie_tag_count = raw_tags.count()\n",
    "tag_count = raw_tags.select(\"tag\").distinct().count()\n",
    "movie_count = raw_tags.select(\"movieId\").distinct().count()\n",
    "print(\"фильмов всего:\", movies.select(\"movieId\").distinct().count())\n",
    "print(\"фильмов с тегами:\", movie_count)\n",
    "print(\"различных тегов:\", tag_count)\n",
    "print(\"всего соответствий фильм-тег:\", movie_tag_count)\n",
    "print(\"доля ненулевых элементов в матрице фильм-тег\",\n",
    "      movie_tag_count / movie_count / tag_count)"
   ]
  },
  {
   "cell_type": "code",
   "execution_count": 8,
   "metadata": {
    "slideshow": {
     "slide_type": "fragment"
    }
   },
   "outputs": [
    {
     "name": "stdout",
     "output_type": "stream",
     "text": [
      "различных тегов без учёта регистра: 47952\n"
     ]
    }
   ],
   "source": [
    "# некоторые теги (около шести тысяч) различаются только регистром\n",
    "\n",
    "print(\n",
    "    \"различных тегов без учёта регистра:\",\n",
    "    raw_tags.select(sql_func.upper(sql_func.col(\"tag\"))).distinct().count()\n",
    ")"
   ]
  },
  {
   "cell_type": "code",
   "execution_count": 9,
   "metadata": {
    "slideshow": {
     "slide_type": "slide"
    }
   },
   "outputs": [],
   "source": [
    "# нас не будет интересовать, какой именно пользователь поставил тег\n",
    "# и когда это произошло\n",
    "tags = (\n",
    "    raw_tags\n",
    "    # теги могут различаться только регистром,\n",
    "    # поэтому приведём их все к верхнему\n",
    "    .select(\n",
    "        sql_func.col(\"movieId\"),\n",
    "        sql_func.upper(sql_func.col(\"tag\")).alias(\"tag\")\n",
    "    )\n",
    "    .groupBy(\"movieId\")\n",
    "    .agg(sql_func.collect_list(\"tag\").alias(\"tags_list\"))\n",
    "    .join(movies, \"movieId\", \"right\")\n",
    "    .cache()\n",
    ")"
   ]
  },
  {
   "cell_type": "code",
   "execution_count": 10,
   "metadata": {
    "scrolled": true,
    "slideshow": {
     "slide_type": "fragment"
    }
   },
   "outputs": [
    {
     "data": {
      "text/html": [
       "<div>\n",
       "<style scoped>\n",
       "    .dataframe tbody tr th:only-of-type {\n",
       "        vertical-align: middle;\n",
       "    }\n",
       "\n",
       "    .dataframe tbody tr th {\n",
       "        vertical-align: top;\n",
       "    }\n",
       "\n",
       "    .dataframe thead th {\n",
       "        text-align: right;\n",
       "    }\n",
       "</style>\n",
       "<table border=\"1\" class=\"dataframe\">\n",
       "  <thead>\n",
       "    <tr style=\"text-align: right;\">\n",
       "      <th></th>\n",
       "      <th>movieId</th>\n",
       "      <th>tags_list</th>\n",
       "      <th>title</th>\n",
       "      <th>genres_list</th>\n",
       "    </tr>\n",
       "  </thead>\n",
       "  <tbody>\n",
       "    <tr>\n",
       "      <th>0</th>\n",
       "      <td>148</td>\n",
       "      <td>[CATCHY, NUDITY (TOPLESS), NUDITY (TOPLESS - N...</td>\n",
       "      <td>Awfully Big Adventure, An (1995)</td>\n",
       "      <td>[Drama]</td>\n",
       "    </tr>\n",
       "    <tr>\n",
       "      <th>1</th>\n",
       "      <td>463</td>\n",
       "      <td>None</td>\n",
       "      <td>Guilty as Sin (1993)</td>\n",
       "      <td>[Crime, Drama, Thriller]</td>\n",
       "    </tr>\n",
       "    <tr>\n",
       "      <th>2</th>\n",
       "      <td>471</td>\n",
       "      <td>[COEN BROTHERS, FISH OUT OF WATER, SATIRICAL, ...</td>\n",
       "      <td>Hudsucker Proxy, The (1994)</td>\n",
       "      <td>[Comedy]</td>\n",
       "    </tr>\n",
       "    <tr>\n",
       "      <th>3</th>\n",
       "      <td>496</td>\n",
       "      <td>[LONELINESS, SUNDANCE AWARD WINNER, SUNDANCE G...</td>\n",
       "      <td>What Happened Was... (1994)</td>\n",
       "      <td>[Comedy, Drama, Romance, Thriller]</td>\n",
       "    </tr>\n",
       "    <tr>\n",
       "      <th>4</th>\n",
       "      <td>833</td>\n",
       "      <td>[SPOOF, COMEDY, HIGH SCHOOL, JON LOVITZ, LOUIS...</td>\n",
       "      <td>High School High (1996)</td>\n",
       "      <td>[Comedy]</td>\n",
       "    </tr>\n",
       "    <tr>\n",
       "      <th>5</th>\n",
       "      <td>1088</td>\n",
       "      <td>[CHEESY, PATRICK SWAYZE, DANCING, COMING OF AG...</td>\n",
       "      <td>Dirty Dancing (1987)</td>\n",
       "      <td>[Drama, Musical, Romance]</td>\n",
       "    </tr>\n",
       "    <tr>\n",
       "      <th>6</th>\n",
       "      <td>1238</td>\n",
       "      <td>[ABSURD, CUTE, SUPERB SOUNDTRACK, AFFECTIONATE...</td>\n",
       "      <td>Local Hero (1983)</td>\n",
       "      <td>[Comedy]</td>\n",
       "    </tr>\n",
       "    <tr>\n",
       "      <th>7</th>\n",
       "      <td>1342</td>\n",
       "      <td>[GRUESOME, BURNT HAIR, DEATH OF DOG, DRAMA, FA...</td>\n",
       "      <td>Candyman (1992)</td>\n",
       "      <td>[Horror, Thriller]</td>\n",
       "    </tr>\n",
       "    <tr>\n",
       "      <th>8</th>\n",
       "      <td>1580</td>\n",
       "      <td>[ACTION, ALIENS, ACTION, ALIEN, ALIENS, BUDDY ...</td>\n",
       "      <td>Men in Black (a.k.a. MIB) (1997)</td>\n",
       "      <td>[Action, Comedy, Sci-Fi]</td>\n",
       "    </tr>\n",
       "    <tr>\n",
       "      <th>9</th>\n",
       "      <td>1591</td>\n",
       "      <td>[COMIC BOOK, HELL, SUPER HERO, HORRUIBLE MOVIE...</td>\n",
       "      <td>Spawn (1997)</td>\n",
       "      <td>[Action, Adventure, Sci-Fi, Thriller]</td>\n",
       "    </tr>\n",
       "  </tbody>\n",
       "</table>\n",
       "</div>"
      ],
      "text/plain": [
       "   movieId                                          tags_list  \\\n",
       "0      148  [CATCHY, NUDITY (TOPLESS), NUDITY (TOPLESS - N...   \n",
       "1      463                                               None   \n",
       "2      471  [COEN BROTHERS, FISH OUT OF WATER, SATIRICAL, ...   \n",
       "3      496  [LONELINESS, SUNDANCE AWARD WINNER, SUNDANCE G...   \n",
       "4      833  [SPOOF, COMEDY, HIGH SCHOOL, JON LOVITZ, LOUIS...   \n",
       "5     1088  [CHEESY, PATRICK SWAYZE, DANCING, COMING OF AG...   \n",
       "6     1238  [ABSURD, CUTE, SUPERB SOUNDTRACK, AFFECTIONATE...   \n",
       "7     1342  [GRUESOME, BURNT HAIR, DEATH OF DOG, DRAMA, FA...   \n",
       "8     1580  [ACTION, ALIENS, ACTION, ALIEN, ALIENS, BUDDY ...   \n",
       "9     1591  [COMIC BOOK, HELL, SUPER HERO, HORRUIBLE MOVIE...   \n",
       "\n",
       "                              title                            genres_list  \n",
       "0  Awfully Big Adventure, An (1995)                                [Drama]  \n",
       "1              Guilty as Sin (1993)               [Crime, Drama, Thriller]  \n",
       "2       Hudsucker Proxy, The (1994)                               [Comedy]  \n",
       "3       What Happened Was... (1994)     [Comedy, Drama, Romance, Thriller]  \n",
       "4           High School High (1996)                               [Comedy]  \n",
       "5              Dirty Dancing (1987)              [Drama, Musical, Romance]  \n",
       "6                 Local Hero (1983)                               [Comedy]  \n",
       "7                   Candyman (1992)                     [Horror, Thriller]  \n",
       "8  Men in Black (a.k.a. MIB) (1997)               [Action, Comedy, Sci-Fi]  \n",
       "9                      Spawn (1997)  [Action, Adventure, Sci-Fi, Thriller]  "
      ]
     },
     "execution_count": 10,
     "metadata": {},
     "output_type": "execute_result"
    }
   ],
   "source": [
    "tags.limit(10).toPandas()"
   ]
  },
  {
   "cell_type": "code",
   "execution_count": 11,
   "metadata": {
    "slideshow": {
     "slide_type": "slide"
    }
   },
   "outputs": [],
   "source": [
    "# объединим теги и жанры в единое пространство текстовых фич\n",
    "from pyspark.sql.types import ArrayType, StringType\n",
    "\n",
    "# в Spark нет некоторых полезных функций, но легко можно создавать свои\n",
    "# в частности, мы хотим привести все жанры также к верхнему регистру\n",
    "list_concat = sql_func.udf(\n",
    "    lambda one_list, another_list:\n",
    "        [str.upper(elem) for elem in one_list] + (another_list if another_list else []),\n",
    "    returnType=ArrayType(StringType())\n",
    ")\n",
    "\n",
    "content_features = (\n",
    "    tags\n",
    "    .select(\n",
    "        \"movieID\",\n",
    "        \"title\",\n",
    "        list_concat(\"genres_list\", \"tags_list\").alias(\"content_features\")\n",
    "    )\n",
    "    .cache()\n",
    ")"
   ]
  },
  {
   "cell_type": "code",
   "execution_count": 12,
   "metadata": {
    "scrolled": true,
    "slideshow": {
     "slide_type": "fragment"
    }
   },
   "outputs": [
    {
     "data": {
      "text/html": [
       "<div>\n",
       "<style scoped>\n",
       "    .dataframe tbody tr th:only-of-type {\n",
       "        vertical-align: middle;\n",
       "    }\n",
       "\n",
       "    .dataframe tbody tr th {\n",
       "        vertical-align: top;\n",
       "    }\n",
       "\n",
       "    .dataframe thead th {\n",
       "        text-align: right;\n",
       "    }\n",
       "</style>\n",
       "<table border=\"1\" class=\"dataframe\">\n",
       "  <thead>\n",
       "    <tr style=\"text-align: right;\">\n",
       "      <th></th>\n",
       "      <th>movieID</th>\n",
       "      <th>title</th>\n",
       "      <th>content_features</th>\n",
       "    </tr>\n",
       "  </thead>\n",
       "  <tbody>\n",
       "    <tr>\n",
       "      <th>0</th>\n",
       "      <td>148</td>\n",
       "      <td>Awfully Big Adventure, An (1995)</td>\n",
       "      <td>[DRAMA, CATCHY, NUDITY (TOPLESS), NUDITY (TOPL...</td>\n",
       "    </tr>\n",
       "    <tr>\n",
       "      <th>1</th>\n",
       "      <td>463</td>\n",
       "      <td>Guilty as Sin (1993)</td>\n",
       "      <td>[CRIME, DRAMA, THRILLER]</td>\n",
       "    </tr>\n",
       "    <tr>\n",
       "      <th>2</th>\n",
       "      <td>471</td>\n",
       "      <td>Hudsucker Proxy, The (1994)</td>\n",
       "      <td>[COMEDY, COEN BROTHERS, FISH OUT OF WATER, SAT...</td>\n",
       "    </tr>\n",
       "    <tr>\n",
       "      <th>3</th>\n",
       "      <td>496</td>\n",
       "      <td>What Happened Was... (1994)</td>\n",
       "      <td>[COMEDY, DRAMA, ROMANCE, THRILLER, LONELINESS,...</td>\n",
       "    </tr>\n",
       "    <tr>\n",
       "      <th>4</th>\n",
       "      <td>833</td>\n",
       "      <td>High School High (1996)</td>\n",
       "      <td>[COMEDY, SPOOF, COMEDY, HIGH SCHOOL, JON LOVIT...</td>\n",
       "    </tr>\n",
       "    <tr>\n",
       "      <th>5</th>\n",
       "      <td>1088</td>\n",
       "      <td>Dirty Dancing (1987)</td>\n",
       "      <td>[DRAMA, MUSICAL, ROMANCE, CHEESY, PATRICK SWAY...</td>\n",
       "    </tr>\n",
       "    <tr>\n",
       "      <th>6</th>\n",
       "      <td>1238</td>\n",
       "      <td>Local Hero (1983)</td>\n",
       "      <td>[COMEDY, ABSURD, CUTE, SUPERB SOUNDTRACK, AFFE...</td>\n",
       "    </tr>\n",
       "    <tr>\n",
       "      <th>7</th>\n",
       "      <td>1342</td>\n",
       "      <td>Candyman (1992)</td>\n",
       "      <td>[HORROR, THRILLER, GRUESOME, BURNT HAIR, DEATH...</td>\n",
       "    </tr>\n",
       "    <tr>\n",
       "      <th>8</th>\n",
       "      <td>1580</td>\n",
       "      <td>Men in Black (a.k.a. MIB) (1997)</td>\n",
       "      <td>[ACTION, COMEDY, SCI-FI, ACTION, ALIENS, ACTIO...</td>\n",
       "    </tr>\n",
       "    <tr>\n",
       "      <th>9</th>\n",
       "      <td>1591</td>\n",
       "      <td>Spawn (1997)</td>\n",
       "      <td>[ACTION, ADVENTURE, SCI-FI, THRILLER, COMIC BO...</td>\n",
       "    </tr>\n",
       "  </tbody>\n",
       "</table>\n",
       "</div>"
      ],
      "text/plain": [
       "   movieID                             title  \\\n",
       "0      148  Awfully Big Adventure, An (1995)   \n",
       "1      463              Guilty as Sin (1993)   \n",
       "2      471       Hudsucker Proxy, The (1994)   \n",
       "3      496       What Happened Was... (1994)   \n",
       "4      833           High School High (1996)   \n",
       "5     1088              Dirty Dancing (1987)   \n",
       "6     1238                 Local Hero (1983)   \n",
       "7     1342                   Candyman (1992)   \n",
       "8     1580  Men in Black (a.k.a. MIB) (1997)   \n",
       "9     1591                      Spawn (1997)   \n",
       "\n",
       "                                    content_features  \n",
       "0  [DRAMA, CATCHY, NUDITY (TOPLESS), NUDITY (TOPL...  \n",
       "1                           [CRIME, DRAMA, THRILLER]  \n",
       "2  [COMEDY, COEN BROTHERS, FISH OUT OF WATER, SAT...  \n",
       "3  [COMEDY, DRAMA, ROMANCE, THRILLER, LONELINESS,...  \n",
       "4  [COMEDY, SPOOF, COMEDY, HIGH SCHOOL, JON LOVIT...  \n",
       "5  [DRAMA, MUSICAL, ROMANCE, CHEESY, PATRICK SWAY...  \n",
       "6  [COMEDY, ABSURD, CUTE, SUPERB SOUNDTRACK, AFFE...  \n",
       "7  [HORROR, THRILLER, GRUESOME, BURNT HAIR, DEATH...  \n",
       "8  [ACTION, COMEDY, SCI-FI, ACTION, ALIENS, ACTIO...  \n",
       "9  [ACTION, ADVENTURE, SCI-FI, THRILLER, COMIC BO...  "
      ]
     },
     "execution_count": 12,
     "metadata": {},
     "output_type": "execute_result"
    }
   ],
   "source": [
    "content_features.limit(10).toPandas()"
   ]
  },
  {
   "cell_type": "code",
   "execution_count": 13,
   "metadata": {
    "slideshow": {
     "slide_type": "slide"
    }
   },
   "outputs": [
    {
     "data": {
      "text/html": [
       "<div>\n",
       "<style scoped>\n",
       "    .dataframe tbody tr th:only-of-type {\n",
       "        vertical-align: middle;\n",
       "    }\n",
       "\n",
       "    .dataframe tbody tr th {\n",
       "        vertical-align: top;\n",
       "    }\n",
       "\n",
       "    .dataframe thead th {\n",
       "        text-align: right;\n",
       "    }\n",
       "</style>\n",
       "<table border=\"1\" class=\"dataframe\">\n",
       "  <thead>\n",
       "    <tr style=\"text-align: right;\">\n",
       "      <th></th>\n",
       "      <th>movieID</th>\n",
       "      <th>title</th>\n",
       "      <th>content_features</th>\n",
       "    </tr>\n",
       "  </thead>\n",
       "  <tbody>\n",
       "    <tr>\n",
       "      <th>0</th>\n",
       "      <td>4896</td>\n",
       "      <td>Harry Potter and the Sorcerer's Stone (a.k.a. ...</td>\n",
       "      <td>[ADVENTURE, CHILDREN, FANTASY, FANTASY, MAGIC,...</td>\n",
       "    </tr>\n",
       "  </tbody>\n",
       "</table>\n",
       "</div>"
      ],
      "text/plain": [
       "   movieID                                              title  \\\n",
       "0     4896  Harry Potter and the Sorcerer's Stone (a.k.a. ...   \n",
       "\n",
       "                                    content_features  \n",
       "0  [ADVENTURE, CHILDREN, FANTASY, FANTASY, MAGIC,...  "
      ]
     },
     "execution_count": 13,
     "metadata": {},
     "output_type": "execute_result"
    }
   ],
   "source": [
    "# например, Гарри Поттер и философский камень\n",
    "content_features.where(\"movieId == 4896\").toPandas()"
   ]
  },
  {
   "cell_type": "code",
   "execution_count": 14,
   "metadata": {
    "slideshow": {
     "slide_type": "slide"
    }
   },
   "outputs": [
    {
     "data": {
      "text/html": [
       "<div>\n",
       "<style scoped>\n",
       "    .dataframe tbody tr th:only-of-type {\n",
       "        vertical-align: middle;\n",
       "    }\n",
       "\n",
       "    .dataframe tbody tr th {\n",
       "        vertical-align: top;\n",
       "    }\n",
       "\n",
       "    .dataframe thead th {\n",
       "        text-align: right;\n",
       "    }\n",
       "</style>\n",
       "<table border=\"1\" class=\"dataframe\">\n",
       "  <thead>\n",
       "    <tr style=\"text-align: right;\">\n",
       "      <th></th>\n",
       "      <th>words</th>\n",
       "      <th>freq</th>\n",
       "    </tr>\n",
       "  </thead>\n",
       "  <tbody>\n",
       "    <tr>\n",
       "      <th>0</th>\n",
       "      <td>MAGIC</td>\n",
       "      <td>57</td>\n",
       "    </tr>\n",
       "    <tr>\n",
       "      <th>1</th>\n",
       "      <td>FANTASY</td>\n",
       "      <td>52</td>\n",
       "    </tr>\n",
       "    <tr>\n",
       "      <th>2</th>\n",
       "      <td>HARRY POTTER</td>\n",
       "      <td>35</td>\n",
       "    </tr>\n",
       "    <tr>\n",
       "      <th>3</th>\n",
       "      <td>WIZARDS</td>\n",
       "      <td>31</td>\n",
       "    </tr>\n",
       "    <tr>\n",
       "      <th>4</th>\n",
       "      <td>BASED ON A BOOK</td>\n",
       "      <td>30</td>\n",
       "    </tr>\n",
       "    <tr>\n",
       "      <th>5</th>\n",
       "      <td>ADVENTURE</td>\n",
       "      <td>25</td>\n",
       "    </tr>\n",
       "    <tr>\n",
       "      <th>6</th>\n",
       "      <td>MYSTERY</td>\n",
       "      <td>22</td>\n",
       "    </tr>\n",
       "    <tr>\n",
       "      <th>7</th>\n",
       "      <td>FANTASY WORLD</td>\n",
       "      <td>17</td>\n",
       "    </tr>\n",
       "    <tr>\n",
       "      <th>8</th>\n",
       "      <td>GOOD VERSUS EVIL</td>\n",
       "      <td>16</td>\n",
       "    </tr>\n",
       "    <tr>\n",
       "      <th>9</th>\n",
       "      <td>DRAGONS</td>\n",
       "      <td>13</td>\n",
       "    </tr>\n",
       "    <tr>\n",
       "      <th>10</th>\n",
       "      <td>GHOSTS</td>\n",
       "      <td>12</td>\n",
       "    </tr>\n",
       "    <tr>\n",
       "      <th>11</th>\n",
       "      <td>HUMOROUS</td>\n",
       "      <td>12</td>\n",
       "    </tr>\n",
       "    <tr>\n",
       "      <th>12</th>\n",
       "      <td>SCHOOL DRAMA</td>\n",
       "      <td>10</td>\n",
       "    </tr>\n",
       "    <tr>\n",
       "      <th>13</th>\n",
       "      <td>CHRISTMAS</td>\n",
       "      <td>10</td>\n",
       "    </tr>\n",
       "    <tr>\n",
       "      <th>14</th>\n",
       "      <td>CHILDREN</td>\n",
       "      <td>9</td>\n",
       "    </tr>\n",
       "    <tr>\n",
       "      <th>15</th>\n",
       "      <td>MYTHOLOGY</td>\n",
       "      <td>8</td>\n",
       "    </tr>\n",
       "    <tr>\n",
       "      <th>16</th>\n",
       "      <td>FAMILY</td>\n",
       "      <td>7</td>\n",
       "    </tr>\n",
       "    <tr>\n",
       "      <th>17</th>\n",
       "      <td>BASED ON BOOK</td>\n",
       "      <td>7</td>\n",
       "    </tr>\n",
       "    <tr>\n",
       "      <th>18</th>\n",
       "      <td>HALLOWEEN</td>\n",
       "      <td>7</td>\n",
       "    </tr>\n",
       "    <tr>\n",
       "      <th>19</th>\n",
       "      <td>BOARDING SCHOOL</td>\n",
       "      <td>6</td>\n",
       "    </tr>\n",
       "    <tr>\n",
       "      <th>20</th>\n",
       "      <td>INVISIBILITY</td>\n",
       "      <td>6</td>\n",
       "    </tr>\n",
       "    <tr>\n",
       "      <th>21</th>\n",
       "      <td>ALAN RICKMAN</td>\n",
       "      <td>6</td>\n",
       "    </tr>\n",
       "    <tr>\n",
       "      <th>22</th>\n",
       "      <td>SEQUEL</td>\n",
       "      <td>5</td>\n",
       "    </tr>\n",
       "    <tr>\n",
       "      <th>23</th>\n",
       "      <td>EMMA WATSON</td>\n",
       "      <td>5</td>\n",
       "    </tr>\n",
       "    <tr>\n",
       "      <th>24</th>\n",
       "      <td>DANIEL RADCLIFFE</td>\n",
       "      <td>4</td>\n",
       "    </tr>\n",
       "    <tr>\n",
       "      <th>25</th>\n",
       "      <td>DOGS</td>\n",
       "      <td>3</td>\n",
       "    </tr>\n",
       "    <tr>\n",
       "      <th>26</th>\n",
       "      <td>ADAPTED FROM:BOOK</td>\n",
       "      <td>3</td>\n",
       "    </tr>\n",
       "    <tr>\n",
       "      <th>27</th>\n",
       "      <td>CHRIS COLUMBUS</td>\n",
       "      <td>3</td>\n",
       "    </tr>\n",
       "    <tr>\n",
       "      <th>28</th>\n",
       "      <td>CHESS</td>\n",
       "      <td>3</td>\n",
       "    </tr>\n",
       "    <tr>\n",
       "      <th>29</th>\n",
       "      <td>HARPER LEE</td>\n",
       "      <td>2</td>\n",
       "    </tr>\n",
       "    <tr>\n",
       "      <th>...</th>\n",
       "      <td>...</td>\n",
       "      <td>...</td>\n",
       "    </tr>\n",
       "    <tr>\n",
       "      <th>76</th>\n",
       "      <td>DECEASED FAMILY MEMBER</td>\n",
       "      <td>1</td>\n",
       "    </tr>\n",
       "    <tr>\n",
       "      <th>77</th>\n",
       "      <td>FIONA SHAW</td>\n",
       "      <td>1</td>\n",
       "    </tr>\n",
       "    <tr>\n",
       "      <th>78</th>\n",
       "      <td>CUTE</td>\n",
       "      <td>1</td>\n",
       "    </tr>\n",
       "    <tr>\n",
       "      <th>79</th>\n",
       "      <td>FRANCHISE</td>\n",
       "      <td>1</td>\n",
       "    </tr>\n",
       "    <tr>\n",
       "      <th>80</th>\n",
       "      <td>SRI-FI</td>\n",
       "      <td>1</td>\n",
       "    </tr>\n",
       "    <tr>\n",
       "      <th>81</th>\n",
       "      <td>MULTIPLE ROLES</td>\n",
       "      <td>1</td>\n",
       "    </tr>\n",
       "    <tr>\n",
       "      <th>82</th>\n",
       "      <td>FOREST</td>\n",
       "      <td>1</td>\n",
       "    </tr>\n",
       "    <tr>\n",
       "      <th>83</th>\n",
       "      <td>CLASSIC</td>\n",
       "      <td>1</td>\n",
       "    </tr>\n",
       "    <tr>\n",
       "      <th>84</th>\n",
       "      <td>CAT</td>\n",
       "      <td>1</td>\n",
       "    </tr>\n",
       "    <tr>\n",
       "      <th>85</th>\n",
       "      <td>DIVX1</td>\n",
       "      <td>1</td>\n",
       "    </tr>\n",
       "    <tr>\n",
       "      <th>86</th>\n",
       "      <td>UNDERWHELMING</td>\n",
       "      <td>1</td>\n",
       "    </tr>\n",
       "    <tr>\n",
       "      <th>87</th>\n",
       "      <td>DARK</td>\n",
       "      <td>1</td>\n",
       "    </tr>\n",
       "    <tr>\n",
       "      <th>88</th>\n",
       "      <td>BEST AMONG ALL 7</td>\n",
       "      <td>1</td>\n",
       "    </tr>\n",
       "    <tr>\n",
       "      <th>89</th>\n",
       "      <td>MORALS</td>\n",
       "      <td>1</td>\n",
       "    </tr>\n",
       "    <tr>\n",
       "      <th>90</th>\n",
       "      <td>EVERYTHING YOU WANT IS HERE</td>\n",
       "      <td>1</td>\n",
       "    </tr>\n",
       "    <tr>\n",
       "      <th>91</th>\n",
       "      <td>ERIC'S DVDS</td>\n",
       "      <td>1</td>\n",
       "    </tr>\n",
       "    <tr>\n",
       "      <th>92</th>\n",
       "      <td>DR. SEUSS</td>\n",
       "      <td>1</td>\n",
       "    </tr>\n",
       "    <tr>\n",
       "      <th>93</th>\n",
       "      <td>NOT AS GOOD AS THE BOOK</td>\n",
       "      <td>1</td>\n",
       "    </tr>\n",
       "    <tr>\n",
       "      <th>94</th>\n",
       "      <td>EXUBERANT</td>\n",
       "      <td>1</td>\n",
       "    </tr>\n",
       "    <tr>\n",
       "      <th>95</th>\n",
       "      <td>FAIRY TALE</td>\n",
       "      <td>1</td>\n",
       "    </tr>\n",
       "    <tr>\n",
       "      <th>96</th>\n",
       "      <td>HARRY</td>\n",
       "      <td>1</td>\n",
       "    </tr>\n",
       "    <tr>\n",
       "      <th>97</th>\n",
       "      <td>MOVIES</td>\n",
       "      <td>1</td>\n",
       "    </tr>\n",
       "    <tr>\n",
       "      <th>98</th>\n",
       "      <td>FANTACY</td>\n",
       "      <td>1</td>\n",
       "    </tr>\n",
       "    <tr>\n",
       "      <th>99</th>\n",
       "      <td>JOSEPH CAMPBELL'S STUDY OF MYTHOLOGY INFLUENCED</td>\n",
       "      <td>1</td>\n",
       "    </tr>\n",
       "    <tr>\n",
       "      <th>100</th>\n",
       "      <td>OWLS</td>\n",
       "      <td>1</td>\n",
       "    </tr>\n",
       "    <tr>\n",
       "      <th>101</th>\n",
       "      <td>TROLLS</td>\n",
       "      <td>1</td>\n",
       "    </tr>\n",
       "    <tr>\n",
       "      <th>102</th>\n",
       "      <td>JK ROWLING</td>\n",
       "      <td>1</td>\n",
       "    </tr>\n",
       "    <tr>\n",
       "      <th>103</th>\n",
       "      <td>ERLEND'S DVDS</td>\n",
       "      <td>1</td>\n",
       "    </tr>\n",
       "    <tr>\n",
       "      <th>104</th>\n",
       "      <td>CHILDHOOD MEMORY</td>\n",
       "      <td>1</td>\n",
       "    </tr>\n",
       "    <tr>\n",
       "      <th>105</th>\n",
       "      <td>SIMPLE</td>\n",
       "      <td>1</td>\n",
       "    </tr>\n",
       "  </tbody>\n",
       "</table>\n",
       "<p>106 rows × 2 columns</p>\n",
       "</div>"
      ],
      "text/plain": [
       "                                               words  freq\n",
       "0                                              MAGIC    57\n",
       "1                                            FANTASY    52\n",
       "2                                       HARRY POTTER    35\n",
       "3                                            WIZARDS    31\n",
       "4                                    BASED ON A BOOK    30\n",
       "5                                          ADVENTURE    25\n",
       "6                                            MYSTERY    22\n",
       "7                                      FANTASY WORLD    17\n",
       "8                                   GOOD VERSUS EVIL    16\n",
       "9                                            DRAGONS    13\n",
       "10                                            GHOSTS    12\n",
       "11                                          HUMOROUS    12\n",
       "12                                      SCHOOL DRAMA    10\n",
       "13                                         CHRISTMAS    10\n",
       "14                                          CHILDREN     9\n",
       "15                                         MYTHOLOGY     8\n",
       "16                                            FAMILY     7\n",
       "17                                     BASED ON BOOK     7\n",
       "18                                         HALLOWEEN     7\n",
       "19                                   BOARDING SCHOOL     6\n",
       "20                                      INVISIBILITY     6\n",
       "21                                      ALAN RICKMAN     6\n",
       "22                                            SEQUEL     5\n",
       "23                                       EMMA WATSON     5\n",
       "24                                  DANIEL RADCLIFFE     4\n",
       "25                                              DOGS     3\n",
       "26                                 ADAPTED FROM:BOOK     3\n",
       "27                                    CHRIS COLUMBUS     3\n",
       "28                                             CHESS     3\n",
       "29                                        HARPER LEE     2\n",
       "..                                               ...   ...\n",
       "76                            DECEASED FAMILY MEMBER     1\n",
       "77                                        FIONA SHAW     1\n",
       "78                                              CUTE     1\n",
       "79                                         FRANCHISE     1\n",
       "80                                            SRI-FI     1\n",
       "81                                    MULTIPLE ROLES     1\n",
       "82                                            FOREST     1\n",
       "83                                           CLASSIC     1\n",
       "84                                               CAT     1\n",
       "85                                             DIVX1     1\n",
       "86                                     UNDERWHELMING     1\n",
       "87                                              DARK     1\n",
       "88                                  BEST AMONG ALL 7     1\n",
       "89                                            MORALS     1\n",
       "90                       EVERYTHING YOU WANT IS HERE     1\n",
       "91                                       ERIC'S DVDS     1\n",
       "92                                         DR. SEUSS     1\n",
       "93                           NOT AS GOOD AS THE BOOK     1\n",
       "94                                         EXUBERANT     1\n",
       "95                                        FAIRY TALE     1\n",
       "96                                             HARRY     1\n",
       "97                                            MOVIES     1\n",
       "98                                           FANTACY     1\n",
       "99   JOSEPH CAMPBELL'S STUDY OF MYTHOLOGY INFLUENCED     1\n",
       "100                                             OWLS     1\n",
       "101                                           TROLLS     1\n",
       "102                                       JK ROWLING     1\n",
       "103                                    ERLEND'S DVDS     1\n",
       "104                                 CHILDHOOD MEMORY     1\n",
       "105                                           SIMPLE     1\n",
       "\n",
       "[106 rows x 2 columns]"
      ]
     },
     "execution_count": 14,
     "metadata": {},
     "output_type": "execute_result"
    }
   ],
   "source": [
    "# мешок слов (bag-of-worda)\n",
    "from pyspark.sql.functions import explode, count, desc\n",
    "\n",
    "(\n",
    "    content_features\n",
    "    .where(\"movieId == 4896\")\n",
    "    .select(explode(\"content_features\").alias(\"words\"))\n",
    "    .groupBy(\"words\")\n",
    "    .agg(count(\"words\").alias(\"freq\"))\n",
    "    .orderBy(desc(\"freq\"))\n",
    "    .toPandas()\n",
    ")"
   ]
  },
  {
   "cell_type": "code",
   "execution_count": 15,
   "metadata": {
    "slideshow": {
     "slide_type": "slide"
    }
   },
   "outputs": [
    {
     "data": {
      "text/plain": [
       "45843"
      ]
     },
     "execution_count": 15,
     "metadata": {},
     "output_type": "execute_result"
    }
   ],
   "source": [
    "# такие фичи у нас есть для всех фильмов\n",
    "content_features.count()"
   ]
  },
  {
   "cell_type": "code",
   "execution_count": 16,
   "metadata": {
    "slideshow": {
     "slide_type": "slide"
    }
   },
   "outputs": [],
   "source": [
    "# посчитаем частоты встречаемости для тегов для всех фильмов\n",
    "from pyspark.ml.feature import HashingTF\n",
    "\n",
    "term_frequencies = HashingTF(\n",
    "    # от каждого тега будет вычислен хэш\n",
    "    # и по факту мы будем считать частоты бакетов хэшей, а не самих тегов\n",
    "    numFeatures=1024,\n",
    "    inputCol=\"content_features\",\n",
    "    outputCol=\"term_frequencies\"\n",
    ").transform(content_features).cache()"
   ]
  },
  {
   "cell_type": "code",
   "execution_count": 17,
   "metadata": {
    "scrolled": true,
    "slideshow": {
     "slide_type": "fragment"
    }
   },
   "outputs": [
    {
     "data": {
      "text/plain": [
       "SparseVector(1024, {23: 1.0, 27: 2.0, 29: 1.0, 33: 1.0, 37: 1.0, 55: 1.0, 60: 1.0, 61: 2.0, 73: 1.0, 98: 1.0, 103: 10.0, 113: 12.0, 117: 3.0, 121: 1.0, 124: 2.0, 126: 8.0, 128: 1.0, 180: 1.0, 189: 1.0, 192: 1.0, 200: 1.0, 232: 10.0, 236: 16.0, 239: 1.0, 255: 7.0, 258: 1.0, 264: 2.0, 272: 1.0, 285: 1.0, 303: 30.0, 307: 1.0, 309: 35.0, 344: 1.0, 373: 5.0, 383: 17.0, 386: 1.0, 389: 7.0, 395: 2.0, 398: 1.0, 404: 7.0, 409: 1.0, 414: 4.0, 451: 2.0, 462: 1.0, 466: 1.0, 473: 6.0, 489: 1.0, 492: 2.0, 499: 1.0, 507: 1.0, 513: 1.0, 518: 25.0, 521: 1.0, 530: 1.0, 535: 1.0, 547: 1.0, 548: 1.0, 553: 1.0, 569: 1.0, 596: 1.0, 606: 1.0, 609: 1.0, 611: 53.0, 647: 1.0, 665: 1.0, 678: 1.0, 683: 1.0, 684: 57.0, 687: 1.0, 702: 5.0, 711: 1.0, 715: 1.0, 716: 6.0, 718: 2.0, 726: 1.0, 729: 1.0, 742: 3.0, 743: 13.0, 750: 2.0, 752: 12.0, 753: 31.0, 761: 1.0, 785: 1.0, 790: 3.0, 827: 1.0, 832: 2.0, 838: 1.0, 857: 1.0, 870: 1.0, 878: 1.0, 881: 7.0, 887: 2.0, 888: 2.0, 892: 1.0, 897: 22.0, 914: 9.0, 923: 1.0, 926: 1.0, 966: 1.0, 968: 1.0, 996: 1.0, 1014: 1.0, 1022: 3.0})"
      ]
     },
     "execution_count": 17,
     "metadata": {},
     "output_type": "execute_result"
    }
   ],
   "source": [
    "# пример частот встречаемости бакетов (хранится в виде разреженного вектора)\n",
    "term_frequencies.where(\"movieId == 4896\").first().term_frequencies"
   ]
  },
  {
   "cell_type": "code",
   "execution_count": 18,
   "metadata": {
    "slideshow": {
     "slide_type": "slide"
    }
   },
   "outputs": [],
   "source": [
    "# теперь сделаем поправку на частоту тегов в целом, чтобы убрать неинформативные теги\n",
    "# это второй шаг TF-IDF (term frequency, inverted document frequency)\n",
    "from pyspark.ml.feature import IDF\n",
    "\n",
    "idf_model = IDF(\n",
    "    inputCol=\"term_frequencies\",\n",
    "    outputCol=\"tf_idf\",\n",
    "    minDocFreq=2\n",
    ").fit(term_frequencies)\n",
    "tf_idf = (\n",
    "    idf_model\n",
    "    .transform(term_frequencies)\n",
    "    .select(\"movieId\", \"title\", \"tf_idf\")\n",
    "    .cache()\n",
    ")"
   ]
  },
  {
   "cell_type": "markdown",
   "metadata": {
    "slideshow": {
     "slide_type": "fragment"
    }
   },
   "source": [
    "$$IDF=\\ln\\frac{N+1}{n+1},$$ где $N$ - общее количество документов (в нашем случае, количество фильмов), а $n$ - количество документов, в которых встречается данный терм (в нашем случае - количество фильмов, которым соответствует определённый бакет хэш-функции от тегов)"
   ]
  },
  {
   "cell_type": "code",
   "execution_count": 19,
   "metadata": {
    "scrolled": true,
    "slideshow": {
     "slide_type": "slide"
    }
   },
   "outputs": [
    {
     "data": {
      "text/plain": [
       "array([4.98360662, 6.08860871, 5.1495033 , 4.41764161, 5.03590612,\n",
       "       5.6767538 , 5.3577212 , 5.70911909, 4.8413554 , 5.08402537,\n",
       "       5.33032223, 6.06017077, 5.65159524, 5.58550513, 5.28196115,\n",
       "       5.62705413, 5.10537849, 5.53450258, 5.58550513, 5.33937206])"
      ]
     },
     "execution_count": 19,
     "metadata": {},
     "output_type": "execute_result"
    }
   ],
   "source": [
    "# собственно, сами инвертированные частоты термов\n",
    "idf_model.idf[:20]"
   ]
  },
  {
   "cell_type": "code",
   "execution_count": 20,
   "metadata": {
    "scrolled": false,
    "slideshow": {
     "slide_type": "fragment"
    }
   },
   "outputs": [
    {
     "data": {
      "text/plain": [
       "SparseVector(1024, {23: 4.6809, 27: 9.4046, 29: 4.2332, 33: 5.54, 37: 4.8553, 55: 5.1996, 60: 5.5855, 61: 10.0718, 73: 5.3348, 98: 6.079, 103: 54.0028, 113: 57.9972, 117: 15.3596, 121: 4.1386, 124: 11.9417, 126: 42.2557, 128: 5.2441, 180: 5.084, 189: 4.7643, 192: 5.2358, 200: 5.2482, 232: 50.029, 236: 83.2571, 239: 4.9741, 255: 30.687, 258: 5.7632, 264: 12.3582, 272: 5.2777, 285: 5.5019, 303: 103.3222, 307: 4.4545, 309: 182.2641, 344: 5.54, 373: 27.2744, 383: 80.2695, 386: 4.0237, 389: 36.9437, 395: 9.3903, 398: 5.9372, 404: 33.8702, 409: 4.4213, 414: 21.394, 451: 10.5986, 462: 5.2399, 466: 6.1179, 473: 29.8826, 489: 5.9127, 492: 10.5725, 499: 4.8195, 507: 5.3348, 513: 4.3563, 518: 63.4969, 521: 5.8203, 530: 4.6304, 535: 4.5888, 547: 6.2004, 548: 4.7592, 553: 4.5427, 569: 4.8114, 596: 5.0259, 606: 4.7955, 609: 5.4755, 611: 149.6655, 647: 5.3303, 665: 4.8469, 678: 5.46, 683: 5.6271, 684: 282.4548, 687: 5.2607, 702: 20.4071, 711: 5.308, 715: 6.2332, 716: 36.361, 718: 8.7159, 726: 5.3955, 729: 5.0631, 742: 17.6196, 743: 78.3051, 750: 11.8416, 752: 61.7042, 753: 183.2943, 761: 5.8732, 785: 5.308, 790: 11.9598, 827: 4.2637, 832: 10.4553, 838: 5.2777, 857: 5.18, 870: 5.2441, 878: 5.4966, 881: 35.6376, 887: 11.2785, 888: 11.4447, 892: 6.079, 897: 64.3608, 914: 26.1411, 923: 4.8895, 926: 4.5164, 966: 6.148, 968: 2.3258, 996: 5.3811, 1014: 4.8386, 1022: 15.1279})"
      ]
     },
     "execution_count": 20,
     "metadata": {},
     "output_type": "execute_result"
    }
   ],
   "source": [
    "# результат TF-IDF преобразования для Гарри Поттера\n",
    "tf_idf.where(\"movieId == 4896\").first().tf_idf"
   ]
  },
  {
   "cell_type": "code",
   "execution_count": 21,
   "metadata": {
    "slideshow": {
     "slide_type": "slide"
    }
   },
   "outputs": [],
   "source": [
    "tf_idf.coalesce(1).write.mode(\"overwrite\").json(os.path.join(DATA_DIR, \"tf_idf.json\"))"
   ]
  },
  {
   "cell_type": "code",
   "execution_count": 22,
   "metadata": {
    "scrolled": false,
    "slideshow": {
     "slide_type": "fragment"
    }
   },
   "outputs": [
    {
     "name": "stdout",
     "output_type": "stream",
     "text": [
      "total 12M\r\n",
      "-rw-r--r-- 1 root root   0 May 13 06:50 _SUCCESS\r\n",
      "-rw-r--r-- 1 root root 12M May 13 06:50 part-00000-44f1a3f5-69fc-403f-bcb5-9164aea44878-c000.json\r\n"
     ]
    }
   ],
   "source": [
    "# Spark всегда создаёт папку при записи DataFrame на диск\n",
    "!ls -lh $DATA_DIR/tf_idf.json"
   ]
  },
  {
   "cell_type": "code",
   "execution_count": 23,
   "metadata": {
    "scrolled": true,
    "slideshow": {
     "slide_type": "fragment"
    }
   },
   "outputs": [
    {
     "name": "stdout",
     "output_type": "stream",
     "text": [
      "       0        0        0 /data/ml-latest/tf_idf.json/_SUCCESS\r\n",
      "   45843   201006 12529653 /data/ml-latest/tf_idf.json/part-00000-44f1a3f5-69fc-403f-bcb5-9164aea44878-c000.json\r\n",
      "   45843   201006 12529653 total\r\n"
     ]
    }
   ],
   "source": [
    "# в случае coalesce(1) в этой папке будет только один файл с данными\n",
    "# и один контрольный файл\n",
    "!wc $DATA_DIR/tf_idf.json/*"
   ]
  },
  {
   "cell_type": "code",
   "execution_count": 24,
   "metadata": {
    "scrolled": true,
    "slideshow": {
     "slide_type": "fragment"
    }
   },
   "outputs": [
    {
     "name": "stdout",
     "output_type": "stream",
     "text": [
      "==> /data/ml-latest/tf_idf.json/_SUCCESS <==\r\n",
      "\r\n",
      "==> /data/ml-latest/tf_idf.json/part-00000-44f1a3f5-69fc-403f-bcb5-9164aea44878-c000.json <==\r\n",
      "{\"movieId\":148,\"title\":\"Awfully Big Adventure, An (1995)\",\"tf_idf\":{\"type\":0,\"size\":1024,\"indices\":[434,437,572,865],\"values\":[0.8281629655111662,3.3299385165264987,6.137879757482,4.774574914586808]}}\r\n"
     ]
    }
   ],
   "source": [
    "# в файле с данными построчно хранятся человек-читаемые JSON-преставления разреженных TF-IDF векторов\n",
    "!head -1 $DATA_DIR/tf_idf.json/*"
   ]
  },
  {
   "cell_type": "code",
   "execution_count": 25,
   "metadata": {
    "slideshow": {
     "slide_type": "slide"
    }
   },
   "outputs": [],
   "source": [
    "# наиболее популярным форматом для сохранения на диске при работе со Spark является\n",
    "# Parquet - https://parquet.apache.org/\n",
    "tf_idf.write.mode(\"overwrite\").parquet(os.path.join(DATA_DIR, \"tf_idf.parquet\"))"
   ]
  },
  {
   "cell_type": "code",
   "execution_count": 26,
   "metadata": {
    "slideshow": {
     "slide_type": "fragment"
    }
   },
   "outputs": [
    {
     "name": "stdout",
     "output_type": "stream",
     "text": [
      "5.2M\t/data/ml-latest/tf_idf.parquet\r\n"
     ]
    }
   ],
   "source": [
    "# файлы в формате Parquet занимают в два с лишним раза меньший объём, чем JSON\n",
    "!du -h $DATA_DIR/tf_idf.parquet"
   ]
  },
  {
   "cell_type": "code",
   "execution_count": 27,
   "metadata": {
    "scrolled": true,
    "slideshow": {
     "slide_type": "fragment"
    }
   },
   "outputs": [
    {
     "name": "stdout",
     "output_type": "stream",
     "text": [
      "PAR1\u0015\u0000\u0015�\u000e\u0015�\u000e,\u0015�\u0003\u0015\u0000\u0015\u0006\u0015\b\u001c",
      "\u0018\u0004U�\u0002\u0000\u0018\u0004�\u0000\u0000\u0000\u0016\u0000\u0000\u0000\u0000�\u0007��\u0003\u0003\u0000\u0000\u0000�\u0003\u0001�\u0000\u0000\u0000�\u0001\u0000\u0000�\u0001\u0000\u0000�\u0001\u0000\u0000A\u0003\u0000\u0000@\u0004\u0000\u0000�\u0004\u0000\u0000>\u0005\u0000\u0000,\u0006\u0000\u00007\u0006\u0000\u0000m\u0006\u0000\u0000%\u0007\u0000\u0000�\u0007\u0000\u0000J\b\u0000\u0000^\b\u0000\u0000>\t\u0000\u0000c\r\n",
      "\u0000\u00002\u000b",
      "\u0000\u0000g\f",
      "\u0000\u0000�\u000e\u0000\u0000�\u000e\u0000\u0000N\u000f\u0000\u0000�\u000f\u0000\u0000\u0005\u0010\u0000\u0000�\u0011\u0000\u0000�\u0012\u0000\u0000$\u0013\u0000\u0000G\u0013\u0000\u0000$\u0014\u0000\u0000�\u0014\u0000\u0000�\u0015\u0000\u0000�\u0016\u0000\u0000�\u0018\u0000\u0000�\u0018\u0000\u0000�\u0018\u0000\u0000B\u0019\u0000\u0000�\u0019\u0000\u0000�\u0019\u0000\u0000\u0002\u001a\u0000\u0000H\u001c",
      "\u0000\u0000U\u001c",
      "\u0000\u0000�\u001c",
      "\u0000\u0000J\u001e",
      "\u0000\u0000�\u001e",
      "\u0000\u0000�\u001e",
      "\u0000\u0000.\u001f\u0000\u00009\u001f\u0000\u0000�!\u0000\u0000�!\u0000\u00009g\u0000\u0000Th\u0000\u0000�h\u0000\u0000\\k\u0000\u0000pl\u0000\u0000�x\u0000\u0000;y\u0000\u0000�z\u0000\u0000({\u0000\u0000�|\u0000\u0000�~\u0000\u0000��\u0000\u0000��\u0000\u0000��\u0000\u0000~�\u0000\u0000g�\u0000\u0000��\u0000\u0000h�\u0000\u0000��\u0000\u0000��\u0000\u0000��\u0000\u0000��\u0000\u0000\u001a�\u0000\u0000��\u0000\u0000'�\u0000\u0000��\u0000\u0000\u0007�\u0000\u0000'\r\n",
      "cat: write error: Broken pipe\r\n"
     ]
    }
   ],
   "source": [
    "# потому что это бинарный формат\n",
    "!cat $DATA_DIR/tf_idf.parquet/* | head -2"
   ]
  },
  {
   "cell_type": "code",
   "execution_count": 28,
   "metadata": {
    "slideshow": {
     "slide_type": "fragment"
    }
   },
   "outputs": [
    {
     "name": "stdout",
     "output_type": "stream",
     "text": [
      "_SUCCESS\r\n",
      "part-00000-b69c4d7d-be7d-4701-9ce7-f5d64ebf4fc9-c000.snappy.parquet\r\n",
      "part-00001-b69c4d7d-be7d-4701-9ce7-f5d64ebf4fc9-c000.snappy.parquet\r\n",
      "part-00002-b69c4d7d-be7d-4701-9ce7-f5d64ebf4fc9-c000.snappy.parquet\r\n",
      "part-00003-b69c4d7d-be7d-4701-9ce7-f5d64ebf4fc9-c000.snappy.parquet\r\n",
      "part-00004-b69c4d7d-be7d-4701-9ce7-f5d64ebf4fc9-c000.snappy.parquet\r\n",
      "part-00005-b69c4d7d-be7d-4701-9ce7-f5d64ebf4fc9-c000.snappy.parquet\r\n",
      "part-00006-b69c4d7d-be7d-4701-9ce7-f5d64ebf4fc9-c000.snappy.parquet\r\n",
      "part-00007-b69c4d7d-be7d-4701-9ce7-f5d64ebf4fc9-c000.snappy.parquet\r\n",
      "part-00008-b69c4d7d-be7d-4701-9ce7-f5d64ebf4fc9-c000.snappy.parquet\r\n",
      "part-00009-b69c4d7d-be7d-4701-9ce7-f5d64ebf4fc9-c000.snappy.parquet\r\n",
      "part-00010-b69c4d7d-be7d-4701-9ce7-f5d64ebf4fc9-c000.snappy.parquet\r\n",
      "part-00011-b69c4d7d-be7d-4701-9ce7-f5d64ebf4fc9-c000.snappy.parquet\r\n",
      "part-00012-b69c4d7d-be7d-4701-9ce7-f5d64ebf4fc9-c000.snappy.parquet\r\n",
      "part-00013-b69c4d7d-be7d-4701-9ce7-f5d64ebf4fc9-c000.snappy.parquet\r\n",
      "part-00014-b69c4d7d-be7d-4701-9ce7-f5d64ebf4fc9-c000.snappy.parquet\r\n",
      "part-00015-b69c4d7d-be7d-4701-9ce7-f5d64ebf4fc9-c000.snappy.parquet\r\n",
      "part-00016-b69c4d7d-be7d-4701-9ce7-f5d64ebf4fc9-c000.snappy.parquet\r\n",
      "part-00017-b69c4d7d-be7d-4701-9ce7-f5d64ebf4fc9-c000.snappy.parquet\r\n",
      "part-00018-b69c4d7d-be7d-4701-9ce7-f5d64ebf4fc9-c000.snappy.parquet\r\n",
      "part-00019-b69c4d7d-be7d-4701-9ce7-f5d64ebf4fc9-c000.snappy.parquet\r\n",
      "part-00020-b69c4d7d-be7d-4701-9ce7-f5d64ebf4fc9-c000.snappy.parquet\r\n",
      "part-00021-b69c4d7d-be7d-4701-9ce7-f5d64ebf4fc9-c000.snappy.parquet\r\n",
      "part-00022-b69c4d7d-be7d-4701-9ce7-f5d64ebf4fc9-c000.snappy.parquet\r\n",
      "part-00023-b69c4d7d-be7d-4701-9ce7-f5d64ebf4fc9-c000.snappy.parquet\r\n",
      "part-00024-b69c4d7d-be7d-4701-9ce7-f5d64ebf4fc9-c000.snappy.parquet\r\n",
      "part-00025-b69c4d7d-be7d-4701-9ce7-f5d64ebf4fc9-c000.snappy.parquet\r\n",
      "part-00026-b69c4d7d-be7d-4701-9ce7-f5d64ebf4fc9-c000.snappy.parquet\r\n",
      "part-00027-b69c4d7d-be7d-4701-9ce7-f5d64ebf4fc9-c000.snappy.parquet\r\n",
      "part-00028-b69c4d7d-be7d-4701-9ce7-f5d64ebf4fc9-c000.snappy.parquet\r\n",
      "part-00029-b69c4d7d-be7d-4701-9ce7-f5d64ebf4fc9-c000.snappy.parquet\r\n",
      "part-00030-b69c4d7d-be7d-4701-9ce7-f5d64ebf4fc9-c000.snappy.parquet\r\n",
      "part-00031-b69c4d7d-be7d-4701-9ce7-f5d64ebf4fc9-c000.snappy.parquet\r\n",
      "part-00032-b69c4d7d-be7d-4701-9ce7-f5d64ebf4fc9-c000.snappy.parquet\r\n",
      "part-00033-b69c4d7d-be7d-4701-9ce7-f5d64ebf4fc9-c000.snappy.parquet\r\n",
      "part-00034-b69c4d7d-be7d-4701-9ce7-f5d64ebf4fc9-c000.snappy.parquet\r\n",
      "part-00035-b69c4d7d-be7d-4701-9ce7-f5d64ebf4fc9-c000.snappy.parquet\r\n",
      "part-00036-b69c4d7d-be7d-4701-9ce7-f5d64ebf4fc9-c000.snappy.parquet\r\n",
      "part-00037-b69c4d7d-be7d-4701-9ce7-f5d64ebf4fc9-c000.snappy.parquet\r\n",
      "part-00038-b69c4d7d-be7d-4701-9ce7-f5d64ebf4fc9-c000.snappy.parquet\r\n",
      "part-00039-b69c4d7d-be7d-4701-9ce7-f5d64ebf4fc9-c000.snappy.parquet\r\n",
      "part-00040-b69c4d7d-be7d-4701-9ce7-f5d64ebf4fc9-c000.snappy.parquet\r\n",
      "part-00041-b69c4d7d-be7d-4701-9ce7-f5d64ebf4fc9-c000.snappy.parquet\r\n",
      "part-00042-b69c4d7d-be7d-4701-9ce7-f5d64ebf4fc9-c000.snappy.parquet\r\n",
      "part-00043-b69c4d7d-be7d-4701-9ce7-f5d64ebf4fc9-c000.snappy.parquet\r\n",
      "part-00044-b69c4d7d-be7d-4701-9ce7-f5d64ebf4fc9-c000.snappy.parquet\r\n",
      "part-00045-b69c4d7d-be7d-4701-9ce7-f5d64ebf4fc9-c000.snappy.parquet\r\n",
      "part-00046-b69c4d7d-be7d-4701-9ce7-f5d64ebf4fc9-c000.snappy.parquet\r\n",
      "part-00047-b69c4d7d-be7d-4701-9ce7-f5d64ebf4fc9-c000.snappy.parquet\r\n",
      "part-00048-b69c4d7d-be7d-4701-9ce7-f5d64ebf4fc9-c000.snappy.parquet\r\n",
      "part-00049-b69c4d7d-be7d-4701-9ce7-f5d64ebf4fc9-c000.snappy.parquet\r\n",
      "part-00050-b69c4d7d-be7d-4701-9ce7-f5d64ebf4fc9-c000.snappy.parquet\r\n",
      "part-00051-b69c4d7d-be7d-4701-9ce7-f5d64ebf4fc9-c000.snappy.parquet\r\n",
      "part-00052-b69c4d7d-be7d-4701-9ce7-f5d64ebf4fc9-c000.snappy.parquet\r\n",
      "part-00053-b69c4d7d-be7d-4701-9ce7-f5d64ebf4fc9-c000.snappy.parquet\r\n",
      "part-00054-b69c4d7d-be7d-4701-9ce7-f5d64ebf4fc9-c000.snappy.parquet\r\n",
      "part-00055-b69c4d7d-be7d-4701-9ce7-f5d64ebf4fc9-c000.snappy.parquet\r\n",
      "part-00056-b69c4d7d-be7d-4701-9ce7-f5d64ebf4fc9-c000.snappy.parquet\r\n",
      "part-00057-b69c4d7d-be7d-4701-9ce7-f5d64ebf4fc9-c000.snappy.parquet\r\n",
      "part-00058-b69c4d7d-be7d-4701-9ce7-f5d64ebf4fc9-c000.snappy.parquet\r\n",
      "part-00059-b69c4d7d-be7d-4701-9ce7-f5d64ebf4fc9-c000.snappy.parquet\r\n",
      "part-00060-b69c4d7d-be7d-4701-9ce7-f5d64ebf4fc9-c000.snappy.parquet\r\n",
      "part-00061-b69c4d7d-be7d-4701-9ce7-f5d64ebf4fc9-c000.snappy.parquet\r\n",
      "part-00062-b69c4d7d-be7d-4701-9ce7-f5d64ebf4fc9-c000.snappy.parquet\r\n",
      "part-00063-b69c4d7d-be7d-4701-9ce7-f5d64ebf4fc9-c000.snappy.parquet\r\n",
      "part-00064-b69c4d7d-be7d-4701-9ce7-f5d64ebf4fc9-c000.snappy.parquet\r\n",
      "part-00065-b69c4d7d-be7d-4701-9ce7-f5d64ebf4fc9-c000.snappy.parquet\r\n",
      "part-00066-b69c4d7d-be7d-4701-9ce7-f5d64ebf4fc9-c000.snappy.parquet\r\n",
      "part-00067-b69c4d7d-be7d-4701-9ce7-f5d64ebf4fc9-c000.snappy.parquet\r\n",
      "part-00068-b69c4d7d-be7d-4701-9ce7-f5d64ebf4fc9-c000.snappy.parquet\r\n",
      "part-00069-b69c4d7d-be7d-4701-9ce7-f5d64ebf4fc9-c000.snappy.parquet\r\n",
      "part-00070-b69c4d7d-be7d-4701-9ce7-f5d64ebf4fc9-c000.snappy.parquet\r\n",
      "part-00071-b69c4d7d-be7d-4701-9ce7-f5d64ebf4fc9-c000.snappy.parquet\r\n",
      "part-00072-b69c4d7d-be7d-4701-9ce7-f5d64ebf4fc9-c000.snappy.parquet\r\n",
      "part-00073-b69c4d7d-be7d-4701-9ce7-f5d64ebf4fc9-c000.snappy.parquet\r\n",
      "part-00074-b69c4d7d-be7d-4701-9ce7-f5d64ebf4fc9-c000.snappy.parquet\r\n",
      "part-00075-b69c4d7d-be7d-4701-9ce7-f5d64ebf4fc9-c000.snappy.parquet\r\n",
      "part-00076-b69c4d7d-be7d-4701-9ce7-f5d64ebf4fc9-c000.snappy.parquet\r\n",
      "part-00077-b69c4d7d-be7d-4701-9ce7-f5d64ebf4fc9-c000.snappy.parquet\r\n",
      "part-00078-b69c4d7d-be7d-4701-9ce7-f5d64ebf4fc9-c000.snappy.parquet\r\n",
      "part-00079-b69c4d7d-be7d-4701-9ce7-f5d64ebf4fc9-c000.snappy.parquet\r\n",
      "part-00080-b69c4d7d-be7d-4701-9ce7-f5d64ebf4fc9-c000.snappy.parquet\r\n",
      "part-00081-b69c4d7d-be7d-4701-9ce7-f5d64ebf4fc9-c000.snappy.parquet\r\n",
      "part-00082-b69c4d7d-be7d-4701-9ce7-f5d64ebf4fc9-c000.snappy.parquet\r\n",
      "part-00083-b69c4d7d-be7d-4701-9ce7-f5d64ebf4fc9-c000.snappy.parquet\r\n",
      "part-00084-b69c4d7d-be7d-4701-9ce7-f5d64ebf4fc9-c000.snappy.parquet\r\n",
      "part-00085-b69c4d7d-be7d-4701-9ce7-f5d64ebf4fc9-c000.snappy.parquet\r\n",
      "part-00086-b69c4d7d-be7d-4701-9ce7-f5d64ebf4fc9-c000.snappy.parquet\r\n",
      "part-00087-b69c4d7d-be7d-4701-9ce7-f5d64ebf4fc9-c000.snappy.parquet\r\n",
      "part-00088-b69c4d7d-be7d-4701-9ce7-f5d64ebf4fc9-c000.snappy.parquet\r\n",
      "part-00089-b69c4d7d-be7d-4701-9ce7-f5d64ebf4fc9-c000.snappy.parquet\r\n",
      "part-00090-b69c4d7d-be7d-4701-9ce7-f5d64ebf4fc9-c000.snappy.parquet\r\n",
      "part-00091-b69c4d7d-be7d-4701-9ce7-f5d64ebf4fc9-c000.snappy.parquet\r\n",
      "part-00092-b69c4d7d-be7d-4701-9ce7-f5d64ebf4fc9-c000.snappy.parquet\r\n",
      "part-00093-b69c4d7d-be7d-4701-9ce7-f5d64ebf4fc9-c000.snappy.parquet\r\n",
      "part-00094-b69c4d7d-be7d-4701-9ce7-f5d64ebf4fc9-c000.snappy.parquet\r\n",
      "part-00095-b69c4d7d-be7d-4701-9ce7-f5d64ebf4fc9-c000.snappy.parquet\r\n",
      "part-00096-b69c4d7d-be7d-4701-9ce7-f5d64ebf4fc9-c000.snappy.parquet\r\n",
      "part-00097-b69c4d7d-be7d-4701-9ce7-f5d64ebf4fc9-c000.snappy.parquet\r\n",
      "part-00098-b69c4d7d-be7d-4701-9ce7-f5d64ebf4fc9-c000.snappy.parquet\r\n",
      "part-00099-b69c4d7d-be7d-4701-9ce7-f5d64ebf4fc9-c000.snappy.parquet\r\n",
      "part-00100-b69c4d7d-be7d-4701-9ce7-f5d64ebf4fc9-c000.snappy.parquet\r\n",
      "part-00101-b69c4d7d-be7d-4701-9ce7-f5d64ebf4fc9-c000.snappy.parquet\r\n",
      "part-00102-b69c4d7d-be7d-4701-9ce7-f5d64ebf4fc9-c000.snappy.parquet\r\n",
      "part-00103-b69c4d7d-be7d-4701-9ce7-f5d64ebf4fc9-c000.snappy.parquet\r\n",
      "part-00104-b69c4d7d-be7d-4701-9ce7-f5d64ebf4fc9-c000.snappy.parquet\r\n",
      "part-00105-b69c4d7d-be7d-4701-9ce7-f5d64ebf4fc9-c000.snappy.parquet\r\n",
      "part-00106-b69c4d7d-be7d-4701-9ce7-f5d64ebf4fc9-c000.snappy.parquet\r\n",
      "part-00107-b69c4d7d-be7d-4701-9ce7-f5d64ebf4fc9-c000.snappy.parquet\r\n",
      "part-00108-b69c4d7d-be7d-4701-9ce7-f5d64ebf4fc9-c000.snappy.parquet\r\n",
      "part-00109-b69c4d7d-be7d-4701-9ce7-f5d64ebf4fc9-c000.snappy.parquet\r\n",
      "part-00110-b69c4d7d-be7d-4701-9ce7-f5d64ebf4fc9-c000.snappy.parquet\r\n",
      "part-00111-b69c4d7d-be7d-4701-9ce7-f5d64ebf4fc9-c000.snappy.parquet\r\n",
      "part-00112-b69c4d7d-be7d-4701-9ce7-f5d64ebf4fc9-c000.snappy.parquet\r\n",
      "part-00113-b69c4d7d-be7d-4701-9ce7-f5d64ebf4fc9-c000.snappy.parquet\r\n",
      "part-00114-b69c4d7d-be7d-4701-9ce7-f5d64ebf4fc9-c000.snappy.parquet\r\n",
      "part-00115-b69c4d7d-be7d-4701-9ce7-f5d64ebf4fc9-c000.snappy.parquet\r\n",
      "part-00116-b69c4d7d-be7d-4701-9ce7-f5d64ebf4fc9-c000.snappy.parquet\r\n",
      "part-00117-b69c4d7d-be7d-4701-9ce7-f5d64ebf4fc9-c000.snappy.parquet\r\n",
      "part-00118-b69c4d7d-be7d-4701-9ce7-f5d64ebf4fc9-c000.snappy.parquet\r\n",
      "part-00119-b69c4d7d-be7d-4701-9ce7-f5d64ebf4fc9-c000.snappy.parquet\r\n",
      "part-00120-b69c4d7d-be7d-4701-9ce7-f5d64ebf4fc9-c000.snappy.parquet\r\n",
      "part-00121-b69c4d7d-be7d-4701-9ce7-f5d64ebf4fc9-c000.snappy.parquet\r\n",
      "part-00122-b69c4d7d-be7d-4701-9ce7-f5d64ebf4fc9-c000.snappy.parquet\r\n",
      "part-00123-b69c4d7d-be7d-4701-9ce7-f5d64ebf4fc9-c000.snappy.parquet\r\n",
      "part-00124-b69c4d7d-be7d-4701-9ce7-f5d64ebf4fc9-c000.snappy.parquet\r\n",
      "part-00125-b69c4d7d-be7d-4701-9ce7-f5d64ebf4fc9-c000.snappy.parquet\r\n",
      "part-00126-b69c4d7d-be7d-4701-9ce7-f5d64ebf4fc9-c000.snappy.parquet\r\n",
      "part-00127-b69c4d7d-be7d-4701-9ce7-f5d64ebf4fc9-c000.snappy.parquet\r\n",
      "part-00128-b69c4d7d-be7d-4701-9ce7-f5d64ebf4fc9-c000.snappy.parquet\r\n",
      "part-00129-b69c4d7d-be7d-4701-9ce7-f5d64ebf4fc9-c000.snappy.parquet\r\n",
      "part-00130-b69c4d7d-be7d-4701-9ce7-f5d64ebf4fc9-c000.snappy.parquet\r\n",
      "part-00131-b69c4d7d-be7d-4701-9ce7-f5d64ebf4fc9-c000.snappy.parquet\r\n",
      "part-00132-b69c4d7d-be7d-4701-9ce7-f5d64ebf4fc9-c000.snappy.parquet\r\n",
      "part-00133-b69c4d7d-be7d-4701-9ce7-f5d64ebf4fc9-c000.snappy.parquet\r\n",
      "part-00134-b69c4d7d-be7d-4701-9ce7-f5d64ebf4fc9-c000.snappy.parquet\r\n",
      "part-00135-b69c4d7d-be7d-4701-9ce7-f5d64ebf4fc9-c000.snappy.parquet\r\n",
      "part-00136-b69c4d7d-be7d-4701-9ce7-f5d64ebf4fc9-c000.snappy.parquet\r\n",
      "part-00137-b69c4d7d-be7d-4701-9ce7-f5d64ebf4fc9-c000.snappy.parquet\r\n",
      "part-00138-b69c4d7d-be7d-4701-9ce7-f5d64ebf4fc9-c000.snappy.parquet\r\n",
      "part-00139-b69c4d7d-be7d-4701-9ce7-f5d64ebf4fc9-c000.snappy.parquet\r\n",
      "part-00140-b69c4d7d-be7d-4701-9ce7-f5d64ebf4fc9-c000.snappy.parquet\r\n",
      "part-00141-b69c4d7d-be7d-4701-9ce7-f5d64ebf4fc9-c000.snappy.parquet\r\n",
      "part-00142-b69c4d7d-be7d-4701-9ce7-f5d64ebf4fc9-c000.snappy.parquet\r\n",
      "part-00143-b69c4d7d-be7d-4701-9ce7-f5d64ebf4fc9-c000.snappy.parquet\r\n",
      "part-00144-b69c4d7d-be7d-4701-9ce7-f5d64ebf4fc9-c000.snappy.parquet\r\n",
      "part-00145-b69c4d7d-be7d-4701-9ce7-f5d64ebf4fc9-c000.snappy.parquet\r\n",
      "part-00146-b69c4d7d-be7d-4701-9ce7-f5d64ebf4fc9-c000.snappy.parquet\r\n",
      "part-00147-b69c4d7d-be7d-4701-9ce7-f5d64ebf4fc9-c000.snappy.parquet\r\n",
      "part-00148-b69c4d7d-be7d-4701-9ce7-f5d64ebf4fc9-c000.snappy.parquet\r\n",
      "part-00149-b69c4d7d-be7d-4701-9ce7-f5d64ebf4fc9-c000.snappy.parquet\r\n",
      "part-00150-b69c4d7d-be7d-4701-9ce7-f5d64ebf4fc9-c000.snappy.parquet\r\n",
      "part-00151-b69c4d7d-be7d-4701-9ce7-f5d64ebf4fc9-c000.snappy.parquet\r\n",
      "part-00152-b69c4d7d-be7d-4701-9ce7-f5d64ebf4fc9-c000.snappy.parquet\r\n",
      "part-00153-b69c4d7d-be7d-4701-9ce7-f5d64ebf4fc9-c000.snappy.parquet\r\n",
      "part-00154-b69c4d7d-be7d-4701-9ce7-f5d64ebf4fc9-c000.snappy.parquet\r\n",
      "part-00155-b69c4d7d-be7d-4701-9ce7-f5d64ebf4fc9-c000.snappy.parquet\r\n",
      "part-00156-b69c4d7d-be7d-4701-9ce7-f5d64ebf4fc9-c000.snappy.parquet\r\n",
      "part-00157-b69c4d7d-be7d-4701-9ce7-f5d64ebf4fc9-c000.snappy.parquet\r\n",
      "part-00158-b69c4d7d-be7d-4701-9ce7-f5d64ebf4fc9-c000.snappy.parquet\r\n",
      "part-00159-b69c4d7d-be7d-4701-9ce7-f5d64ebf4fc9-c000.snappy.parquet\r\n",
      "part-00160-b69c4d7d-be7d-4701-9ce7-f5d64ebf4fc9-c000.snappy.parquet\r\n",
      "part-00161-b69c4d7d-be7d-4701-9ce7-f5d64ebf4fc9-c000.snappy.parquet\r\n",
      "part-00162-b69c4d7d-be7d-4701-9ce7-f5d64ebf4fc9-c000.snappy.parquet\r\n",
      "part-00163-b69c4d7d-be7d-4701-9ce7-f5d64ebf4fc9-c000.snappy.parquet\r\n",
      "part-00164-b69c4d7d-be7d-4701-9ce7-f5d64ebf4fc9-c000.snappy.parquet\r\n",
      "part-00165-b69c4d7d-be7d-4701-9ce7-f5d64ebf4fc9-c000.snappy.parquet\r\n",
      "part-00166-b69c4d7d-be7d-4701-9ce7-f5d64ebf4fc9-c000.snappy.parquet\r\n",
      "part-00167-b69c4d7d-be7d-4701-9ce7-f5d64ebf4fc9-c000.snappy.parquet\r\n",
      "part-00168-b69c4d7d-be7d-4701-9ce7-f5d64ebf4fc9-c000.snappy.parquet\r\n",
      "part-00169-b69c4d7d-be7d-4701-9ce7-f5d64ebf4fc9-c000.snappy.parquet\r\n",
      "part-00170-b69c4d7d-be7d-4701-9ce7-f5d64ebf4fc9-c000.snappy.parquet\r\n",
      "part-00171-b69c4d7d-be7d-4701-9ce7-f5d64ebf4fc9-c000.snappy.parquet\r\n",
      "part-00172-b69c4d7d-be7d-4701-9ce7-f5d64ebf4fc9-c000.snappy.parquet\r\n",
      "part-00173-b69c4d7d-be7d-4701-9ce7-f5d64ebf4fc9-c000.snappy.parquet\r\n",
      "part-00174-b69c4d7d-be7d-4701-9ce7-f5d64ebf4fc9-c000.snappy.parquet\r\n",
      "part-00175-b69c4d7d-be7d-4701-9ce7-f5d64ebf4fc9-c000.snappy.parquet\r\n",
      "part-00176-b69c4d7d-be7d-4701-9ce7-f5d64ebf4fc9-c000.snappy.parquet\r\n",
      "part-00177-b69c4d7d-be7d-4701-9ce7-f5d64ebf4fc9-c000.snappy.parquet\r\n",
      "part-00178-b69c4d7d-be7d-4701-9ce7-f5d64ebf4fc9-c000.snappy.parquet\r\n",
      "part-00179-b69c4d7d-be7d-4701-9ce7-f5d64ebf4fc9-c000.snappy.parquet\r\n",
      "part-00180-b69c4d7d-be7d-4701-9ce7-f5d64ebf4fc9-c000.snappy.parquet\r\n",
      "part-00181-b69c4d7d-be7d-4701-9ce7-f5d64ebf4fc9-c000.snappy.parquet\r\n",
      "part-00182-b69c4d7d-be7d-4701-9ce7-f5d64ebf4fc9-c000.snappy.parquet\r\n",
      "part-00183-b69c4d7d-be7d-4701-9ce7-f5d64ebf4fc9-c000.snappy.parquet\r\n",
      "part-00184-b69c4d7d-be7d-4701-9ce7-f5d64ebf4fc9-c000.snappy.parquet\r\n",
      "part-00185-b69c4d7d-be7d-4701-9ce7-f5d64ebf4fc9-c000.snappy.parquet\r\n",
      "part-00186-b69c4d7d-be7d-4701-9ce7-f5d64ebf4fc9-c000.snappy.parquet\r\n",
      "part-00187-b69c4d7d-be7d-4701-9ce7-f5d64ebf4fc9-c000.snappy.parquet\r\n",
      "part-00188-b69c4d7d-be7d-4701-9ce7-f5d64ebf4fc9-c000.snappy.parquet\r\n",
      "part-00189-b69c4d7d-be7d-4701-9ce7-f5d64ebf4fc9-c000.snappy.parquet\r\n",
      "part-00190-b69c4d7d-be7d-4701-9ce7-f5d64ebf4fc9-c000.snappy.parquet\r\n",
      "part-00191-b69c4d7d-be7d-4701-9ce7-f5d64ebf4fc9-c000.snappy.parquet\r\n",
      "part-00192-b69c4d7d-be7d-4701-9ce7-f5d64ebf4fc9-c000.snappy.parquet\r\n",
      "part-00193-b69c4d7d-be7d-4701-9ce7-f5d64ebf4fc9-c000.snappy.parquet\r\n",
      "part-00194-b69c4d7d-be7d-4701-9ce7-f5d64ebf4fc9-c000.snappy.parquet\r\n",
      "part-00195-b69c4d7d-be7d-4701-9ce7-f5d64ebf4fc9-c000.snappy.parquet\r\n",
      "part-00196-b69c4d7d-be7d-4701-9ce7-f5d64ebf4fc9-c000.snappy.parquet\r\n",
      "part-00197-b69c4d7d-be7d-4701-9ce7-f5d64ebf4fc9-c000.snappy.parquet\r\n",
      "part-00198-b69c4d7d-be7d-4701-9ce7-f5d64ebf4fc9-c000.snappy.parquet\r\n",
      "part-00199-b69c4d7d-be7d-4701-9ce7-f5d64ebf4fc9-c000.snappy.parquet\r\n"
     ]
    }
   ],
   "source": [
    "!ls $DATA_DIR/tf_idf.parquet"
   ]
  },
  {
   "cell_type": "code",
   "execution_count": null,
   "metadata": {},
   "outputs": [],
   "source": []
  }
 ],
 "metadata": {
  "celltoolbar": "Slideshow",
  "kernelspec": {
   "display_name": "Python 3",
   "language": "python",
   "name": "python3"
  },
  "language_info": {
   "codemirror_mode": {
    "name": "ipython",
    "version": 3
   },
   "file_extension": ".py",
   "mimetype": "text/x-python",
   "name": "python",
   "nbconvert_exporter": "python",
   "pygments_lexer": "ipython3",
   "version": "3.6.3"
  }
 },
 "nbformat": 4,
 "nbformat_minor": 2
}
