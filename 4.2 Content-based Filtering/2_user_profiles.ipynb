{
 "cells": [
  {
   "cell_type": "code",
   "execution_count": 1,
   "metadata": {
    "slideshow": {
     "slide_type": "slide"
    }
   },
   "outputs": [],
   "source": [
    "%matplotlib inline\n",
    "import matplotlib.pyplot as plt\n",
    "import seaborn as sns\n",
    "\n",
    "DATA_DIR = \"/data/ml-latest\""
   ]
  },
  {
   "cell_type": "code",
   "execution_count": 2,
   "metadata": {
    "slideshow": {
     "slide_type": "fragment"
    }
   },
   "outputs": [
    {
     "name": "stdout",
     "output_type": "stream",
     "text": [
      "README.txt\t   genome-tags.csv  movies.csv\t tags.csv     tf_idf.parquet\r\n",
      "genome-scores.csv  links.csv\t    ratings.csv  tf_idf.json\r\n"
     ]
    }
   ],
   "source": [
    "!ls {DATA_DIR}"
   ]
  },
  {
   "cell_type": "code",
   "execution_count": 3,
   "metadata": {
    "slideshow": {
     "slide_type": "fragment"
    }
   },
   "outputs": [
    {
     "name": "stdout",
     "output_type": "stream",
     "text": [
      "movieId,title,genres\r",
      "\r\n",
      "1,Toy Story (1995),Adventure|Animation|Children|Comedy|Fantasy\r",
      "\r\n",
      "2,Jumanji (1995),Adventure|Children|Fantasy\r",
      "\r\n",
      "3,Grumpier Old Men (1995),Comedy|Romance\r",
      "\r\n",
      "4,Waiting to Exhale (1995),Comedy|Drama|Romance\r",
      "\r\n",
      "5,Father of the Bride Part II (1995),Comedy\r",
      "\r\n",
      "6,Heat (1995),Action|Crime|Thriller\r",
      "\r\n",
      "7,Sabrina (1995),Comedy|Romance\r",
      "\r\n",
      "8,Tom and Huck (1995),Adventure|Children\r",
      "\r\n",
      "9,Sudden Death (1995),Action\r",
      "\r\n"
     ]
    }
   ],
   "source": [
    "# помимо файла с оценками у нас есть файл с названиями и жанрами фильмов\n",
    "!head {DATA_DIR}/movies.csv"
   ]
  },
  {
   "cell_type": "code",
   "execution_count": 4,
   "metadata": {
    "slideshow": {
     "slide_type": "slide"
    }
   },
   "outputs": [],
   "source": [
    "# создаём сессию Spark\n",
    "from pyspark.sql import SparkSession\n",
    "\n",
    "spark = (\n",
    "    SparkSession\n",
    "    .builder\n",
    "    .config(\"spark.driver.memory\", \"4g\")\n",
    "    .master(\"local[*]\")\n",
    "    .getOrCreate()\n",
    ")"
   ]
  },
  {
   "cell_type": "code",
   "execution_count": 5,
   "metadata": {
    "slideshow": {
     "slide_type": "fragment"
    }
   },
   "outputs": [],
   "source": [
    "# файл с оценками нам всё равно понадобится\n",
    "import os\n",
    "import pyspark.sql.functions as sql_func\n",
    "\n",
    "ratings = (\n",
    "    spark\n",
    "    .read\n",
    "    .csv(\n",
    "        os.path.join(DATA_DIR, \"ratings.csv\"),\n",
    "        header=True,\n",
    "        inferSchema=True\n",
    "    )\n",
    "    .sample(withReplacement=False, fraction=1.0, seed=0)\n",
    "    .withColumn(\"rating_datetime\", sql_func.from_unixtime(\"timestamp\"))\n",
    "    .drop(\"timestamp\")\n",
    "    .cache()\n",
    ")"
   ]
  },
  {
   "cell_type": "code",
   "execution_count": 6,
   "metadata": {
    "slideshow": {
     "slide_type": "slide"
    }
   },
   "outputs": [],
   "source": [
    "# файл с фильмами небольшой, так что его можно читать полностью\n",
    "# даже если памяти доступно немного\n",
    "movie_genres = (\n",
    "    spark\n",
    "    .read\n",
    "    .csv(\n",
    "        os.path.join(DATA_DIR, \"movies.csv\"),\n",
    "        header=True,\n",
    "        inferSchema=True\n",
    "    )\n",
    "    # парсим информацию о жанрах\n",
    "    .withColumn(\"genres_array\", sql_func.split(\"genres\", '\\|'))\n",
    "    .select(\"movieId\", sql_func.explode(\"genres_array\").alias(\"genre\"))\n",
    "    .cache()\n",
    ")"
   ]
  },
  {
   "cell_type": "code",
   "execution_count": 7,
   "metadata": {
    "scrolled": true,
    "slideshow": {
     "slide_type": "slide"
    }
   },
   "outputs": [
    {
     "data": {
      "text/html": [
       "<div>\n",
       "<style scoped>\n",
       "    .dataframe tbody tr th:only-of-type {\n",
       "        vertical-align: middle;\n",
       "    }\n",
       "\n",
       "    .dataframe tbody tr th {\n",
       "        vertical-align: top;\n",
       "    }\n",
       "\n",
       "    .dataframe thead th {\n",
       "        text-align: right;\n",
       "    }\n",
       "</style>\n",
       "<table border=\"1\" class=\"dataframe\">\n",
       "  <thead>\n",
       "    <tr style=\"text-align: right;\">\n",
       "      <th></th>\n",
       "      <th>movieId</th>\n",
       "      <th>genre</th>\n",
       "    </tr>\n",
       "  </thead>\n",
       "  <tbody>\n",
       "    <tr>\n",
       "      <th>0</th>\n",
       "      <td>1</td>\n",
       "      <td>Adventure</td>\n",
       "    </tr>\n",
       "    <tr>\n",
       "      <th>1</th>\n",
       "      <td>1</td>\n",
       "      <td>Animation</td>\n",
       "    </tr>\n",
       "    <tr>\n",
       "      <th>2</th>\n",
       "      <td>1</td>\n",
       "      <td>Children</td>\n",
       "    </tr>\n",
       "    <tr>\n",
       "      <th>3</th>\n",
       "      <td>1</td>\n",
       "      <td>Comedy</td>\n",
       "    </tr>\n",
       "    <tr>\n",
       "      <th>4</th>\n",
       "      <td>1</td>\n",
       "      <td>Fantasy</td>\n",
       "    </tr>\n",
       "    <tr>\n",
       "      <th>5</th>\n",
       "      <td>2</td>\n",
       "      <td>Adventure</td>\n",
       "    </tr>\n",
       "    <tr>\n",
       "      <th>6</th>\n",
       "      <td>2</td>\n",
       "      <td>Children</td>\n",
       "    </tr>\n",
       "    <tr>\n",
       "      <th>7</th>\n",
       "      <td>2</td>\n",
       "      <td>Fantasy</td>\n",
       "    </tr>\n",
       "    <tr>\n",
       "      <th>8</th>\n",
       "      <td>3</td>\n",
       "      <td>Comedy</td>\n",
       "    </tr>\n",
       "    <tr>\n",
       "      <th>9</th>\n",
       "      <td>3</td>\n",
       "      <td>Romance</td>\n",
       "    </tr>\n",
       "    <tr>\n",
       "      <th>10</th>\n",
       "      <td>4</td>\n",
       "      <td>Comedy</td>\n",
       "    </tr>\n",
       "    <tr>\n",
       "      <th>11</th>\n",
       "      <td>4</td>\n",
       "      <td>Drama</td>\n",
       "    </tr>\n",
       "    <tr>\n",
       "      <th>12</th>\n",
       "      <td>4</td>\n",
       "      <td>Romance</td>\n",
       "    </tr>\n",
       "    <tr>\n",
       "      <th>13</th>\n",
       "      <td>5</td>\n",
       "      <td>Comedy</td>\n",
       "    </tr>\n",
       "    <tr>\n",
       "      <th>14</th>\n",
       "      <td>6</td>\n",
       "      <td>Action</td>\n",
       "    </tr>\n",
       "    <tr>\n",
       "      <th>15</th>\n",
       "      <td>6</td>\n",
       "      <td>Crime</td>\n",
       "    </tr>\n",
       "    <tr>\n",
       "      <th>16</th>\n",
       "      <td>6</td>\n",
       "      <td>Thriller</td>\n",
       "    </tr>\n",
       "    <tr>\n",
       "      <th>17</th>\n",
       "      <td>7</td>\n",
       "      <td>Comedy</td>\n",
       "    </tr>\n",
       "    <tr>\n",
       "      <th>18</th>\n",
       "      <td>7</td>\n",
       "      <td>Romance</td>\n",
       "    </tr>\n",
       "    <tr>\n",
       "      <th>19</th>\n",
       "      <td>8</td>\n",
       "      <td>Adventure</td>\n",
       "    </tr>\n",
       "    <tr>\n",
       "      <th>20</th>\n",
       "      <td>8</td>\n",
       "      <td>Children</td>\n",
       "    </tr>\n",
       "    <tr>\n",
       "      <th>21</th>\n",
       "      <td>9</td>\n",
       "      <td>Action</td>\n",
       "    </tr>\n",
       "    <tr>\n",
       "      <th>22</th>\n",
       "      <td>10</td>\n",
       "      <td>Action</td>\n",
       "    </tr>\n",
       "    <tr>\n",
       "      <th>23</th>\n",
       "      <td>10</td>\n",
       "      <td>Adventure</td>\n",
       "    </tr>\n",
       "    <tr>\n",
       "      <th>24</th>\n",
       "      <td>10</td>\n",
       "      <td>Thriller</td>\n",
       "    </tr>\n",
       "    <tr>\n",
       "      <th>25</th>\n",
       "      <td>11</td>\n",
       "      <td>Comedy</td>\n",
       "    </tr>\n",
       "    <tr>\n",
       "      <th>26</th>\n",
       "      <td>11</td>\n",
       "      <td>Drama</td>\n",
       "    </tr>\n",
       "    <tr>\n",
       "      <th>27</th>\n",
       "      <td>11</td>\n",
       "      <td>Romance</td>\n",
       "    </tr>\n",
       "    <tr>\n",
       "      <th>28</th>\n",
       "      <td>12</td>\n",
       "      <td>Comedy</td>\n",
       "    </tr>\n",
       "    <tr>\n",
       "      <th>29</th>\n",
       "      <td>12</td>\n",
       "      <td>Horror</td>\n",
       "    </tr>\n",
       "    <tr>\n",
       "      <th>...</th>\n",
       "      <td>...</td>\n",
       "      <td>...</td>\n",
       "    </tr>\n",
       "    <tr>\n",
       "      <th>85990</th>\n",
       "      <td>176237</td>\n",
       "      <td>Action</td>\n",
       "    </tr>\n",
       "    <tr>\n",
       "      <th>85991</th>\n",
       "      <td>176237</td>\n",
       "      <td>Fantasy</td>\n",
       "    </tr>\n",
       "    <tr>\n",
       "      <th>85992</th>\n",
       "      <td>176237</td>\n",
       "      <td>Thriller</td>\n",
       "    </tr>\n",
       "    <tr>\n",
       "      <th>85993</th>\n",
       "      <td>176239</td>\n",
       "      <td>Comedy</td>\n",
       "    </tr>\n",
       "    <tr>\n",
       "      <th>85994</th>\n",
       "      <td>176239</td>\n",
       "      <td>Fantasy</td>\n",
       "    </tr>\n",
       "    <tr>\n",
       "      <th>85995</th>\n",
       "      <td>176245</td>\n",
       "      <td>Documentary</td>\n",
       "    </tr>\n",
       "    <tr>\n",
       "      <th>85996</th>\n",
       "      <td>176249</td>\n",
       "      <td>Crime</td>\n",
       "    </tr>\n",
       "    <tr>\n",
       "      <th>85997</th>\n",
       "      <td>176249</td>\n",
       "      <td>Drama</td>\n",
       "    </tr>\n",
       "    <tr>\n",
       "      <th>85998</th>\n",
       "      <td>176249</td>\n",
       "      <td>Thriller</td>\n",
       "    </tr>\n",
       "    <tr>\n",
       "      <th>85999</th>\n",
       "      <td>176251</td>\n",
       "      <td>Comedy</td>\n",
       "    </tr>\n",
       "    <tr>\n",
       "      <th>86000</th>\n",
       "      <td>176251</td>\n",
       "      <td>Drama</td>\n",
       "    </tr>\n",
       "    <tr>\n",
       "      <th>86001</th>\n",
       "      <td>176253</td>\n",
       "      <td>(no genres listed)</td>\n",
       "    </tr>\n",
       "    <tr>\n",
       "      <th>86002</th>\n",
       "      <td>176255</td>\n",
       "      <td>Horror</td>\n",
       "    </tr>\n",
       "    <tr>\n",
       "      <th>86003</th>\n",
       "      <td>176255</td>\n",
       "      <td>Mystery</td>\n",
       "    </tr>\n",
       "    <tr>\n",
       "      <th>86004</th>\n",
       "      <td>176255</td>\n",
       "      <td>Thriller</td>\n",
       "    </tr>\n",
       "    <tr>\n",
       "      <th>86005</th>\n",
       "      <td>176257</td>\n",
       "      <td>Horror</td>\n",
       "    </tr>\n",
       "    <tr>\n",
       "      <th>86006</th>\n",
       "      <td>176257</td>\n",
       "      <td>Mystery</td>\n",
       "    </tr>\n",
       "    <tr>\n",
       "      <th>86007</th>\n",
       "      <td>176259</td>\n",
       "      <td>Horror</td>\n",
       "    </tr>\n",
       "    <tr>\n",
       "      <th>86008</th>\n",
       "      <td>176263</td>\n",
       "      <td>Sci-Fi</td>\n",
       "    </tr>\n",
       "    <tr>\n",
       "      <th>86009</th>\n",
       "      <td>176267</td>\n",
       "      <td>Action</td>\n",
       "    </tr>\n",
       "    <tr>\n",
       "      <th>86010</th>\n",
       "      <td>176267</td>\n",
       "      <td>Drama</td>\n",
       "    </tr>\n",
       "    <tr>\n",
       "      <th>86011</th>\n",
       "      <td>176267</td>\n",
       "      <td>Romance</td>\n",
       "    </tr>\n",
       "    <tr>\n",
       "      <th>86012</th>\n",
       "      <td>176269</td>\n",
       "      <td>Children</td>\n",
       "    </tr>\n",
       "    <tr>\n",
       "      <th>86013</th>\n",
       "      <td>176269</td>\n",
       "      <td>Drama</td>\n",
       "    </tr>\n",
       "    <tr>\n",
       "      <th>86014</th>\n",
       "      <td>176271</td>\n",
       "      <td>Drama</td>\n",
       "    </tr>\n",
       "    <tr>\n",
       "      <th>86015</th>\n",
       "      <td>176273</td>\n",
       "      <td>Action</td>\n",
       "    </tr>\n",
       "    <tr>\n",
       "      <th>86016</th>\n",
       "      <td>176273</td>\n",
       "      <td>Drama</td>\n",
       "    </tr>\n",
       "    <tr>\n",
       "      <th>86017</th>\n",
       "      <td>176273</td>\n",
       "      <td>Thriller</td>\n",
       "    </tr>\n",
       "    <tr>\n",
       "      <th>86018</th>\n",
       "      <td>176275</td>\n",
       "      <td>(no genres listed)</td>\n",
       "    </tr>\n",
       "    <tr>\n",
       "      <th>86019</th>\n",
       "      <td>176279</td>\n",
       "      <td>(no genres listed)</td>\n",
       "    </tr>\n",
       "  </tbody>\n",
       "</table>\n",
       "<p>86020 rows × 2 columns</p>\n",
       "</div>"
      ],
      "text/plain": [
       "       movieId               genre\n",
       "0            1           Adventure\n",
       "1            1           Animation\n",
       "2            1            Children\n",
       "3            1              Comedy\n",
       "4            1             Fantasy\n",
       "5            2           Adventure\n",
       "6            2            Children\n",
       "7            2             Fantasy\n",
       "8            3              Comedy\n",
       "9            3             Romance\n",
       "10           4              Comedy\n",
       "11           4               Drama\n",
       "12           4             Romance\n",
       "13           5              Comedy\n",
       "14           6              Action\n",
       "15           6               Crime\n",
       "16           6            Thriller\n",
       "17           7              Comedy\n",
       "18           7             Romance\n",
       "19           8           Adventure\n",
       "20           8            Children\n",
       "21           9              Action\n",
       "22          10              Action\n",
       "23          10           Adventure\n",
       "24          10            Thriller\n",
       "25          11              Comedy\n",
       "26          11               Drama\n",
       "27          11             Romance\n",
       "28          12              Comedy\n",
       "29          12              Horror\n",
       "...        ...                 ...\n",
       "85990   176237              Action\n",
       "85991   176237             Fantasy\n",
       "85992   176237            Thriller\n",
       "85993   176239              Comedy\n",
       "85994   176239             Fantasy\n",
       "85995   176245         Documentary\n",
       "85996   176249               Crime\n",
       "85997   176249               Drama\n",
       "85998   176249            Thriller\n",
       "85999   176251              Comedy\n",
       "86000   176251               Drama\n",
       "86001   176253  (no genres listed)\n",
       "86002   176255              Horror\n",
       "86003   176255             Mystery\n",
       "86004   176255            Thriller\n",
       "86005   176257              Horror\n",
       "86006   176257             Mystery\n",
       "86007   176259              Horror\n",
       "86008   176263              Sci-Fi\n",
       "86009   176267              Action\n",
       "86010   176267               Drama\n",
       "86011   176267             Romance\n",
       "86012   176269            Children\n",
       "86013   176269               Drama\n",
       "86014   176271               Drama\n",
       "86015   176273              Action\n",
       "86016   176273               Drama\n",
       "86017   176273            Thriller\n",
       "86018   176275  (no genres listed)\n",
       "86019   176279  (no genres listed)\n",
       "\n",
       "[86020 rows x 2 columns]"
      ]
     },
     "execution_count": 7,
     "metadata": {},
     "output_type": "execute_result"
    }
   ],
   "source": [
    "# получили соответствие жанров фильмам: много жанров - один фильм\n",
    "movie_genres.toPandas()"
   ]
  },
  {
   "cell_type": "code",
   "execution_count": 8,
   "metadata": {
    "slideshow": {
     "slide_type": "slide"
    }
   },
   "outputs": [
    {
     "name": "stdout",
     "output_type": "stream",
     "text": [
      "фильмов с жанрами: 45843\n",
      "фильмов с оценками: 45115\n"
     ]
    }
   ],
   "source": [
    "# у нас есть фильмы без оценок\n",
    "print(\"фильмов с жанрами:\",\n",
    "      movie_genres.select(\"movieId\").distinct().count())\n",
    "print(\"фильмов с оценками:\", ratings.select(\"movieId\").distinct().count())"
   ]
  },
  {
   "cell_type": "code",
   "execution_count": 9,
   "metadata": {
    "slideshow": {
     "slide_type": "slide"
    }
   },
   "outputs": [],
   "source": [
    "# создадим \"профиль пользователя\" (жанровые предпочтения):\n",
    "# набор средних оценок фильмов одного жанра\n",
    "user_profiles = (\n",
    "    ratings\n",
    "    .join(movie_genres, \"movieId\")\n",
    "    .groupBy(\"userId\", \"genre\")\n",
    "    .agg(sql_func.avg(\"rating\").alias(\"genre_rating\"))\n",
    "    .cache()\n",
    ")"
   ]
  },
  {
   "cell_type": "code",
   "execution_count": 10,
   "metadata": {
    "scrolled": true,
    "slideshow": {
     "slide_type": "slide"
    }
   },
   "outputs": [
    {
     "name": "stdout",
     "output_type": "stream",
     "text": [
      "+------+---------+------------------+\n",
      "|userId|    genre|      genre_rating|\n",
      "+------+---------+------------------+\n",
      "|    23|    Drama| 4.166666666666667|\n",
      "|    23|      War|               4.0|\n",
      "|    23|Film-Noir|               4.0|\n",
      "|    23|   Comedy|               4.0|\n",
      "|    23|  Romance|               4.0|\n",
      "|    23|    Crime|               4.0|\n",
      "|    23|  Fantasy|3.6666666666666665|\n",
      "|    23|   Action|               3.6|\n",
      "|    23| Thriller|               3.5|\n",
      "|    23|Adventure|               3.5|\n",
      "|    23|Animation|               3.0|\n",
      "|    23| Children|               3.0|\n",
      "|    23|   Sci-Fi|               3.0|\n",
      "+------+---------+------------------+\n",
      "\n"
     ]
    }
   ],
   "source": [
    "# посмотрим, как выглядит профиль одного из пользователей\n",
    "(\n",
    "    user_profiles\n",
    "    .where(\"userId == 23\")\n",
    "    .orderBy(sql_func.desc(\"genre_rating\"))\n",
    "    .show()\n",
    ")"
   ]
  },
  {
   "cell_type": "code",
   "execution_count": 11,
   "metadata": {
    "slideshow": {
     "slide_type": "slide"
    }
   },
   "outputs": [],
   "source": [
    "import numpy as np\n",
    "\n",
    "# предсказываем оценку фильма как среднее по средним оценкам жанров данного пользователя\n",
    "predictions = (\n",
    "    ratings\n",
    "    .join(movie_genres, \"movieId\", \"left\")\n",
    "    .join(user_profiles, [\"userId\", \"genre\"], \"left\")\n",
    "    .groupBy(\"userId\", \"movieId\", \"rating\")\n",
    "    .agg(sql_func.avg(\"genre_rating\").alias(\"prediction\"))\n",
    ")\n",
    "RMSE = np.sqrt(\n",
    "    predictions\n",
    "    .select(\n",
    "        sql_func.pow(predictions.prediction - predictions.rating, 2)\n",
    "        .alias(\"squared_error\")\n",
    "    )\n",
    "    .agg(sql_func.avg(\"squared_error\"))\n",
    "    .first()[0]\n",
    ")"
   ]
  },
  {
   "cell_type": "code",
   "execution_count": 12,
   "metadata": {
    "slideshow": {
     "slide_type": "fragment"
    }
   },
   "outputs": [
    {
     "name": "stdout",
     "output_type": "stream",
     "text": [
      "точность: 0.8875905217636123\n"
     ]
    }
   ],
   "source": [
    "# мы получили точность хуже, чем для линейной модели на средних весах\n",
    "# но лучше, чем просто на модели со средними весами\n",
    "print(\"точность:\", RMSE)"
   ]
  },
  {
   "cell_type": "code",
   "execution_count": null,
   "metadata": {},
   "outputs": [],
   "source": []
  }
 ],
 "metadata": {
  "celltoolbar": "Slideshow",
  "kernelspec": {
   "display_name": "Python 3",
   "language": "python",
   "name": "python3"
  },
  "language_info": {
   "codemirror_mode": {
    "name": "ipython",
    "version": 3
   },
   "file_extension": ".py",
   "mimetype": "text/x-python",
   "name": "python",
   "nbconvert_exporter": "python",
   "pygments_lexer": "ipython3",
   "version": "3.6.3"
  }
 },
 "nbformat": 4,
 "nbformat_minor": 2
}
