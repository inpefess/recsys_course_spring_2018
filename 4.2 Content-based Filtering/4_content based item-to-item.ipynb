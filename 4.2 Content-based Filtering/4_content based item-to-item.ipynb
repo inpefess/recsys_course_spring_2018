{
 "cells": [
  {
   "cell_type": "code",
   "execution_count": 1,
   "metadata": {
    "slideshow": {
     "slide_type": "slide"
    }
   },
   "outputs": [],
   "source": [
    "%matplotlib inline\n",
    "import matplotlib.pyplot as plt\n",
    "import seaborn as sns\n",
    "from pyspark.sql import SparkSession\n",
    "\n",
    "DATA_DIR = \"/data/ml-latest\"\n",
    "# создаём сессию Spark\n",
    "spark = (\n",
    "    SparkSession\n",
    "    .builder\n",
    "    .master(\"local[*]\")\n",
    "    .getOrCreate()\n",
    ")"
   ]
  },
  {
   "cell_type": "code",
   "execution_count": 2,
   "metadata": {
    "slideshow": {
     "slide_type": "fragment"
    }
   },
   "outputs": [],
   "source": [
    "import os\n",
    "import pyspark.sql.functions as sql_func\n",
    "\n",
    "# считываем фичи фильмов\n",
    "tf_idf = spark.read.parquet(os.path.join(DATA_DIR, \"tf_idf.parquet\")).cache()"
   ]
  },
  {
   "cell_type": "code",
   "execution_count": 3,
   "metadata": {
    "slideshow": {
     "slide_type": "slide"
    }
   },
   "outputs": [],
   "source": [
    "from pyspark.sql import functions as sql_func\n",
    "from pyspark.sql.types import FloatType\n",
    "from scipy.spatial.distance import euclidean\n",
    "\n",
    "# определяем функцию расстояния\n",
    "distance = sql_func.udf(\n",
    "    lambda x1, x2: euclidean(\n",
    "        x1.toArray(),\n",
    "        x2.toArray()\n",
    "    ), # тут может потребоваться .tolist() для некоторых расстояний,\n",
    "    returnType = FloatType()\n",
    ")"
   ]
  },
  {
   "cell_type": "code",
   "execution_count": 4,
   "metadata": {
    "slideshow": {
     "slide_type": "fragment"
    }
   },
   "outputs": [],
   "source": [
    "# находим матрицу расстояний (лениво)\n",
    "distance_matrix = (\n",
    "    tf_idf.alias(\"one\")\n",
    "    .crossJoin(tf_idf.alias(\"two\"))\n",
    "    .select(\n",
    "        \"one.movieId\",\n",
    "        \"one.title\",\n",
    "        \"two.movieId\",\n",
    "        \"two.title\",\n",
    "        distance(\"one.tf_idf\", \"two.tf_idf\").alias(\"distance\")\n",
    "    )\n",
    ")"
   ]
  },
  {
   "cell_type": "code",
   "execution_count": 5,
   "metadata": {
    "slideshow": {
     "slide_type": "slide"
    }
   },
   "outputs": [
    {
     "data": {
      "text/html": [
       "<div>\n",
       "<style scoped>\n",
       "    .dataframe tbody tr th:only-of-type {\n",
       "        vertical-align: middle;\n",
       "    }\n",
       "\n",
       "    .dataframe tbody tr th {\n",
       "        vertical-align: top;\n",
       "    }\n",
       "\n",
       "    .dataframe thead th {\n",
       "        text-align: right;\n",
       "    }\n",
       "</style>\n",
       "<table border=\"1\" class=\"dataframe\">\n",
       "  <thead>\n",
       "    <tr style=\"text-align: right;\">\n",
       "      <th></th>\n",
       "      <th>movieId</th>\n",
       "      <th>title</th>\n",
       "      <th>distance</th>\n",
       "    </tr>\n",
       "  </thead>\n",
       "  <tbody>\n",
       "    <tr>\n",
       "      <th>0</th>\n",
       "      <td>4896</td>\n",
       "      <td>Harry Potter and the Sorcerer's Stone (a.k.a. ...</td>\n",
       "      <td>0.000000</td>\n",
       "    </tr>\n",
       "    <tr>\n",
       "      <th>1</th>\n",
       "      <td>5816</td>\n",
       "      <td>Harry Potter and the Chamber of Secrets (2002)</td>\n",
       "      <td>242.873566</td>\n",
       "    </tr>\n",
       "    <tr>\n",
       "      <th>2</th>\n",
       "      <td>40815</td>\n",
       "      <td>Harry Potter and the Goblet of Fire (2005)</td>\n",
       "      <td>258.558289</td>\n",
       "    </tr>\n",
       "    <tr>\n",
       "      <th>3</th>\n",
       "      <td>8368</td>\n",
       "      <td>Harry Potter and the Prisoner of Azkaban (2004)</td>\n",
       "      <td>322.434418</td>\n",
       "    </tr>\n",
       "    <tr>\n",
       "      <th>4</th>\n",
       "      <td>54001</td>\n",
       "      <td>Harry Potter and the Order of the Phoenix (2007)</td>\n",
       "      <td>358.139801</td>\n",
       "    </tr>\n",
       "    <tr>\n",
       "      <th>5</th>\n",
       "      <td>69844</td>\n",
       "      <td>Harry Potter and the Half-Blood Prince (2009)</td>\n",
       "      <td>358.346069</td>\n",
       "    </tr>\n",
       "    <tr>\n",
       "      <th>6</th>\n",
       "      <td>88125</td>\n",
       "      <td>Harry Potter and the Deathly Hallows: Part 2 (...</td>\n",
       "      <td>389.009705</td>\n",
       "    </tr>\n",
       "    <tr>\n",
       "      <th>7</th>\n",
       "      <td>58105</td>\n",
       "      <td>Spiderwick Chronicles, The (2008)</td>\n",
       "      <td>431.428925</td>\n",
       "    </tr>\n",
       "    <tr>\n",
       "      <th>8</th>\n",
       "      <td>2193</td>\n",
       "      <td>Willow (1988)</td>\n",
       "      <td>433.543945</td>\n",
       "    </tr>\n",
       "    <tr>\n",
       "      <th>9</th>\n",
       "      <td>135143</td>\n",
       "      <td>Fantastic Beasts and Where to Find Them (2016)</td>\n",
       "      <td>435.349213</td>\n",
       "    </tr>\n",
       "  </tbody>\n",
       "</table>\n",
       "</div>"
      ],
      "text/plain": [
       "   movieId                                              title    distance\n",
       "0     4896  Harry Potter and the Sorcerer's Stone (a.k.a. ...    0.000000\n",
       "1     5816     Harry Potter and the Chamber of Secrets (2002)  242.873566\n",
       "2    40815         Harry Potter and the Goblet of Fire (2005)  258.558289\n",
       "3     8368    Harry Potter and the Prisoner of Azkaban (2004)  322.434418\n",
       "4    54001   Harry Potter and the Order of the Phoenix (2007)  358.139801\n",
       "5    69844      Harry Potter and the Half-Blood Prince (2009)  358.346069\n",
       "6    88125  Harry Potter and the Deathly Hallows: Part 2 (...  389.009705\n",
       "7    58105                  Spiderwick Chronicles, The (2008)  431.428925\n",
       "8     2193                                      Willow (1988)  433.543945\n",
       "9   135143     Fantastic Beasts and Where to Find Them (2016)  435.349213"
      ]
     },
     "execution_count": 5,
     "metadata": {},
     "output_type": "execute_result"
    }
   ],
   "source": [
    "# находим 10 ближайших соседей Гарри Поттера\n",
    "(\n",
    "    distance_matrix\n",
    "    .where(sql_func.col(\"one.movieId\") == 4896)\n",
    "    .orderBy(\"distance\")\n",
    "    .select(\"two.movieId\", \"two.title\", \"distance\")\n",
    "    .limit(10)\n",
    "    .toPandas()\n",
    ")"
   ]
  },
  {
   "cell_type": "code",
   "execution_count": null,
   "metadata": {},
   "outputs": [],
   "source": []
  }
 ],
 "metadata": {
  "celltoolbar": "Slideshow",
  "kernelspec": {
   "display_name": "Python 3",
   "language": "python",
   "name": "python3"
  },
  "language_info": {
   "codemirror_mode": {
    "name": "ipython",
    "version": 3
   },
   "file_extension": ".py",
   "mimetype": "text/x-python",
   "name": "python",
   "nbconvert_exporter": "python",
   "pygments_lexer": "ipython3",
   "version": "3.6.3"
  }
 },
 "nbformat": 4,
 "nbformat_minor": 2
}
