{
 "cells": [
  {
   "cell_type": "markdown",
   "metadata": {
    "collapsed": true,
    "slideshow": {
     "slide_type": "slide"
    }
   },
   "source": [
    "* Spark написан на Scala\n",
    "* большая часть кода на нём исполняется на JVM (Java Virtual Machine)\n",
    "* для работы со Spark помимио Scala можно использовать\n",
    "    * Java\n",
    "    * Python\n",
    "    * R\n",
    "* в случае использования pyspark некоторая часть кода исполняет интерпретатором Python"
   ]
  },
  {
   "cell_type": "code",
   "execution_count": 3,
   "metadata": {
    "slideshow": {
     "slide_type": "slide"
    }
   },
   "outputs": [],
   "source": [
    "# создать SparkSession довольно просто\n",
    "from pyspark.sql import SparkSession\n",
    "\n",
    "spark = SparkSession.builder.getOrCreate()"
   ]
  },
  {
   "cell_type": "markdown",
   "metadata": {
    "slideshow": {
     "slide_type": "fragment"
    }
   },
   "source": [
    "По умолчанию посмотреть на происходящее в SparkSession можно по адресу http://localhost:4040"
   ]
  },
  {
   "cell_type": "code",
   "execution_count": 4,
   "metadata": {
    "scrolled": true,
    "slideshow": {
     "slide_type": "slide"
    }
   },
   "outputs": [
    {
     "name": "stdout",
     "output_type": "stream",
     "text": [
      "<class 'pyspark.sql.dataframe.DataFrame'>\n",
      "+--------------------+\n",
      "|               value|\n",
      "+--------------------+\n",
      "|  FROM ubuntu:artful|\n",
      "|# install all nee...|\n",
      "|RUN apt-get updat...|\n",
      "|    python3-pip g...|\n",
      "|    pip3 install ...|\n",
      "|    jupyterlab RI...|\n",
      "|    pyarrow annoy...|\n",
      "|# surprise won't ...|\n",
      "|RUN pip3 install ...|\n",
      "|RUN jupyter-nbext...|\n",
      "|    jupyter-nbext...|\n",
      "|      # get the data|\n",
      "|       WORKDIR /data|\n",
      "|RUN wget http://f...|\n",
      "|    unzip ml-late...|\n",
      "|    wget http://m...|\n",
      "|    && tar -xvf l...|\n",
      "|      # get the code|\n",
      "|        COPY . /code|\n",
      "|# prepare the env...|\n",
      "+--------------------+\n",
      "only showing top 20 rows\n",
      "\n"
     ]
    }
   ],
   "source": [
    "# мы в основном будем работать с DataFrame'ами\n",
    "# их можно создавать из файлов на диске\n",
    "text_file = spark.read.text(\"../Dockerfile\")\n",
    "print(type(text_file))\n",
    "text_file.show()"
   ]
  },
  {
   "cell_type": "code",
   "execution_count": 5,
   "metadata": {
    "slideshow": {
     "slide_type": "slide"
    }
   },
   "outputs": [
    {
     "name": "stdout",
     "output_type": "stream",
     "text": [
      "   0\n",
      "0  1\n",
      "+---+\n",
      "|  0|\n",
      "+---+\n",
      "|  1|\n",
      "+---+\n",
      "\n"
     ]
    },
    {
     "data": {
      "text/html": [
       "<div>\n",
       "<style scoped>\n",
       "    .dataframe tbody tr th:only-of-type {\n",
       "        vertical-align: middle;\n",
       "    }\n",
       "\n",
       "    .dataframe tbody tr th {\n",
       "        vertical-align: top;\n",
       "    }\n",
       "\n",
       "    .dataframe thead th {\n",
       "        text-align: right;\n",
       "    }\n",
       "</style>\n",
       "<table border=\"1\" class=\"dataframe\">\n",
       "  <thead>\n",
       "    <tr style=\"text-align: right;\">\n",
       "      <th></th>\n",
       "      <th>0</th>\n",
       "    </tr>\n",
       "  </thead>\n",
       "  <tbody>\n",
       "    <tr>\n",
       "      <th>0</th>\n",
       "      <td>1</td>\n",
       "    </tr>\n",
       "  </tbody>\n",
       "</table>\n",
       "</div>"
      ],
      "text/plain": [
       "   0\n",
       "0  1"
      ]
     },
     "execution_count": 5,
     "metadata": {},
     "output_type": "execute_result"
    }
   ],
   "source": [
    "import pandas as pd\n",
    "\n",
    "# pandas DataFrame можно преобразовать в Spark DataFrame\n",
    "pandas_df = pd.DataFrame([1,])\n",
    "print(pandas_df.head())\n",
    "spark_df = spark.createDataFrame(pd.DataFrame([1,]))\n",
    "spark_df.show()\n",
    "# и наоборот\n",
    "spark_df.toPandas()"
   ]
  },
  {
   "cell_type": "code",
   "execution_count": 6,
   "metadata": {
    "slideshow": {
     "slide_type": "slide"
    }
   },
   "outputs": [],
   "source": [
    "# в Spark вычисления ленивые\n",
    "# эта строчка ничего не делает\n",
    "\n",
    "filtered_data = text_file.where(text_file.value.contains(\"ENV\"))"
   ]
  },
  {
   "cell_type": "code",
   "execution_count": 7,
   "metadata": {
    "slideshow": {
     "slide_type": "fragment"
    }
   },
   "outputs": [
    {
     "data": {
      "text/plain": [
       "4"
      ]
     },
     "execution_count": 7,
     "metadata": {},
     "output_type": "execute_result"
    }
   ],
   "source": [
    "# а вот тут уже происходят вычисления\n",
    "\n",
    "filtered_data.count()"
   ]
  },
  {
   "cell_type": "code",
   "execution_count": 8,
   "metadata": {
    "slideshow": {
     "slide_type": "slide"
    }
   },
   "outputs": [
    {
     "data": {
      "text/plain": [
       "DataFrame[value: string]"
      ]
     },
     "execution_count": 8,
     "metadata": {},
     "output_type": "execute_result"
    }
   ],
   "source": [
    "# в отличие от pandas в Spark DataFrame - это не объект в памяти\n",
    "# а просто граф вычислений\n",
    "# чтобы явно создать объект в памяти, нужно DataFrame закешировать\n",
    "\n",
    "filtered_data.cache()"
   ]
  },
  {
   "cell_type": "code",
   "execution_count": 9,
   "metadata": {
    "slideshow": {
     "slide_type": "fragment"
    }
   },
   "outputs": [
    {
     "data": {
      "text/plain": [
       "4"
      ]
     },
     "execution_count": 9,
     "metadata": {},
     "output_type": "execute_result"
    }
   ],
   "source": [
    "# кеширование - тоже ленивая операция\n",
    "# вот происходит чтение с диска, фильтрация  и кэширование\n",
    "# а потом уже вычисление\n",
    "filtered_data.count()"
   ]
  },
  {
   "cell_type": "code",
   "execution_count": 10,
   "metadata": {
    "slideshow": {
     "slide_type": "fragment"
    }
   },
   "outputs": [
    {
     "data": {
      "text/plain": [
       "4"
      ]
     },
     "execution_count": 10,
     "metadata": {},
     "output_type": "execute_result"
    }
   ],
   "source": [
    "# а теперь уже только вычисление\n",
    "filtered_data.count()"
   ]
  },
  {
   "cell_type": "code",
   "execution_count": 11,
   "metadata": {
    "slideshow": {
     "slide_type": "fragment"
    }
   },
   "outputs": [],
   "source": [
    "# освободить кэш можно так\n",
    "spark.catalog.clearCache()"
   ]
  },
  {
   "cell_type": "code",
   "execution_count": 12,
   "metadata": {
    "slideshow": {
     "slide_type": "fragment"
    }
   },
   "outputs": [],
   "source": [
    "# завершаем SparkSession\n",
    "spark.stop()"
   ]
  },
  {
   "cell_type": "code",
   "execution_count": null,
   "metadata": {},
   "outputs": [],
   "source": []
  }
 ],
 "metadata": {
  "celltoolbar": "Slideshow",
  "kernelspec": {
   "display_name": "Python 3",
   "language": "python",
   "name": "python3"
  },
  "language_info": {
   "codemirror_mode": {
    "name": "ipython",
    "version": 3
   },
   "file_extension": ".py",
   "mimetype": "text/x-python",
   "name": "python",
   "nbconvert_exporter": "python",
   "pygments_lexer": "ipython3",
   "version": "3.6.3"
  }
 },
 "nbformat": 4,
 "nbformat_minor": 1
}
