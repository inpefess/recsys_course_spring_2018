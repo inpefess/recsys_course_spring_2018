{
 "cells": [
  {
   "cell_type": "code",
   "execution_count": 1,
   "metadata": {
    "slideshow": {
     "slide_type": "slide"
    }
   },
   "outputs": [],
   "source": [
    "%matplotlib inline\n",
    "import matplotlib.pyplot as plt\n",
    "import seaborn as sns\n",
    "\n",
    "# все любят картиночки:)"
   ]
  },
  {
   "cell_type": "code",
   "execution_count": 2,
   "metadata": {
    "slideshow": {
     "slide_type": "fragment"
    }
   },
   "outputs": [],
   "source": [
    "# docker контейнер уже должен содержать в себе скачанные данные\n",
    "# скачаны отсюда: https://grouplens.org/datasets/movielens/\n",
    "DATA_DIR = \"/data/ml-latest\""
   ]
  },
  {
   "cell_type": "code",
   "execution_count": 3,
   "metadata": {
    "slideshow": {
     "slide_type": "fragment"
    }
   },
   "outputs": [
    {
     "name": "stdout",
     "output_type": "stream",
     "text": [
      "README.txt\t   genome-tags.csv  movies.csv\t tags.csv\r\n",
      "genome-scores.csv  links.csv\t    ratings.csv\r\n"
     ]
    }
   ],
   "source": [
    "# смотрим, какие файлы у нас есть\n",
    "!ls {DATA_DIR}"
   ]
  },
  {
   "cell_type": "code",
   "execution_count": 4,
   "metadata": {
    "scrolled": false,
    "slideshow": {
     "slide_type": "fragment"
    }
   },
   "outputs": [
    {
     "name": "stdout",
     "output_type": "stream",
     "text": [
      "userId,movieId,rating,timestamp\r",
      "\r\n",
      "1,110,1.0,1425941529\r",
      "\r\n",
      "1,147,4.5,1425942435\r",
      "\r\n",
      "1,858,5.0,1425941523\r",
      "\r\n",
      "1,1221,5.0,1425941546\r",
      "\r\n",
      "1,1246,5.0,1425941556\r",
      "\r\n",
      "1,1968,4.0,1425942148\r",
      "\r\n",
      "1,2762,4.5,1425941300\r",
      "\r\n",
      "1,2918,5.0,1425941593\r",
      "\r\n",
      "1,2959,4.0,1425941601\r",
      "\r\n"
     ]
    }
   ],
   "source": [
    "# обратим внимание на файл с оценками\n",
    "!head {DATA_DIR}/ratings.csv"
   ]
  },
  {
   "cell_type": "code",
   "execution_count": 5,
   "metadata": {
    "slideshow": {
     "slide_type": "slide"
    }
   },
   "outputs": [],
   "source": [
    "# для подготовки данных будем использвоать Apache Spark\n",
    "# (популярный фреймворк распределённых вычислений)\n",
    "from pyspark.sql import SparkSession\n",
    "\n",
    "spark = (\n",
    "    SparkSession\n",
    "    .builder\n",
    "    # если виртуальной машине нельзя добавить памяти, можно использовать меньше\n",
    "    .config(\"spark.driver.memory\", \"4g\")\n",
    "    # можно явно количество ядер, которые будет использовать Spark\n",
    "    # либо поставить звёздочку для всех доступных виртуальной машине\n",
    "    .master(\"local[*]\")\n",
    "    .getOrCreate()\n",
    ")"
   ]
  },
  {
   "cell_type": "code",
   "execution_count": 6,
   "metadata": {
    "slideshow": {
     "slide_type": "slide"
    }
   },
   "outputs": [],
   "source": [
    "# считываем данные из CSV\n",
    "# и преобразуем время проставления оценки из целого числа в дату со временем\n",
    "import os\n",
    "import pyspark.sql.functions as sql_func\n",
    "\n",
    "ratings = (\n",
    "    spark\n",
    "    .read\n",
    "    .csv(\n",
    "        os.path.join(DATA_DIR, \"ratings.csv\"),\n",
    "        header=True,\n",
    "        inferSchema=True\n",
    "    )\n",
    "    # если используется меньше памяти,\n",
    "    # то здесь можно взять не все данные, а а небольшую выборку\n",
    "    # даже при fraction=0.01 качественная картина не меняется\n",
    "    .sample(withReplacement=False, fraction=1.0, seed=0)\n",
    "    .withColumn(\"rating_datetime\", sql_func.from_unixtime(\"timestamp\"))\n",
    "    .drop(\"timestamp\")\n",
    "    .cache()\n",
    ")"
   ]
  },
  {
   "cell_type": "code",
   "execution_count": 7,
   "metadata": {
    "slideshow": {
     "slide_type": "slide"
    }
   },
   "outputs": [
    {
     "name": "stdout",
     "output_type": "stream",
     "text": [
      "всего пользователей: 270896\n",
      "всего фильмов: 45115\n",
      "всего оценок: 26024289\n"
     ]
    }
   ],
   "source": [
    "# оцениваем размеры данных\n",
    "print(\"всего пользователей:\", ratings.select(\"userId\").distinct().count())\n",
    "print(\"всего фильмов:\", ratings.select(\"movieId\").distinct().count())\n",
    "print(\"всего оценок:\", ratings.count())"
   ]
  },
  {
   "cell_type": "code",
   "execution_count": 8,
   "metadata": {
    "slideshow": {
     "slide_type": "fragment"
    }
   },
   "outputs": [
    {
     "name": "stdout",
     "output_type": "stream",
     "text": [
      "средняя оценка: 3.5280903543608817\n"
     ]
    }
   ],
   "source": [
    "# достаточно хорошим baseline является предсказывать среднюю оценку\n",
    "mean_rating = ratings.agg(sql_func.avg(\"rating\")).first()[0]\n",
    "print(\"средняя оценка:\", mean_rating)"
   ]
  },
  {
   "cell_type": "code",
   "execution_count": 9,
   "metadata": {
    "slideshow": {
     "slide_type": "slide"
    }
   },
   "outputs": [],
   "source": [
    "# функция, с помощью которой мы будем вычислять RMSE на обучающей выборке\n",
    "from pyspark.sql import DataFrame\n",
    "import numpy as np\n",
    "\n",
    "def simple_evaluate(predictions_df: DataFrame) -> float:\n",
    "    return np.sqrt(\n",
    "            ratings\n",
    "            .join(\n",
    "                predictions_df,\n",
    "                [\"movieId\", \"userId\"]\n",
    "            ).select(\n",
    "                sql_func.pow(\n",
    "                    ratings.rating - predictions_df.prediction,\n",
    "                    2\n",
    "                ).alias(\"squared_error\")\n",
    "            )\n",
    "            .agg(sql_func.avg(\"squared_error\"))\n",
    "            .first()[0]\n",
    "    )"
   ]
  },
  {
   "cell_type": "code",
   "execution_count": 10,
   "metadata": {
    "scrolled": true,
    "slideshow": {
     "slide_type": "fragment"
    }
   },
   "outputs": [
    {
     "name": "stdout",
     "output_type": "stream",
     "text": [
      "ошибка предсказания: 1.0654427431969717\n"
     ]
    }
   ],
   "source": [
    "# рекомендуем любому пользователю любой фильм случайно\n",
    "mean_predictions = ratings.withColumn(\"prediction\", sql_func.lit(mean_rating))\n",
    "print(\"ошибка предсказания:\", simple_evaluate(mean_predictions))"
   ]
  },
  {
   "cell_type": "code",
   "execution_count": 11,
   "metadata": {
    "slideshow": {
     "slide_type": "slide"
    }
   },
   "outputs": [],
   "source": [
    "# посмотрим на распределение средних оценок разных фильмов\n",
    "movie_ratings = (\n",
    "    ratings\n",
    "    .groupBy(\"movieId\")\n",
    "    .agg(sql_func.avg(\"rating\").alias(\"avg_movie_rating\"))\n",
    "    .cache()\n",
    ")"
   ]
  },
  {
   "cell_type": "code",
   "execution_count": 12,
   "metadata": {
    "slideshow": {
     "slide_type": "slide"
    }
   },
   "outputs": [
    {
     "data": {
      "image/png": "[encoded data removed]",
      "text/plain": [
       "<Figure size 432x288 with 1 Axes>"
      ]
     },
     "metadata": {},
     "output_type": "display_data"
    }
   ],
   "source": [
    "# фильмы бывают более и менее популярные - выбросы есть в обе стороны,\n",
    "# но \"средних\" фильмов всё-таки большинство\n",
    "histogram = (\n",
    "        movie_ratings\n",
    "        .select((0.5 * sql_func.ceil(2 * sql_func.col(\"avg_movie_rating\")))\n",
    "                .alias(\"avg_movie_rating\"))\n",
    "        .groupBy(\"avg_movie_rating\")\n",
    "        .agg(sql_func.count(\"avg_movie_rating\").alias(\"cnt\"))\n",
    "        .orderBy(\"avg_movie_rating\")\n",
    "        .toPandas()\n",
    ")\n",
    "sns.set()\n",
    "histogram.plot(x=\"avg_movie_rating\", y=\"cnt\")\n",
    "plt.show()"
   ]
  },
  {
   "cell_type": "code",
   "execution_count": 13,
   "metadata": {
    "slideshow": {
     "slide_type": "slide"
    }
   },
   "outputs": [
    {
     "name": "stdout",
     "output_type": "stream",
     "text": [
      "ошибка предсказания: 0.9609075716068508\n"
     ]
    }
   ],
   "source": [
    "# рекомендуем наиболее популярные фильмы\n",
    "avg_movie_rating_predictions = (\n",
    "    ratings\n",
    "    .join(movie_ratings, \"movieId\")\n",
    "    .select(\n",
    "        ratings.movieId,\n",
    "        ratings.userId,\n",
    "        ratings.rating,\n",
    "        movie_ratings.avg_movie_rating.alias(\"prediction\")\n",
    "    )\n",
    ")\n",
    "print(\"ошибка предсказания:\", simple_evaluate(avg_movie_rating_predictions))"
   ]
  },
  {
   "cell_type": "code",
   "execution_count": 14,
   "metadata": {
    "slideshow": {
     "slide_type": "slide"
    }
   },
   "outputs": [],
   "source": [
    "# у разных пользователей разные распределения оценок\n",
    "# кто-то более придирчив, а кто-то всем ставит пятёрки\n",
    "user_ratings = (\n",
    "    ratings\n",
    "    .groupBy(\"userId\")\n",
    "    .agg(sql_func.avg(\"rating\").alias(\"avg_user_rating\"))\n",
    "    .cache()\n",
    ")"
   ]
  },
  {
   "cell_type": "code",
   "execution_count": 15,
   "metadata": {
    "slideshow": {
     "slide_type": "slide"
    }
   },
   "outputs": [
    {
     "data": {
      "image/png": "[encoded data removed]",
      "text/plain": [
       "<Figure size 432x288 with 1 Axes>"
      ]
     },
     "metadata": {},
     "output_type": "display_data"
    }
   ],
   "source": [
    "# в среднем, людям свойственно благосклонно относиться к предметам, которые они часто потребляют\n",
    "histogram = (\n",
    "        user_ratings\n",
    "        .select((0.5 * sql_func.ceil(2 * sql_func.col(\"avg_user_rating\")))\n",
    "                .alias(\"avg_user_rating\"))\n",
    "        .groupBy(\"avg_user_rating\")\n",
    "        .agg(sql_func.count(\"avg_user_rating\").alias(\"cnt\"))\n",
    "        .orderBy(\"avg_user_rating\")\n",
    "        .toPandas()\n",
    ")\n",
    "histogram.plot(x=\"avg_user_rating\", y=\"cnt\")\n",
    "plt.show()"
   ]
  },
  {
   "cell_type": "code",
   "execution_count": 16,
   "metadata": {
    "slideshow": {
     "slide_type": "slide"
    }
   },
   "outputs": [
    {
     "name": "stdout",
     "output_type": "stream",
     "text": [
      "ошибка предсказания: 0.9081958453358785\n"
     ]
    }
   ],
   "source": [
    "# мы можем предсказывать оценку для пары (пользователь, фильм)\n",
    "# как полусумму от средней оценки фильма и средней оценки, которую ставит пользователь\n",
    "two_means_predictions = (\n",
    "    ratings\n",
    "    .join(movie_ratings, \"movieId\")\n",
    "    .join(user_ratings, \"userId\")\n",
    "    .select(\n",
    "        ratings.movieId,\n",
    "        ratings.userId,\n",
    "        ratings.rating,\n",
    "        (0.5 * (movie_ratings.avg_movie_rating +\n",
    "                user_ratings.avg_user_rating)).alias(\"prediction\")\n",
    "    )\n",
    ")\n",
    "print(\"ошибка предсказания:\", simple_evaluate(two_means_predictions))"
   ]
  },
  {
   "cell_type": "code",
   "execution_count": 17,
   "metadata": {
    "slideshow": {
     "slide_type": "slide"
    }
   },
   "outputs": [
    {
     "name": "stdout",
     "output_type": "stream",
     "text": [
      "ошибка предсказания: 0.871930725020582\n"
     ]
    }
   ],
   "source": [
    "# а можем и не полусумму, а подобрать коэффициенты\n",
    "# с помощью линейной регрессии\n",
    "from pyspark.ml.feature import VectorAssembler\n",
    "from pyspark.ml.regression import LinearRegression\n",
    "\n",
    "train = (\n",
    "    VectorAssembler(\n",
    "        inputCols = [\"avg_movie_rating\", \"avg_user_rating\"],\n",
    "        outputCol = \"features\"\n",
    "    ).transform(\n",
    "        ratings\n",
    "        .join(movie_ratings, \"movieId\")\n",
    "        .join(user_ratings, \"userId\")\n",
    "    )\n",
    "    .withColumnRenamed(\"rating\", \"label\")\n",
    "    .select(\"movieId\", \"userId\", \"label\", \"features\")\n",
    "    .cache()\n",
    ")\n",
    "linear_model = LinearRegression().fit(train)\n",
    "stacked_prediction = (\n",
    "    ratings\n",
    "    .join(linear_model.transform(train), [\"movieId\", \"userId\"])\n",
    "    .select(\"movieId\", \"userId\", \"prediction\")\n",
    ")\n",
    "print(\"ошибка предсказания:\", simple_evaluate(stacked_prediction))"
   ]
  },
  {
   "cell_type": "code",
   "execution_count": 18,
   "metadata": {
    "slideshow": {
     "slide_type": "slide"
    }
   },
   "outputs": [
    {
     "name": "stdout",
     "output_type": "stream",
     "text": [
      "[на сколько пользователь оценит фильм] = -2.5 + 0.85 * [средняя оценка этого фильма] + 0.86 * [средняя оценка из поставленных этим пользователем]\n"
     ]
    }
   ],
   "source": [
    "# получаем некоторую формулу для предсказания оценки, которую можно использовать для рекомендаций\n",
    "print(\n",
    "    \"[на сколько пользователь оценит фильм] = {} + {} * [средняя оценка этого фильма] + {} * [средняя оценка из поставленных этим пользователем]\"\n",
    "    .format(\n",
    "        round(linear_model.intercept, 2),\n",
    "        round(linear_model.coefficients[0], 2),\n",
    "        round(linear_model.coefficients[1], 2)\n",
    "    )\n",
    ")"
   ]
  },
  {
   "cell_type": "markdown",
   "metadata": {
    "slideshow": {
     "slide_type": "slide"
    }
   },
   "source": [
    "Эта формула является частным случаем рекомендтельной архитектуры, когда мы для заданного пользователя $u$ получаем рекомендации в два этапа:\n",
    "\n",
    "1. составляем список объектов $i$, которые в принципе могут заинтересовать пользователя $u$\n",
    "1. ранжируем этот список объектов по некоторому правилу"
   ]
  },
  {
   "cell_type": "markdown",
   "metadata": {
    "slideshow": {
     "slide_type": "slide"
    }
   },
   "source": [
    "В частности, правило может основываться на присвоении каждому объекту из списка некоторой релевантности как функции от свойств пользователя и самого объекта: $r\\left(u,i\\right)$\n",
    "\n",
    "В простейшем примере, рассмотренном в этой тетради $r\\left(u,i\\right)=ar_i+br_u+c$ - линейная функция от двух переменных:\n",
    "\n",
    "1. $r_i$ - одного свойства объекта (популярности фильма в виде средней оценки) и\n",
    "1. $r_u$ - одного свойства пользователя (\"разборчивости\" в виде среднего от распределения всех оценок в истории этого пользователя)"
   ]
  },
  {
   "cell_type": "code",
   "execution_count": null,
   "metadata": {},
   "outputs": [],
   "source": []
  }
 ],
 "metadata": {
  "celltoolbar": "Slideshow",
  "kernelspec": {
   "display_name": "Python 3",
   "language": "python",
   "name": "python3"
  },
  "language_info": {
   "codemirror_mode": {
    "name": "ipython",
    "version": 3
   },
   "file_extension": ".py",
   "mimetype": "text/x-python",
   "name": "python",
   "nbconvert_exporter": "python",
   "pygments_lexer": "ipython3",
   "version": "3.6.3"
  }
 },
 "nbformat": 4,
 "nbformat_minor": 2
}
