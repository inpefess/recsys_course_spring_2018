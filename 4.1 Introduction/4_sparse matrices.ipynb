{
 "cells": [
  {
   "cell_type": "code",
   "execution_count": 1,
   "metadata": {
    "slideshow": {
     "slide_type": "slide"
    }
   },
   "outputs": [],
   "source": [
    "%matplotlib inline\n",
    "import matplotlib.pyplot as plt\n",
    "import seaborn as sns\n",
    "\n",
    "DATA_DIR=\"/data/lastfm-dataset-360K/\""
   ]
  },
  {
   "cell_type": "code",
   "execution_count": 2,
   "metadata": {
    "scrolled": true,
    "slideshow": {
     "slide_type": "fragment"
    }
   },
   "outputs": [
    {
     "name": "stdout",
     "output_type": "stream",
     "text": [
      "README.txt\t usersha1-artmbid-artname-plays.tsv\r\n",
      "mbox_sha1sum.py  usersha1-profile.tsv\r\n"
     ]
    }
   ],
   "source": [
    "!ls {DATA_DIR}"
   ]
  },
  {
   "cell_type": "code",
   "execution_count": 3,
   "metadata": {
    "scrolled": true,
    "slideshow": {
     "slide_type": "fragment"
    }
   },
   "outputs": [
    {
     "name": "stdout",
     "output_type": "stream",
     "text": [
      "00000c289a1829a808ac09c00daf10bc3c4e223b\t3bd73256-3905-4f3a-97e2-8b341527f805\tbetty blowtorch\t2137\r\n",
      "00000c289a1829a808ac09c00daf10bc3c4e223b\tf2fb0ff0-5679-42ec-a55c-15109ce6e320\tdie ��rzte\t1099\r\n",
      "00000c289a1829a808ac09c00daf10bc3c4e223b\tb3ae82c2-e60b-4551-a76d-6620f1b456aa\tmelissa etheridge\t897\r\n",
      "00000c289a1829a808ac09c00daf10bc3c4e223b\t3d6bbeb7-f90e-4d10-b440-e153c0d10b53\telvenking\t717\r\n",
      "00000c289a1829a808ac09c00daf10bc3c4e223b\tbbd2ffd7-17f4-4506-8572-c1ea58c3f9a8\tjuliette & the licks\t706\r\n",
      "00000c289a1829a808ac09c00daf10bc3c4e223b\t8bfac288-ccc5-448d-9573-c33ea2aa5c30\tred hot chili peppers\t691\r\n",
      "00000c289a1829a808ac09c00daf10bc3c4e223b\t6531c8b1-76ea-4141-b270-eb1ac5b41375\tmagica\t545\r\n",
      "00000c289a1829a808ac09c00daf10bc3c4e223b\t21f3573f-10cf-44b3-aeaa-26cccd8448b5\tthe black dahlia murder\t507\r\n",
      "00000c289a1829a808ac09c00daf10bc3c4e223b\tc5db90c4-580d-4f33-b364-fbaa5a3a58b5\tthe murmurs\t424\r\n",
      "00000c289a1829a808ac09c00daf10bc3c4e223b\t0639533a-0402-40ba-b6e0-18b067198b73\tlunachicks\t403\r\n"
     ]
    }
   ],
   "source": [
    "!head {DATA_DIR}/usersha1-artmbid-artname-plays.tsv"
   ]
  },
  {
   "cell_type": "code",
   "execution_count": 4,
   "metadata": {
    "slideshow": {
     "slide_type": "slide"
    }
   },
   "outputs": [],
   "source": [
    "from pyspark.sql import SparkSession\n",
    "\n",
    "spark = (\n",
    "    SparkSession\n",
    "    .builder\n",
    "    .master(\"local[*]\")\n",
    "    .getOrCreate()\n",
    ")"
   ]
  },
  {
   "cell_type": "code",
   "execution_count": 5,
   "metadata": {
    "slideshow": {
     "slide_type": "fragment"
    }
   },
   "outputs": [],
   "source": [
    "import os\n",
    "import pyspark.sql.functions as sql_func\n",
    "\n",
    "plays = (\n",
    "    spark\n",
    "    .read\n",
    "    .csv(\n",
    "        os.path.join(DATA_DIR, \"usersha1-artmbid-artname-plays.tsv\"),\n",
    "        header=False,\n",
    "        inferSchema=True,\n",
    "        sep='\\t'\n",
    "    )\n",
    "    .toDF(\"user\", \"artist\", \"artist_name\", \"plays\")\n",
    "    .where(\"LENGTH(artist) >= 35\")\n",
    "    .where(\"LENGTH(user) == 40\")\n",
    "    .where(\"plays IS NOT NULL\")\n",
    "    .drop(\"artist_name\")\n",
    ")"
   ]
  },
  {
   "cell_type": "code",
   "execution_count": 6,
   "metadata": {
    "slideshow": {
     "slide_type": "slide"
    }
   },
   "outputs": [],
   "source": [
    "# построим индексы пользователей и исполнителей\n",
    "user_index = (\n",
    "    plays\n",
    "    .select(\"user\")\n",
    "    .distinct()\n",
    "    .coalesce(1)\n",
    "    .select(\n",
    "        \"user\",\n",
    "        sql_func.monotonically_increasing_id().alias(\"user_id\")\n",
    "    )\n",
    ")\n",
    "artist_index = (\n",
    "    plays\n",
    "    .select(\"artist\")\n",
    "    .distinct()\n",
    "    .coalesce(1)\n",
    "    .select(\n",
    "        \"artist\",\n",
    "        sql_func.monotonically_increasing_id().alias(\"artist_id\")\n",
    "    )\n",
    ")"
   ]
  },
  {
   "cell_type": "code",
   "execution_count": 7,
   "metadata": {
    "slideshow": {
     "slide_type": "slide"
    }
   },
   "outputs": [
    {
     "name": "stdout",
     "output_type": "stream",
     "text": [
      "+-------+---------+-----------------+\n",
      "|user_id|artist_id|            plays|\n",
      "+-------+---------+-----------------+\n",
      "|   3932|      221|5.303304908059076|\n",
      "|   9048|      221|4.543294782270004|\n",
      "|  15430|      221|5.049856007249537|\n",
      "|  16664|      221|6.037870919922137|\n",
      "|  22832|      221|4.990432586778736|\n",
      "+-------+---------+-----------------+\n",
      "only showing top 5 rows\n",
      "\n"
     ]
    }
   ],
   "source": [
    "# перекодируем наш набор данных с использованием\n",
    "# числовых индексов вместо строковых\n",
    "triples = (\n",
    "    plays\n",
    "    .join(user_index, \"user\")\n",
    "    .join(artist_index, \"artist\")\n",
    "    .select(\n",
    "        \"user_id\",\n",
    "        \"artist_id\",\n",
    "        sql_func.log(\n",
    "            1 + sql_func.col(\"plays\")\n",
    "        ).alias(\"plays\")\n",
    "    )\n",
    "    .cache()\n",
    ")\n",
    "triples.show(n=5)"
   ]
  },
  {
   "cell_type": "code",
   "execution_count": 8,
   "metadata": {
    "slideshow": {
     "slide_type": "slide"
    }
   },
   "outputs": [],
   "source": [
    "# сохраним тройки на диск для дальнейшего использования\n",
    "(\n",
    "    triples\n",
    "    .write\n",
    "    .mode(\"overwrite\")\n",
    "    .parquet(\"/data/other/user_item_lastfm.parquet\")\n",
    ")"
   ]
  },
  {
   "cell_type": "code",
   "execution_count": 9,
   "metadata": {
    "slideshow": {
     "slide_type": "slide"
    }
   },
   "outputs": [],
   "source": [
    "# соберём индексы в виде Python-объектов\n",
    "i = triples.select(\"user_id\").rdd.map(lambda row: row.user_id).collect()\n",
    "j = triples.select(\"artist_id\").rdd.map(lambda row: row.artist_id).collect()\n",
    "data = triples.select(\"plays\").rdd.map(lambda row: row.plays).collect()\n",
    "# больше Spark нам не понадобится, так что освободим память\n",
    "spark.stop()"
   ]
  },
  {
   "cell_type": "code",
   "execution_count": 10,
   "metadata": {
    "slideshow": {
     "slide_type": "fragment"
    }
   },
   "outputs": [
    {
     "name": "stdout",
     "output_type": "stream",
     "text": [
      "номера строк (индексы пользователей): [3932, 9048, 15430, 16664, 22832]\n",
      "номера столбцов (индексы исполнителей): [221, 221, 221, 221, 221]\n",
      "элементы матрицы (количества прослушиваний): [5.303304908059076, 4.543294782270004, 5.049856007249537, 6.037870919922137, 4.990432586778736]\n"
     ]
    }
   ],
   "source": [
    "print(\"номера строк (индексы пользователей):\", i[:5])\n",
    "print(\"номера столбцов (индексы исполнителей):\", j[:5])\n",
    "print(\"элементы матрицы (количества прослушиваний):\", data[:5])"
   ]
  },
  {
   "cell_type": "code",
   "execution_count": 11,
   "metadata": {
    "slideshow": {
     "slide_type": "fragment"
    }
   },
   "outputs": [
    {
     "data": {
      "text/plain": [
       "279"
      ]
     },
     "execution_count": 11,
     "metadata": {},
     "output_type": "execute_result"
    }
   ],
   "source": [
    "from scipy.sparse import coo_matrix\n",
    "import numpy as np\n",
    "import gc\n",
    "\n",
    "# соберём разреженную матрицу из полученных данных\n",
    "user_item_matrix = coo_matrix((data, (i, j)), dtype=np.float16)\n",
    "# от самих данных избавимся, чтобы не занимать лишнюю память\n",
    "del i, j, data\n",
    "gc.collect()"
   ]
  },
  {
   "cell_type": "code",
   "execution_count": 12,
   "metadata": {
    "slideshow": {
     "slide_type": "slide"
    }
   },
   "outputs": [
    {
     "name": "stdout",
     "output_type": "stream",
     "text": [
      "размерности матрицы: (359337, 160163)\n",
      "количество ненулевых элементов: 17332977\n",
      "доля ненулевых элементов: 0.00030116814091700147\n"
     ]
    }
   ],
   "source": [
    "# разреженные матрицы - довольно удобный объект\n",
    "print(\"размерности матрицы:\", user_item_matrix.shape)\n",
    "print(\"количество ненулевых элементов:\", user_item_matrix.nnz)\n",
    "print(\"доля ненулевых элементов:\",\n",
    "      user_item_matrix.nnz / user_item_matrix.shape[0] / user_item_matrix.shape[1])"
   ]
  }
 ],
 "metadata": {
  "celltoolbar": "Slideshow",
  "kernelspec": {
   "display_name": "Python 3",
   "language": "python",
   "name": "python3"
  },
  "language_info": {
   "codemirror_mode": {
    "name": "ipython",
    "version": 3
   },
   "file_extension": ".py",
   "mimetype": "text/x-python",
   "name": "python",
   "nbconvert_exporter": "python",
   "pygments_lexer": "ipython3",
   "version": "3.6.3"
  }
 },
 "nbformat": 4,
 "nbformat_minor": 2
}
