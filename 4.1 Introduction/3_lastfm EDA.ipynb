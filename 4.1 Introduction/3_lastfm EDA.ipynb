{
 "cells": [
  {
   "cell_type": "markdown",
   "metadata": {
    "slideshow": {
     "slide_type": "slide"
    }
   },
   "source": [
    "https://www.last.fm"
   ]
  },
  {
   "cell_type": "code",
   "execution_count": 1,
   "metadata": {
    "slideshow": {
     "slide_type": "slide"
    }
   },
   "outputs": [],
   "source": [
    "%matplotlib inline\n",
    "import matplotlib.pyplot as plt\n",
    "import seaborn as sns\n",
    "\n",
    "# скачано отсюда:\n",
    "# http://mtg.upf.edu/static/datasets/last.fm/lastfm-dataset-360K.tar.gz\n",
    "DATA_DIR=\"/data/lastfm-dataset-360K/\""
   ]
  },
  {
   "cell_type": "code",
   "execution_count": 2,
   "metadata": {
    "scrolled": true,
    "slideshow": {
     "slide_type": "fragment"
    }
   },
   "outputs": [
    {
     "name": "stdout",
     "output_type": "stream",
     "text": [
      "README.txt\t usersha1-artmbid-artname-plays.tsv\r\n",
      "mbox_sha1sum.py  usersha1-profile.tsv\r\n"
     ]
    }
   ],
   "source": [
    "!ls {DATA_DIR}"
   ]
  },
  {
   "cell_type": "code",
   "execution_count": 3,
   "metadata": {
    "slideshow": {
     "slide_type": "fragment"
    }
   },
   "outputs": [
    {
     "name": "stdout",
     "output_type": "stream",
     "text": [
      "00000c289a1829a808ac09c00daf10bc3c4e223b\t3bd73256-3905-4f3a-97e2-8b341527f805\tbetty blowtorch\t2137\r\n",
      "00000c289a1829a808ac09c00daf10bc3c4e223b\tf2fb0ff0-5679-42ec-a55c-15109ce6e320\tdie ��rzte\t1099\r\n",
      "00000c289a1829a808ac09c00daf10bc3c4e223b\tb3ae82c2-e60b-4551-a76d-6620f1b456aa\tmelissa etheridge\t897\r\n",
      "00000c289a1829a808ac09c00daf10bc3c4e223b\t3d6bbeb7-f90e-4d10-b440-e153c0d10b53\telvenking\t717\r\n",
      "00000c289a1829a808ac09c00daf10bc3c4e223b\tbbd2ffd7-17f4-4506-8572-c1ea58c3f9a8\tjuliette & the licks\t706\r\n",
      "00000c289a1829a808ac09c00daf10bc3c4e223b\t8bfac288-ccc5-448d-9573-c33ea2aa5c30\tred hot chili peppers\t691\r\n",
      "00000c289a1829a808ac09c00daf10bc3c4e223b\t6531c8b1-76ea-4141-b270-eb1ac5b41375\tmagica\t545\r\n",
      "00000c289a1829a808ac09c00daf10bc3c4e223b\t21f3573f-10cf-44b3-aeaa-26cccd8448b5\tthe black dahlia murder\t507\r\n",
      "00000c289a1829a808ac09c00daf10bc3c4e223b\tc5db90c4-580d-4f33-b364-fbaa5a3a58b5\tthe murmurs\t424\r\n",
      "00000c289a1829a808ac09c00daf10bc3c4e223b\t0639533a-0402-40ba-b6e0-18b067198b73\tlunachicks\t403\r\n"
     ]
    }
   ],
   "source": [
    "# в основном файле четыре колонки, разделённых табуляциями, без заголовка\n",
    "!head {DATA_DIR}/usersha1-artmbid-artname-plays.tsv"
   ]
  },
  {
   "cell_type": "code",
   "execution_count": 4,
   "metadata": {
    "slideshow": {
     "slide_type": "slide"
    }
   },
   "outputs": [],
   "source": [
    "from pyspark.sql import SparkSession\n",
    "\n",
    "spark = (\n",
    "    SparkSession\n",
    "    .builder\n",
    "    .master(\"local[*]\")\n",
    "    .getOrCreate()\n",
    ")"
   ]
  },
  {
   "cell_type": "code",
   "execution_count": 5,
   "metadata": {
    "slideshow": {
     "slide_type": "fragment"
    }
   },
   "outputs": [],
   "source": [
    "import os\n",
    "import pyspark.sql.functions as sql_func\n",
    "\n",
    "plays = (\n",
    "    spark\n",
    "    .read\n",
    "    .csv(\n",
    "        os.path.join(DATA_DIR, \"usersha1-artmbid-artname-plays.tsv\"),\n",
    "        header=False,\n",
    "        inferSchema=True,\n",
    "        sep='\\t'\n",
    "    )\n",
    "    .sample(withReplacement=False, fraction=1.0, seed=42)\n",
    "    # имена колоном можно узнать из файла README.txt\n",
    "    .toDF(\"user\", \"artist\", \"artist_name\", \"plays\")\n",
    "    .cache()\n",
    ")"
   ]
  },
  {
   "cell_type": "code",
   "execution_count": 6,
   "metadata": {
    "scrolled": true,
    "slideshow": {
     "slide_type": "slide"
    }
   },
   "outputs": [
    {
     "name": "stdout",
     "output_type": "stream",
     "text": [
      "всего пользователей: 359349\n",
      "всего исполнителей: 292577\n",
      "всего пар пользователь-исполнитель: 17559530\n",
      "процент ненулевых пар: 0.00016701530241348985\n"
     ]
    }
   ],
   "source": [
    "# этот набор данных гораздо более разреженный, чем movielens\n",
    "total_users = plays.select(\"user\").distinct().count()\n",
    "total_artists = plays.select(\"artist_name\").distinct().count()\n",
    "total_samples = plays.count()\n",
    "print(\"всего пользователей:\", total_users)\n",
    "print(\"всего исполнителей:\", total_artists)\n",
    "print(\"всего пар пользователь-исполнитель:\", total_samples)\n",
    "print(\"процент ненулевых пар:\", total_samples / total_users / total_artists)"
   ]
  },
  {
   "cell_type": "code",
   "execution_count": 7,
   "metadata": {
    "scrolled": true,
    "slideshow": {
     "slide_type": "fragment"
    }
   },
   "outputs": [
    {
     "name": "stdout",
     "output_type": "stream",
     "text": [
      "+-------+------------------+\n",
      "|summary|             plays|\n",
      "+-------+------------------+\n",
      "|  count|          17559518|\n",
      "|   mean|215.18542764100928|\n",
      "| stddev|   614.44796397153|\n",
      "|    min|               0.0|\n",
      "|    max|          419157.0|\n",
      "+-------+------------------+\n",
      "\n"
     ]
    }
   ],
   "source": [
    "# в отличие от movielens, количества прослушиваний имеют гораздо больший размах\n",
    "plays.select(\"plays\").describe().show()"
   ]
  },
  {
   "cell_type": "code",
   "execution_count": 8,
   "metadata": {
    "slideshow": {
     "slide_type": "slide"
    }
   },
   "outputs": [
    {
     "name": "stdout",
     "output_type": "stream",
     "text": [
      "+----------------------------------------+------+-----------+-----+\n",
      "|user                                    |artist|artist_name|plays|\n",
      "+----------------------------------------+------+-----------+-----+\n",
      "|cbec2d2763c856034f5689ba13ca8addb9d24984|null  |28         |0.0  |\n",
      "+----------------------------------------+------+-----------+-----+\n",
      "\n"
     ]
    }
   ],
   "source": [
    "# есть какие-то пользователи, совершившие меньше одного прослушивания\n",
    "plays.where(\"plays < 1\").show(truncate=False)"
   ]
  },
  {
   "cell_type": "code",
   "execution_count": 9,
   "metadata": {
    "slideshow": {
     "slide_type": "fragment"
    }
   },
   "outputs": [
    {
     "name": "stdout",
     "output_type": "stream",
     "text": [
      "+----+\n",
      "|   l|\n",
      "+----+\n",
      "|null|\n",
      "|   2|\n",
      "|   3|\n",
      "|  15|\n",
      "|  35|\n",
      "|  36|\n",
      "|  37|\n",
      "+----+\n",
      "\n"
     ]
    }
   ],
   "source": [
    "# давайте посмотрим на распределение длин идентификаторов\n",
    "plays.select(sql_func.length(\"artist\").alias(\"l\")).distinct().orderBy(\"l\").show()"
   ]
  },
  {
   "cell_type": "code",
   "execution_count": 10,
   "metadata": {
    "slideshow": {
     "slide_type": "slide"
    }
   },
   "outputs": [
    {
     "name": "stdout",
     "output_type": "stream",
     "text": [
      "+---------------+--------------+\n",
      "|         artist|   artist_name|\n",
      "+---------------+--------------+\n",
      "|            211| 000 promises.|\n",
      "|rock / a30a400a|blind the fold|\n",
      "|            313|    000 things|\n",
      "|             96|    000 things|\n",
      "+---------------+--------------+\n",
      "\n"
     ]
    }
   ],
   "source": [
    "# исполнители курильщика\n",
    "plays.where(\"LENGTH(artist) < 35\").select(\"artist\", \"artist_name\").distinct().show()"
   ]
  },
  {
   "cell_type": "code",
   "execution_count": 11,
   "metadata": {
    "slideshow": {
     "slide_type": "fragment"
    }
   },
   "outputs": [
    {
     "name": "stdout",
     "output_type": "stream",
     "text": [
      "+------------------------------------+\n",
      "|artist                              |\n",
      "+------------------------------------+\n",
      "|ada7a83c-e3e1-40f1-93f9-3e73dbc9298a|\n",
      "|02fc3032-e491-46b8-8742-9859e4906dcc|\n",
      "|0a77bec1-12ef-4caa-b36a-f533001fcd29|\n",
      "|debabff3-2559-46e5-862d-ef2a906d7010|\n",
      "|d547b148-cf1f-421b-9464-ce7411ba44b8|\n",
      "+------------------------------------+\n",
      "only showing top 5 rows\n",
      "\n"
     ]
    }
   ],
   "source": [
    "# исполнители здорового человека\n",
    "plays.where(\"LENGTH(artist) >= 35\").select(\"artist\").distinct().show(truncate=False, n=5)"
   ]
  },
  {
   "cell_type": "code",
   "execution_count": 12,
   "metadata": {
    "slideshow": {
     "slide_type": "slide"
    }
   },
   "outputs": [
    {
     "name": "stdout",
     "output_type": "stream",
     "text": [
      "+------------+\n",
      "|length(user)|\n",
      "+------------+\n",
      "|          12|\n",
      "|          40|\n",
      "+------------+\n",
      "\n"
     ]
    }
   ],
   "source": [
    "# аналогичные странности есть с ID пользователя\n",
    "plays.select(sql_func.length(\"user\")).distinct().show()"
   ]
  },
  {
   "cell_type": "code",
   "execution_count": 13,
   "metadata": {
    "slideshow": {
     "slide_type": "fragment"
    }
   },
   "outputs": [
    {
     "name": "stdout",
     "output_type": "stream",
     "text": [
      "+------------+\n",
      "|        user|\n",
      "+------------+\n",
      "|sep 20, 2008|\n",
      "|dec 27, 2008|\n",
      "+------------+\n",
      "\n"
     ]
    }
   ],
   "source": [
    "# идентификаторы длины 12 выглядят странно\n",
    "plays.where(\"LENGTH(user) == 12\").select(\"user\").distinct().show()"
   ]
  },
  {
   "cell_type": "code",
   "execution_count": 14,
   "metadata": {
    "slideshow": {
     "slide_type": "slide"
    }
   },
   "outputs": [
    {
     "name": "stdout",
     "output_type": "stream",
     "text": [
      "+-------+-----------------+\n",
      "|summary|            plays|\n",
      "+-------+-----------------+\n",
      "|  count|         17332977|\n",
      "|   mean|216.0470919681022|\n",
      "| stddev| 616.996942719551|\n",
      "|    min|              1.0|\n",
      "|    max|         419157.0|\n",
      "+-------+-----------------+\n",
      "\n"
     ]
    }
   ],
   "source": [
    "# будем в дальнейшем использовать очищенное множество\n",
    "pure_plays = (\n",
    "    plays\n",
    "    .where(\"LENGTH(artist) >= 35 AND LENGTH(user) == 40\")\n",
    "    .cache()\n",
    ")\n",
    "pure_plays.select(\"plays\").describe().show()"
   ]
  },
  {
   "cell_type": "code",
   "execution_count": 15,
   "metadata": {
    "slideshow": {
     "slide_type": "fragment"
    }
   },
   "outputs": [
    {
     "name": "stdout",
     "output_type": "stream",
     "text": [
      "+-------+------------------+\n",
      "|summary|        LOG(plays)|\n",
      "+-------+------------------+\n",
      "|  count|          17332977|\n",
      "|   mean| 4.426035251429405|\n",
      "| stddev|1.4618746810751018|\n",
      "|    min|               0.0|\n",
      "|    max| 12.94600083039178|\n",
      "+-------+------------------+\n",
      "\n"
     ]
    }
   ],
   "source": [
    "# для неявной обратной связи в таком виде обычно хорошо работает\n",
    "# логарифмическая шкала\n",
    "pure_plays.select(sql_func.log(\"plays\")).describe().show()"
   ]
  },
  {
   "cell_type": "code",
   "execution_count": 16,
   "metadata": {
    "slideshow": {
     "slide_type": "slide"
    }
   },
   "outputs": [
    {
     "data": {
      "text/plain": [
       "<matplotlib.axes._subplots.AxesSubplot at 0x7f5ee0c798d0>"
      ]
     },
     "execution_count": 16,
     "metadata": {},
     "output_type": "execute_result"
    },
    {
     "data": {
      "image/png": "[encoded data removed]",
      "text/plain": [
       "<Figure size 432x288 with 1 Axes>"
      ]
     },
     "metadata": {},
     "output_type": "display_data"
    }
   ],
   "source": [
    "# распределение логарифма количества прослушиваний\n",
    "(\n",
    "    pure_plays\n",
    "    .select(sql_func.floor(sql_func.log(\"plays\")).alias(\"bucket\"))\n",
    "    .groupBy(\"bucket\")\n",
    "    .agg(sql_func.count(\"bucket\").alias(\"cnt\"))\n",
    "    .orderBy(\"bucket\")\n",
    "    .toPandas()\n",
    "    .plot(x=\"bucket\", y=\"cnt\")\n",
    ")"
   ]
  },
  {
   "cell_type": "code",
   "execution_count": 17,
   "metadata": {
    "slideshow": {
     "slide_type": "slide"
    }
   },
   "outputs": [
    {
     "data": {
      "text/html": [
       "<div>\n",
       "<style scoped>\n",
       "    .dataframe tbody tr th:only-of-type {\n",
       "        vertical-align: middle;\n",
       "    }\n",
       "\n",
       "    .dataframe tbody tr th {\n",
       "        vertical-align: top;\n",
       "    }\n",
       "\n",
       "    .dataframe thead th {\n",
       "        text-align: right;\n",
       "    }\n",
       "</style>\n",
       "<table border=\"1\" class=\"dataframe\">\n",
       "  <thead>\n",
       "    <tr style=\"text-align: right;\">\n",
       "      <th></th>\n",
       "      <th>artist</th>\n",
       "      <th>artist_name</th>\n",
       "      <th>total_plays</th>\n",
       "    </tr>\n",
       "  </thead>\n",
       "  <tbody>\n",
       "    <tr>\n",
       "      <th>0</th>\n",
       "      <td>b10bbbfc-cf9e-42e0-be17-e2c3e1d2600d</td>\n",
       "      <td>the beatles</td>\n",
       "      <td>30499140.0</td>\n",
       "    </tr>\n",
       "    <tr>\n",
       "      <th>1</th>\n",
       "      <td>a74b1b7f-71a5-4011-9441-d0b5e4122711</td>\n",
       "      <td>radiohead</td>\n",
       "      <td>27452124.0</td>\n",
       "    </tr>\n",
       "    <tr>\n",
       "      <th>2</th>\n",
       "      <td>cc197bad-dc9c-440d-a5b5-d52ba2e14234</td>\n",
       "      <td>coldplay</td>\n",
       "      <td>16701858.0</td>\n",
       "    </tr>\n",
       "    <tr>\n",
       "      <th>3</th>\n",
       "      <td>83d91898-7763-47d7-b03b-b92132375c47</td>\n",
       "      <td>pink floyd</td>\n",
       "      <td>15965959.0</td>\n",
       "    </tr>\n",
       "    <tr>\n",
       "      <th>4</th>\n",
       "      <td>65f4f0c5-ef9e-490c-aee3-909e7ae6b2ab</td>\n",
       "      <td>metallica</td>\n",
       "      <td>15498759.0</td>\n",
       "    </tr>\n",
       "  </tbody>\n",
       "</table>\n",
       "</div>"
      ],
      "text/plain": [
       "                                 artist  artist_name  total_plays\n",
       "0  b10bbbfc-cf9e-42e0-be17-e2c3e1d2600d  the beatles   30499140.0\n",
       "1  a74b1b7f-71a5-4011-9441-d0b5e4122711    radiohead   27452124.0\n",
       "2  cc197bad-dc9c-440d-a5b5-d52ba2e14234     coldplay   16701858.0\n",
       "3  83d91898-7763-47d7-b03b-b92132375c47   pink floyd   15965959.0\n",
       "4  65f4f0c5-ef9e-490c-aee3-909e7ae6b2ab    metallica   15498759.0"
      ]
     },
     "execution_count": 17,
     "metadata": {},
     "output_type": "execute_result"
    }
   ],
   "source": [
    "# выберем самых популярных исполнителей\n",
    "top_artists = (\n",
    "    pure_plays\n",
    "    .groupBy(\"artist\", \"artist_name\")\n",
    "    .agg(sql_func.sum(\"plays\").alias(\"total_plays\"))\n",
    "    .orderBy(sql_func.desc(\"total_plays\"))\n",
    "    .limit(100)\n",
    "    .toPandas()\n",
    ")\n",
    "top_artists.head()"
   ]
  },
  {
   "cell_type": "code",
   "execution_count": 18,
   "metadata": {
    "slideshow": {
     "slide_type": "slide"
    }
   },
   "outputs": [],
   "source": [
    "# посчитаем hitrate@N\n",
    "def hitrate_at_n(n: int) -> float:\n",
    "    return (\n",
    "        pure_plays\n",
    "        .join(\n",
    "            sql_func.broadcast(spark.createDataFrame(top_artists[:n])),\n",
    "            on=\"artist\",\n",
    "            how=\"left\"\n",
    "        )\n",
    "        .groupBy(\"user\")\n",
    "        .agg(sql_func.max(\"total_plays\").alias(\"some_plays\"))\n",
    "        .select(\n",
    "            sql_func.col(\"user\"),\n",
    "            sql_func.when(sql_func.col(\"some_plays\").isNotNull(), 1).otherwise(0).alias(\"hit\")\n",
    "        )\n",
    "        .agg(sql_func.avg(\"hit\").alias(\"hit_rate\"))\n",
    "        .first()[0]\n",
    "    )"
   ]
  },
  {
   "cell_type": "code",
   "execution_count": 19,
   "metadata": {
    "slideshow": {
     "slide_type": "fragment"
    }
   },
   "outputs": [
    {
     "name": "stdout",
     "output_type": "stream",
     "text": [
      "hitrate@100 = 0.9254293323537515\n",
      "hitrate@50 = 0.869095027787286\n",
      "hitrate@20 = 0.7547928546183666\n",
      "hitrate@10 = 0.6508709094805155\n",
      "hitrate@5 = 0.5333739637165112\n",
      "hitrate@1 = 0.21251638434116163\n"
     ]
    }
   ],
   "source": [
    "# чем больше элементов мы можем порекомендовать, тем лучше метрики\n",
    "for n in [100, 50, 20, 10, 5, 1]:\n",
    "    print(\"hitrate@{} = {}\".format(n, hitrate_at_n(n)))"
   ]
  },
  {
   "cell_type": "code",
   "execution_count": null,
   "metadata": {},
   "outputs": [],
   "source": []
  }
 ],
 "metadata": {
  "celltoolbar": "Slideshow",
  "kernelspec": {
   "display_name": "Python 3",
   "language": "python",
   "name": "python3"
  },
  "language_info": {
   "codemirror_mode": {
    "name": "ipython",
    "version": 3
   },
   "file_extension": ".py",
   "mimetype": "text/x-python",
   "name": "python",
   "nbconvert_exporter": "python",
   "pygments_lexer": "ipython3",
   "version": "3.6.3"
  }
 },
 "nbformat": 4,
 "nbformat_minor": 2
}
