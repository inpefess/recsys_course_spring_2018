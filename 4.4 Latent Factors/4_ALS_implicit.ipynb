{
 "cells": [
  {
   "cell_type": "code",
   "execution_count": 1,
   "metadata": {
    "scrolled": true,
    "slideshow": {
     "slide_type": "slide"
    }
   },
   "outputs": [],
   "source": [
    "from scipy.sparse import load_npz\n",
    "\n",
    "# загружаем заранее подготовленные данные\n",
    "user_item_matrix = load_npz(\"/data/other/user_item_lastfm.npz\")"
   ]
  },
  {
   "cell_type": "code",
   "execution_count": 2,
   "metadata": {
    "slideshow": {
     "slide_type": "fragment"
    }
   },
   "outputs": [
    {
     "data": {
      "text/plain": [
       "<359337x160163 sparse matrix of type '<class 'numpy.float16'>'\n",
       "\twith 17332977 stored elements in COOrdinate format>"
      ]
     },
     "execution_count": 2,
     "metadata": {},
     "output_type": "execute_result"
    }
   ],
   "source": [
    "user_item_matrix"
   ]
  },
  {
   "cell_type": "code",
   "execution_count": 3,
   "metadata": {
    "scrolled": true,
    "slideshow": {
     "slide_type": "slide"
    }
   },
   "outputs": [],
   "source": [
    "import numpy as np\n",
    "\n",
    "# делим разреженную матрицу на обучающую и тестовую\n",
    "total_len = user_item_matrix.data.size\n",
    "train_len = int(total_len * 0.8)\n",
    "all_indices = np.arange(total_len)\n",
    "np.random.seed(42)\n",
    "train_indices = np.random.choice(all_indices, train_len, replace=False)\n",
    "train_mask = np.in1d(all_indices, train_indices)"
   ]
  },
  {
   "cell_type": "code",
   "execution_count": 4,
   "metadata": {
    "slideshow": {
     "slide_type": "fragment"
    }
   },
   "outputs": [
    {
     "name": "stdout",
     "output_type": "stream",
     "text": [
      "[       0        1        2 ... 17332974 17332975 17332976]\n",
      "[ 4343353 10204053  1135877 ...  3975992  7428974  3148521]\n",
      "[ True False  True ... False  True  True]\n",
      "17332977\n"
     ]
    }
   ],
   "source": [
    "print(all_indices)\n",
    "print(train_indices)\n",
    "print(train_mask)\n",
    "print(len(train_mask))"
   ]
  },
  {
   "cell_type": "code",
   "execution_count": 5,
   "metadata": {
    "slideshow": {
     "slide_type": "slide"
    }
   },
   "outputs": [],
   "source": [
    "from scipy.sparse import coo_matrix\n",
    "\n",
    "def get_masked(arr, mask):\n",
    "    return coo_matrix(\n",
    "        (\n",
    "            [np.float32(item) for item in arr.data[mask]],\n",
    "            (arr.row[mask], arr.col[mask])\n",
    "        ),\n",
    "        arr.shape\n",
    "    )"
   ]
  },
  {
   "cell_type": "code",
   "execution_count": 6,
   "metadata": {
    "slideshow": {
     "slide_type": "fragment"
    }
   },
   "outputs": [],
   "source": [
    "train_csr = get_masked(user_item_matrix, train_mask).tocsr()\n",
    "# для обучения нужна item*user матрица\n",
    "train = train_csr.T\n",
    "test_coo = get_masked(user_item_matrix, ~train_mask)\n",
    "test_csr = test_coo.tocsr()"
   ]
  },
  {
   "cell_type": "code",
   "execution_count": 7,
   "metadata": {
    "slideshow": {
     "slide_type": "slide"
    }
   },
   "outputs": [],
   "source": [
    "from implicit.als import AlternatingLeastSquares\n",
    "import os\n",
    "\n",
    "# автор пакета утверждает, что так быстрее\n",
    "os.environ[\"OPENBLAS_NUM_THREADS\"] = \"1\"\n",
    "# обучаемся на тех же параметрах, что и в Spark\n",
    "als = AlternatingLeastSquares(\n",
    "    factors=10,\n",
    "    iterations=10,\n",
    "    regularization=0.1\n",
    ")"
   ]
  },
  {
   "cell_type": "code",
   "execution_count": 8,
   "metadata": {
    "slideshow": {
     "slide_type": "slide"
    }
   },
   "outputs": [
    {
     "name": "stdout",
     "output_type": "stream",
     "text": [
      "CPU times: user 1min 47s, sys: 2min 3s, total: 3min 51s\n",
      "Wall time: 1min 1s\n"
     ]
    }
   ],
   "source": [
    "%%time\n",
    "\n",
    "# обучает быстрее, чем Spark\n",
    "als.fit(train)"
   ]
  },
  {
   "cell_type": "code",
   "execution_count": 9,
   "metadata": {
    "slideshow": {
     "slide_type": "slide"
    }
   },
   "outputs": [
    {
     "name": "stdout",
     "output_type": "stream",
     "text": [
      "CPU times: user 8min 14s, sys: 8min 38s, total: 16min 53s\n",
      "Wall time: 4min 16s\n"
     ]
    }
   ],
   "source": [
    "%%time\n",
    "\n",
    "# обучимся на дефолтных параметрах\n",
    "als = AlternatingLeastSquares()\n",
    "als.fit(train)"
   ]
  },
  {
   "cell_type": "code",
   "execution_count": 10,
   "metadata": {
    "slideshow": {
     "slide_type": "slide"
    }
   },
   "outputs": [],
   "source": [
    "import pickle\n",
    "\n",
    "pickle_filename = \"/data/other/implicit_top50.pkl\"\n",
    "users = set(test_coo.row)"
   ]
  },
  {
   "cell_type": "code",
   "execution_count": 11,
   "metadata": {
    "scrolled": false,
    "slideshow": {
     "slide_type": "fragment"
    }
   },
   "outputs": [
    {
     "name": "stdout",
     "output_type": "stream",
     "text": [
      "CPU times: user 2h 21min 22s, sys: 43min 37s, total: 3h 5min\n",
      "Wall time: 50min 1s\n"
     ]
    }
   ],
   "source": [
    "%%time\n",
    "\n",
    "def get_recs(users, model):\n",
    "    return {\n",
    "        user: model.recommend(userid=user, user_items=train_csr, N=50)\n",
    "        for user in users\n",
    "    }\n",
    "\n",
    "# посчитаем по 50 рекомендаций для каждого пользователя из тестовой выборки\n",
    "recs = get_recs(users, als)\n",
    "# сохраним предрасчёт рекомендаций\n",
    "with open(pickle_filename, \"wb\") as f:\n",
    "    pickle.dump(recs, f)"
   ]
  },
  {
   "cell_type": "code",
   "execution_count": 12,
   "metadata": {
    "slideshow": {
     "slide_type": "fragment"
    }
   },
   "outputs": [],
   "source": [
    "# загрузим сохранённый предрасчёт\n",
    "with open(pickle_filename, \"rb\") as f:\n",
    "    recs = pickle.load(f)"
   ]
  },
  {
   "cell_type": "code",
   "execution_count": 13,
   "metadata": {
    "slideshow": {
     "slide_type": "slide"
    }
   },
   "outputs": [
    {
     "name": "stdout",
     "output_type": "stream",
     "text": [
      "hitrate@50: 0.9155975673288814\n",
      "hitrate@20: 0.8192852983866699\n",
      "hitrate@10: 0.709606153554703\n",
      "hitrate@5: 0.5763942866217018\n",
      "hitrate@1: 0.2740878179786988\n",
      "CPU times: user 2min 26s, sys: 0 ns, total: 2min 26s\n",
      "Wall time: 2min 25s\n"
     ]
    }
   ],
   "source": [
    "%%time\n",
    "\n",
    "def hitrate(k, recs, users):\n",
    "    hits = 0\n",
    "    for user in users:\n",
    "        if recs[user]:\n",
    "            rec_items, _ = zip(*recs[user])\n",
    "            hits += len(set(rec_items[:k]).intersection(set(test_csr[user].indices))) > 0\n",
    "    return hits / len(users)\n",
    "\n",
    "print(\"hitrate@50:\", hitrate(50, recs, users))\n",
    "print(\"hitrate@20:\", hitrate(20, recs, users))\n",
    "print(\"hitrate@10:\", hitrate(10, recs, users))\n",
    "print(\"hitrate@5:\", hitrate(5, recs, users))\n",
    "print(\"hitrate@1:\", hitrate(1, recs, users))\n",
    "\n",
    "# сравним с бейзлайном\n",
    "# hitrate@100 = 0.9254293323537515\n",
    "# hitrate@50 = 0.869095027787286\n",
    "# hitrate@20 = 0.7547928546183666\n",
    "# hitrate@10 = 0.6508709094805155\n",
    "# hitrate@5 = 0.5333739637165112\n",
    "# hitrate@1 = 0.21251638434116163"
   ]
  },
  {
   "cell_type": "code",
   "execution_count": null,
   "metadata": {},
   "outputs": [],
   "source": []
  }
 ],
 "metadata": {
  "celltoolbar": "Slideshow",
  "kernelspec": {
   "display_name": "Python 3",
   "language": "python",
   "name": "python3"
  },
  "language_info": {
   "codemirror_mode": {
    "name": "ipython",
    "version": 3
   },
   "file_extension": ".py",
   "mimetype": "text/x-python",
   "name": "python",
   "nbconvert_exporter": "python",
   "pygments_lexer": "ipython3",
   "version": "3.6.3"
  }
 },
 "nbformat": 4,
 "nbformat_minor": 2
}
