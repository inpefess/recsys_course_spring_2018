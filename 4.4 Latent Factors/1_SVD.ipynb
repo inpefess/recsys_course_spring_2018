{
 "cells": [
  {
   "cell_type": "code",
   "execution_count": 1,
   "metadata": {
    "slideshow": {
     "slide_type": "slide"
    }
   },
   "outputs": [],
   "source": [
    "from surprise.dataset import Dataset\n",
    "\n",
    "# загружаем встроенный набор данных\n",
    "# если не загружен - попросит загрузить (это быстро)\n",
    "data = Dataset.load_builtin(name=\"ml-1m\")"
   ]
  },
  {
   "cell_type": "code",
   "execution_count": 2,
   "metadata": {
    "slideshow": {
     "slide_type": "fragment"
    }
   },
   "outputs": [],
   "source": [
    "from surprise.model_selection import train_test_split\n",
    "\n",
    "# разбиваем на обучающую и валидационную выборки\n",
    "trainset, testset = train_test_split(data, test_size=0.2, random_state=42)"
   ]
  },
  {
   "cell_type": "code",
   "execution_count": 3,
   "metadata": {
    "slideshow": {
     "slide_type": "slide"
    }
   },
   "outputs": [
    {
     "name": "stdout",
     "output_type": "stream",
     "text": [
      "CPU times: user 42.3 s, sys: 0 ns, total: 42.3 s\n",
      "Wall time: 42.4 s\n"
     ]
    }
   ],
   "source": [
    "%%time\n",
    "from surprise import SVD\n",
    "\n",
    "# обучаем модель\n",
    "algo = SVD(random_state=42)\n",
    "algo.fit(trainset)"
   ]
  },
  {
   "cell_type": "code",
   "execution_count": 4,
   "metadata": {
    "slideshow": {
     "slide_type": "fragment"
    }
   },
   "outputs": [
    {
     "name": "stdout",
     "output_type": "stream",
     "text": [
      "CPU times: user 2.14 s, sys: 50 ms, total: 2.19 s\n",
      "Wall time: 2.2 s\n"
     ]
    }
   ],
   "source": [
    "%%time\n",
    "# получаем рекомендации на валидационном наборе\n",
    "predictions = algo.test(testset)"
   ]
  },
  {
   "cell_type": "code",
   "execution_count": 5,
   "metadata": {
    "slideshow": {
     "slide_type": "fragment"
    }
   },
   "outputs": [
    {
     "name": "stdout",
     "output_type": "stream",
     "text": [
      "RMSE: 0.8729\n",
      "CPU times: user 150 ms, sys: 10 ms, total: 160 ms\n",
      "Wall time: 164 ms\n"
     ]
    }
   ],
   "source": [
    "%%time\n",
    "from surprise.evaluate import accuracy\n",
    "\n",
    "# оцениваем качество\n",
    "accuracy.rmse(predictions)"
   ]
  },
  {
   "cell_type": "code",
   "execution_count": 6,
   "metadata": {
    "slideshow": {
     "slide_type": "slide"
    }
   },
   "outputs": [
    {
     "name": "stdout",
     "output_type": "stream",
     "text": [
      "список оценок: [(41, 3.0), (363, 4.0), (603, 3.0), (481, 5.0), (271, 5.0), (686, 5.0), (1068, 4.0), (1097, 4.0), (440, 5.0), (1603, 4.0), (151, 5.0), (1628, 5.0), (550, 5.0), (574, 5.0), (131, 5.0), (1570, 5.0), (112, 4.0), (265, 5.0), (1308, 3.0), (438, 5.0), (1562, 5.0), (520, 5.0), (828, 5.0), (210, 4.0), (63, 4.0), (934, 4.0), (394, 4.0), (832, 5.0), (325, 5.0), (2239, 4.0), (909, 4.0), (75, 4.0), (121, 5.0), (408, 5.0), (646, 5.0), (15, 5.0), (908, 5.0), (412, 5.0), (350, 5.0), (27, 5.0), (190, 5.0), (156, 5.0), (528, 5.0), (655, 4.0), (254, 5.0)]\n",
      "всего оценок: 45\n",
      "средняя оценка: 4.5777777777777775\n"
     ]
    }
   ],
   "source": [
    "# возьмём определённого пользователя\n",
    "# и посмотрим на его оценки\n",
    "user_id = 42\n",
    "user_ratings = trainset.ur[user_id]\n",
    "print(\"список оценок:\", user_ratings)\n",
    "num_ratings = len(user_ratings)\n",
    "print(\"всего оценок:\", num_ratings)\n",
    "mean_rating = sum([rating for item_id, rating in user_ratings]) / num_ratings\n",
    "print(\"средняя оценка:\", mean_rating)"
   ]
  },
  {
   "cell_type": "code",
   "execution_count": 7,
   "metadata": {
    "slideshow": {
     "slide_type": "slide"
    }
   },
   "outputs": [
    {
     "name": "stdout",
     "output_type": "stream",
     "text": [
      "user: 288        item: 3398       r_ui = 3.00   est = 3.83   {'was_impossible': False}\n",
      "3.8250928507915827\n",
      "3.8250928507915822\n"
     ]
    }
   ],
   "source": [
    "# посмотрим, как устроено предсказание\n",
    "item_id = 41\n",
    "# \"внешнее API\" - сюда подаются реальные ID пользователей и фильмов\n",
    "print(algo.predict(\n",
    "    uid=trainset.to_raw_uid(user_id),\n",
    "    iid=trainset.to_raw_iid(item_id),\n",
    "    r_ui=dict(trainset.ur[user_id])[item_id]\n",
    "))\n",
    "# внутренее API - сюда подаются внутренние ID\n",
    "print(algo.estimate(\n",
    "    u=user_id,\n",
    "    i=item_id\n",
    "))\n",
    "# формула предсказания\n",
    "print(\n",
    "    # скалярное произведение скрытых факторов пользователя и фильма\n",
    "    algo.pu[user_id].dot(algo.qi[item_id]) +\n",
    "    # смещение фильма\n",
    "    algo.bi[item_id] +\n",
    "    # смещение пользователя\n",
    "    algo.bu[user_id] +\n",
    "    # общее смещение датасета\n",
    "    trainset.global_mean\n",
    ")"
   ]
  },
  {
   "cell_type": "markdown",
   "metadata": {
    "slideshow": {
     "slide_type": "slide"
    }
   },
   "source": [
    "$$\\hat{r}_{ui}=\\mu+b_i+b_u+p_u\\cdot q_i,$$ где\n",
    "\n",
    "$\\mu$ - средняя оценка на обучающей выборке\n",
    "\n",
    "$b_i$ - смещение объекта (~средняя оценка объекта)\n",
    "\n",
    "$u_i$ - смещение пользователя (~средее по оценкам пользователя)\n",
    "\n",
    "$p_u$ - вектор скрытых факторов пользователя (~профиль, неименоваенные предпочтения)\n",
    "\n",
    "$q_u$ - вектор скрытых факторов объекта (~неименованные фичи объекта вроде жанров)"
   ]
  },
  {
   "cell_type": "code",
   "execution_count": 8,
   "metadata": {
    "slideshow": {
     "slide_type": "slide"
    }
   },
   "outputs": [
    {
     "name": "stdout",
     "output_type": "stream",
     "text": [
      "1.1107987856767139\n",
      "-1.0696380325527513\n",
      "-0.9803457306146609\n",
      "1.0947878033759693\n",
      "0.9315214141413002\n",
      "-0.0006434778125401047\n",
      "3.5125448487828127e-05\n",
      "0.14139676994807773\n",
      "0.13119236468642578\n"
     ]
    }
   ],
   "source": [
    "import numpy as np\n",
    "\n",
    "# скрытые факторы не нормированы\n",
    "print(np.linalg.norm(algo.pu[user_id]))\n",
    "# скрытые факторы не распределены от 0 до 1\n",
    "print(algo.pu.min())\n",
    "print(algo.qi.min())\n",
    "# или от -1 до 1\n",
    "print(algo.pu.max())\n",
    "print(algo.qi.max())\n",
    "# среднее и стандартное отклонение\n",
    "print(algo.qi.mean())\n",
    "print(algo.pu.mean())\n",
    "print(algo.qi.std())\n",
    "print(algo.pu.std())"
   ]
  },
  {
   "cell_type": "code",
   "execution_count": 9,
   "metadata": {
    "slideshow": {
     "slide_type": "fragment"
    }
   },
   "outputs": [
    {
     "name": "stdout",
     "output_type": "stream",
     "text": [
      "4.5777777777777775\n",
      "0.5629317460462425\n",
      "4.144421610037135\n"
     ]
    }
   ],
   "source": [
    "# смещение пользователя не равно его средней оценке\n",
    "\n",
    "print(mean_rating)\n",
    "print(algo.bu[user_id])\n",
    "print(algo.bu[user_id] + trainset.global_mean)"
   ]
  },
  {
   "cell_type": "markdown",
   "metadata": {
    "slideshow": {
     "slide_type": "slide"
    }
   },
   "source": [
    "$$L=\\sum\\limits_{r_{ui}}\\left(\\hat{r}_{ui}-r_{ui}\\right)^2+\\lambda_i\\sum\\limits_ib_i^2+\\lambda_u\\sum\\limits_ub_u^2+\\lambda_p\\sum\\limits_u\\left\\lVert p_u\\right\\rVert^2+\\lambda_q\\sum\\limits_i\\left\\lVert q_i\\right\\rVert^2$$ где\n",
    "\n",
    "$\\lambda_.$ - коэффициенты регуляризации (могут быть одинаковыми)"
   ]
  }
 ],
 "metadata": {
  "celltoolbar": "Slideshow",
  "kernelspec": {
   "display_name": "Python 3",
   "language": "python",
   "name": "python3"
  },
  "language_info": {
   "codemirror_mode": {
    "name": "ipython",
    "version": 3
   },
   "file_extension": ".py",
   "mimetype": "text/x-python",
   "name": "python",
   "nbconvert_exporter": "python",
   "pygments_lexer": "ipython3",
   "version": "3.6.3"
  }
 },
 "nbformat": 4,
 "nbformat_minor": 1
}
