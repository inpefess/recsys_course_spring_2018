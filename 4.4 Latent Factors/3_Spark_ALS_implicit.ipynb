{
 "cells": [
  {
   "cell_type": "code",
   "execution_count": 1,
   "metadata": {
    "slideshow": {
     "slide_type": "slide"
    }
   },
   "outputs": [],
   "source": [
    "from pyspark.sql import SparkSession\n",
    "\n",
    "# создаём сессию Spark\n",
    "spark = (\n",
    "    SparkSession\n",
    "    .builder\n",
    "    .master(\"local[*]\")\n",
    "    .getOrCreate()\n",
    ")"
   ]
  },
  {
   "cell_type": "code",
   "execution_count": 2,
   "metadata": {
    "slideshow": {
     "slide_type": "slide"
    }
   },
   "outputs": [],
   "source": [
    "import os\n",
    "\n",
    "# читаем подготовленный файл Last.fm\n",
    "ratings = spark.read.parquet(\"/data/other/user_item_lastfm.parquet\")"
   ]
  },
  {
   "cell_type": "code",
   "execution_count": 3,
   "metadata": {
    "slideshow": {
     "slide_type": "fragment"
    }
   },
   "outputs": [
    {
     "name": "stdout",
     "output_type": "stream",
     "text": [
      "+-------+---------+------------------+\n",
      "|user_id|artist_id|             plays|\n",
      "+-------+---------+------------------+\n",
      "|  13879|    49964|1.3862943611198906|\n",
      "|  88820|    49964|3.4657359027997265|\n",
      "| 251853|    49964|2.4849066497880004|\n",
      "| 259287|    49964|1.3862943611198906|\n",
      "| 283490|    49964|3.8066624897703196|\n",
      "| 290219|    49964|1.3862943611198906|\n",
      "| 291686|    49964|1.0986122886681098|\n",
      "| 309162|    49964| 4.543294782270004|\n",
      "| 313962|    49964| 5.332718793265369|\n",
      "| 334113|    49964| 3.258096538021482|\n",
      "| 338759|    49964|0.6931471805599453|\n",
      "| 304832|    50207|4.6913478822291435|\n",
      "|  49685|    50219|3.4339872044851463|\n",
      "|  99265|    49899| 6.932447891572509|\n",
      "| 121893|    49899| 4.672828834461906|\n",
      "| 187072|    49899|3.9889840465642745|\n",
      "|  14208|    50130|1.6094379124341003|\n",
      "|  91195|    50130|  4.02535169073515|\n",
      "| 177518|    50130|5.3471075307174685|\n",
      "| 198494|    50130| 3.044522437723423|\n",
      "+-------+---------+------------------+\n",
      "only showing top 20 rows\n",
      "\n"
     ]
    }
   ],
   "source": [
    "ratings.show()"
   ]
  },
  {
   "cell_type": "code",
   "execution_count": 4,
   "metadata": {
    "slideshow": {
     "slide_type": "slide"
    }
   },
   "outputs": [
    {
     "data": {
      "text/plain": [
       "13867106"
      ]
     },
     "execution_count": 4,
     "metadata": {},
     "output_type": "execute_result"
    }
   ],
   "source": [
    "# разбиваем на train и test\n",
    "train, test = ratings.randomSplit([0.8, 0.2], seed=42)\n",
    "train.cache()\n",
    "test.cache()\n",
    "train.count()"
   ]
  },
  {
   "cell_type": "code",
   "execution_count": 5,
   "metadata": {
    "slideshow": {
     "slide_type": "fragment"
    }
   },
   "outputs": [
    {
     "name": "stdout",
     "output_type": "stream",
     "text": [
      "CPU times: user 50 ms, sys: 0 ns, total: 50 ms\n",
      "Wall time: 1min 6s\n"
     ]
    }
   ],
   "source": [
    "%%time\n",
    "from pyspark.ml.recommendation import ALS\n",
    "\n",
    "# обучаем модель с базовыми настройками\n",
    "als = ALS(\n",
    "    userCol=\"user_id\",\n",
    "    itemCol=\"artist_id\",\n",
    "    ratingCol=\"plays\",\n",
    "    coldStartStrategy=\"drop\",\n",
    "    seed=42\n",
    ").fit(train)"
   ]
  },
  {
   "cell_type": "code",
   "execution_count": 6,
   "metadata": {
    "slideshow": {
     "slide_type": "slide"
    }
   },
   "outputs": [
    {
     "name": "stdout",
     "output_type": "stream",
     "text": [
      "RMSE на тестовой выборке: 0.676012035587525\n",
      "CPU times: user 50 ms, sys: 20 ms, total: 70 ms\n",
      "Wall time: 34 s\n"
     ]
    }
   ],
   "source": [
    "%%time\n",
    "from pyspark.ml.evaluation import RegressionEvaluator\n",
    "\n",
    "# оцениваем RMSE\n",
    "predictions = als.transform(test)\n",
    "rmse = evaluator = RegressionEvaluator(\n",
    "    metricName=\"rmse\",\n",
    "    labelCol=\"plays\",\n",
    "    predictionCol=\"prediction\"\n",
    ").evaluate(predictions)\n",
    "print(\"RMSE на тестовой выборке:\", rmse)"
   ]
  },
  {
   "cell_type": "code",
   "execution_count": 8,
   "metadata": {
    "slideshow": {
     "slide_type": "fragment"
    }
   },
   "outputs": [
    {
     "name": "stdout",
     "output_type": "stream",
     "text": [
      "CPU times: user 390 ms, sys: 240 ms, total: 630 ms\n",
      "Wall time: 36min 52s\n"
     ]
    }
   ],
   "source": [
    "%%time\n",
    "\n",
    "# получаем рекомендации по пользователям из тестовой выборки\n",
    "explicit_filename = \"/data/other/lastfm_explicit_top50.parquet\"\n",
    "als.recommendForUserSubset(\n",
    "    dataset=test.select(\"user_id\").distinct(),\n",
    "    numItems=50\n",
    ").write.mode(\"overwrite\").parquet(explicit_filename)"
   ]
  },
  {
   "cell_type": "code",
   "execution_count": 9,
   "metadata": {
    "slideshow": {
     "slide_type": "slide"
    }
   },
   "outputs": [],
   "source": [
    "explicit_recs = (\n",
    "    spark\n",
    "    .read\n",
    "    .parquet(explicit_filename)\n",
    "    .cache()\n",
    ")"
   ]
  },
  {
   "cell_type": "code",
   "execution_count": 10,
   "metadata": {
    "scrolled": true,
    "slideshow": {
     "slide_type": "fragment"
    }
   },
   "outputs": [
    {
     "data": {
      "text/plain": [
       "Row(user_id=158, recommendations=[Row(artist_id=131459, rating=5.145086288452148), Row(artist_id=135146, rating=4.845714092254639), Row(artist_id=63139, rating=4.6202874183654785), Row(artist_id=112799, rating=4.481029987335205), Row(artist_id=90171, rating=4.4052205085754395), Row(artist_id=32538, rating=4.351135730743408), Row(artist_id=116761, rating=4.325567245483398), Row(artist_id=34012, rating=4.317909240722656), Row(artist_id=25635, rating=4.248568058013916), Row(artist_id=96604, rating=4.2086567878723145), Row(artist_id=122820, rating=4.164421558380127), Row(artist_id=119201, rating=4.153027534484863), Row(artist_id=95128, rating=4.1034040451049805), Row(artist_id=95770, rating=4.049783229827881), Row(artist_id=11097, rating=4.03601598739624), Row(artist_id=77251, rating=4.027595043182373), Row(artist_id=78238, rating=4.007275581359863), Row(artist_id=27530, rating=3.9764175415039062), Row(artist_id=37412, rating=3.9198319911956787), Row(artist_id=33897, rating=3.9112632274627686), Row(artist_id=125576, rating=3.896371364593506), Row(artist_id=102329, rating=3.887073516845703), Row(artist_id=6189, rating=3.8561835289001465), Row(artist_id=42879, rating=3.8330514430999756), Row(artist_id=49485, rating=3.8222155570983887), Row(artist_id=136810, rating=3.8108558654785156), Row(artist_id=93540, rating=3.809833288192749), Row(artist_id=41065, rating=3.7887730598449707), Row(artist_id=151924, rating=3.7858409881591797), Row(artist_id=21446, rating=3.7833094596862793), Row(artist_id=146266, rating=3.7792274951934814), Row(artist_id=127661, rating=3.7593271732330322), Row(artist_id=144695, rating=3.756385326385498), Row(artist_id=27045, rating=3.7489264011383057), Row(artist_id=78901, rating=3.717374801635742), Row(artist_id=138331, rating=3.7170944213867188), Row(artist_id=127839, rating=3.7076408863067627), Row(artist_id=40581, rating=3.7059099674224854), Row(artist_id=82294, rating=3.6923816204071045), Row(artist_id=31952, rating=3.6845808029174805), Row(artist_id=135942, rating=3.6717238426208496), Row(artist_id=92630, rating=3.6716058254241943), Row(artist_id=57309, rating=3.668576240539551), Row(artist_id=151942, rating=3.6671905517578125), Row(artist_id=1619, rating=3.6632628440856934), Row(artist_id=97533, rating=3.6546783447265625), Row(artist_id=142334, rating=3.654337167739868), Row(artist_id=139282, rating=3.6533470153808594), Row(artist_id=141664, rating=3.652817487716675), Row(artist_id=92760, rating=3.6489176750183105)])"
      ]
     },
     "execution_count": 10,
     "metadata": {},
     "output_type": "execute_result"
    }
   ],
   "source": [
    "# в рекомендациях - топ 50 подходящих пользователю исполнителей\n",
    "explicit_recs.first()"
   ]
  },
  {
   "cell_type": "code",
   "execution_count": 11,
   "metadata": {
    "slideshow": {
     "slide_type": "slide"
    }
   },
   "outputs": [],
   "source": [
    "import pyspark.sql.functions as sql_func\n",
    "from pyspark.mllib.evaluation import RankingMetrics\n",
    "\n",
    "# используем стандартную Spark функцию для оценки точности\n",
    "def get_precision(recs, k):\n",
    "    predictions = (\n",
    "        recs\n",
    "        .select(\n",
    "            \"user_id\",\n",
    "            sql_func.explode(\"recommendations\").alias(\"recommendation\")\n",
    "        )\n",
    "        .select(\n",
    "            \"user_id\",\n",
    "            sql_func.col(\"recommendation\").getItem(\"artist_id\").alias(\"item_id\")\n",
    "        )\n",
    "        .groupBy(\"user_id\")\n",
    "        .agg(sql_func.collect_list(\"item_id\").alias(\"prediction\"))\n",
    "    )\n",
    "    predictions_and_labels = (\n",
    "        test\n",
    "        .groupBy(\"user_id\")\n",
    "        .agg(sql_func.collect_list(\"artist_id\").alias(\"label\"))\n",
    "        .join(predictions, \"user_id\")\n",
    "        .select(\"prediction\", \"label\")\n",
    "        .rdd\n",
    "    )\n",
    "    return RankingMetrics(predictions_and_labels).precisionAt(k)"
   ]
  },
  {
   "cell_type": "code",
   "execution_count": 12,
   "metadata": {
    "slideshow": {
     "slide_type": "slide"
    }
   },
   "outputs": [
    {
     "data": {
      "text/plain": [
       "1.8944459302843921e-06"
      ]
     },
     "execution_count": 12,
     "metadata": {},
     "output_type": "execute_result"
    }
   ],
   "source": [
    "# точность получается ниже плинтуса\n",
    "get_precision(explicit_recs, 50)"
   ]
  },
  {
   "cell_type": "code",
   "execution_count": 13,
   "metadata": {
    "slideshow": {
     "slide_type": "slide"
    }
   },
   "outputs": [
    {
     "name": "stdout",
     "output_type": "stream",
     "text": [
      "CPU times: user 50 ms, sys: 20 ms, total: 70 ms\n",
      "Wall time: 1min 14s\n"
     ]
    }
   ],
   "source": [
    "%%time\n",
    "\n",
    "# обучаем модель для неявного фидбека\n",
    "implicit_als = ALS(\n",
    "    implicitPrefs=True,\n",
    "    userCol=\"user_id\",\n",
    "    itemCol=\"artist_id\",\n",
    "    ratingCol=\"plays\",\n",
    "    coldStartStrategy=\"drop\",\n",
    "    seed=42\n",
    ").fit(train)"
   ]
  },
  {
   "cell_type": "code",
   "execution_count": 14,
   "metadata": {
    "slideshow": {
     "slide_type": "fragment"
    }
   },
   "outputs": [
    {
     "name": "stdout",
     "output_type": "stream",
     "text": [
      "RMSE на тестовой выборке: 4.488987785630976\n"
     ]
    }
   ],
   "source": [
    "# оцениваем RMSE\n",
    "predictions = implicit_als.transform(test)\n",
    "rmse = evaluator = RegressionEvaluator(\n",
    "    metricName=\"rmse\",\n",
    "    labelCol=\"plays\",\n",
    "    predictionCol=\"prediction\"\n",
    ").evaluate(predictions)\n",
    "print(\"RMSE на тестовой выборке:\", rmse)"
   ]
  },
  {
   "cell_type": "code",
   "execution_count": 15,
   "metadata": {
    "slideshow": {
     "slide_type": "slide"
    }
   },
   "outputs": [],
   "source": [
    "implicit_filename = \"/data/other/lastfm_implicit_top50.parquet\""
   ]
  },
  {
   "cell_type": "code",
   "execution_count": 16,
   "metadata": {
    "slideshow": {
     "slide_type": "fragment"
    }
   },
   "outputs": [
    {
     "name": "stdout",
     "output_type": "stream",
     "text": [
      "CPU times: user 410 ms, sys: 90 ms, total: 500 ms\n",
      "Wall time: 37min 25s\n"
     ]
    }
   ],
   "source": [
    "%%time\n",
    "\n",
    "implicit_als.recommendForUserSubset(\n",
    "    dataset=test.select(\"user_id\").distinct(),\n",
    "    numItems=50\n",
    ").write.mode(\"overwrite\").parquet(implicit_filename)"
   ]
  },
  {
   "cell_type": "code",
   "execution_count": 17,
   "metadata": {
    "slideshow": {
     "slide_type": "fragment"
    }
   },
   "outputs": [],
   "source": [
    "implicit_recs = (\n",
    "    spark\n",
    "    .read\n",
    "    .parquet(implicit_filename)\n",
    "    .cache()\n",
    ")"
   ]
  },
  {
   "cell_type": "code",
   "execution_count": 18,
   "metadata": {
    "slideshow": {
     "slide_type": "fragment"
    }
   },
   "outputs": [
    {
     "data": {
      "text/plain": [
       "0.04110735936524919"
      ]
     },
     "execution_count": 18,
     "metadata": {},
     "output_type": "execute_result"
    }
   ],
   "source": [
    "# точность модели для неявного фидбека гораздо выше\n",
    "get_precision(implicit_recs, 50)"
   ]
  },
  {
   "cell_type": "code",
   "execution_count": 19,
   "metadata": {
    "slideshow": {
     "slide_type": "fragment"
    }
   },
   "outputs": [
    {
     "data": {
      "text/plain": [
       "0.0960679103147009"
      ]
     },
     "execution_count": 19,
     "metadata": {},
     "output_type": "execute_result"
    }
   ],
   "source": [
    "get_precision(implicit_recs, 1)"
   ]
  },
  {
   "cell_type": "code",
   "execution_count": null,
   "metadata": {},
   "outputs": [],
   "source": []
  }
 ],
 "metadata": {
  "celltoolbar": "Slideshow",
  "kernelspec": {
   "display_name": "Python 3",
   "language": "python",
   "name": "python3"
  },
  "language_info": {
   "codemirror_mode": {
    "name": "ipython",
    "version": 3
   },
   "file_extension": ".py",
   "mimetype": "text/x-python",
   "name": "python",
   "nbconvert_exporter": "python",
   "pygments_lexer": "ipython3",
   "version": "3.6.3"
  }
 },
 "nbformat": 4,
 "nbformat_minor": 2
}
